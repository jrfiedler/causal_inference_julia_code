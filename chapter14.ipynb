{
 "cells": [
  {
   "cell_type": "markdown",
   "metadata": {},
   "source": [
    "# Chapter 14"
   ]
  },
  {
   "cell_type": "markdown",
   "metadata": {},
   "source": [
    "## Load packages / modules\n",
    "\n",
    "Standard library:\n",
    "- Printf for string formatting\n",
    "- Statistics for mean and std functions\n",
    "\n",
    "External:\n",
    "- CSV.jl to load CSV files\n",
    "- DataFrames.jl for tabular data\n",
    "- CategoricalArrays.jl for working with categorical data columns\n",
    "- GLM.jl for models\n",
    "- PyCall.jl for using the Python Statsmodels package\n",
    "- CairoMakie.jl for plotting\n",
    "- Roots.jl for finding a zero of a function"
   ]
  },
  {
   "cell_type": "code",
   "execution_count": 1,
   "metadata": {},
   "outputs": [],
   "source": [
    "using Printf, Statistics\n",
    "using CSV, DataFrames, CategoricalArrays, GLM, PyCall, CairoMakie, Roots"
   ]
  },
  {
   "cell_type": "markdown",
   "metadata": {},
   "source": [
    "## Load data"
   ]
  },
  {
   "cell_type": "code",
   "execution_count": 2,
   "metadata": {},
   "outputs": [],
   "source": [
    "nhefs_all = DataFrame(CSV.File(\"nhefs.csv\"));"
   ]
  },
  {
   "cell_type": "code",
   "execution_count": 3,
   "metadata": {},
   "outputs": [
    {
     "data": {
      "text/plain": [
       "(1629, 64)"
      ]
     },
     "execution_count": 3,
     "metadata": {},
     "output_type": "execute_result"
    }
   ],
   "source": [
    "size(nhefs_all)"
   ]
  },
  {
   "cell_type": "code",
   "execution_count": 4,
   "metadata": {},
   "outputs": [],
   "source": [
    "for s in [:education, :exercise, :active]\n",
    "    nhefs_all[!, s] = categorical(nhefs_all[!, s])\n",
    "end"
   ]
  },
  {
   "cell_type": "markdown",
   "metadata": {},
   "source": [
    "Add a variable for censored weight"
   ]
  },
  {
   "cell_type": "code",
   "execution_count": 5,
   "metadata": {},
   "outputs": [],
   "source": [
    "nhefs_all.censored = ismissing.(nhefs_all.wt82);"
   ]
  },
  {
   "cell_type": "markdown",
   "metadata": {},
   "source": [
    "Subset the data as in the notebook for chapter 13"
   ]
  },
  {
   "cell_type": "code",
   "execution_count": 6,
   "metadata": {},
   "outputs": [],
   "source": [
    "nhefs = dropmissing(nhefs_all, :wt82);"
   ]
  },
  {
   "cell_type": "code",
   "execution_count": 7,
   "metadata": {},
   "outputs": [
    {
     "data": {
      "text/plain": [
       "(1566, 65)"
      ]
     },
     "execution_count": 7,
     "metadata": {},
     "output_type": "execute_result"
    }
   ],
   "source": [
    "size(nhefs)"
   ]
  },
  {
   "cell_type": "markdown",
   "metadata": {},
   "source": [
    "## Section 14.3"
   ]
  },
  {
   "cell_type": "markdown",
   "metadata": {},
   "source": [
    "### Program 14.1"
   ]
  },
  {
   "cell_type": "markdown",
   "metadata": {},
   "source": [
    "\"In our smoking cessation example, we will use the nonstabilized IP weights $W^C = 1 \\, / \\, \\Pr[C = 0|L,A]$ that we estimated in Chapter 12. Again we assume that the vector of variables $L$ is sufficient to adjust for both confounding and selection bias.\"  (pg 174)"
   ]
  },
  {
   "cell_type": "markdown",
   "metadata": {},
   "source": [
    "We can reuse a function from chapter 12 to help us create IP weights"
   ]
  },
  {
   "cell_type": "code",
   "execution_count": 8,
   "metadata": {},
   "outputs": [],
   "source": [
    "\"\"\"\n",
    "    logit_ip_f(spec, data, y_name=:qsmk)\n",
    "\n",
    "Create the f(y|X) part of IP weights from logistic regression\n",
    "\n",
    "# Arguments\n",
    "- `spec::FormulaTerm`: model formula\n",
    "- `data::DataFrame`: data to fit model\n",
    "- `y_name::Symbol`: name of outcome variable in `data` and `spec`\n",
    "\n",
    "# Returns\n",
    "- `Array`: IP weights\n",
    "\n",
    "\"\"\"\n",
    "function logit_ip_f(spec::FormulaTerm, data::DataFrame, y_name::Symbol = :qsmk)\n",
    "    model = glm(spec, data, Binomial(), LogitLink())\n",
    "\n",
    "    y_vals = data[!, y_name]\n",
    "    pred_y = predict(model, data)\n",
    "    pred_y0 = pred_y[y_vals .== 0]\n",
    "    pred_y1 = pred_y[y_vals .== 1]\n",
    "\n",
    "    weights = zeros(size(data, 1))\n",
    "    weights[y_vals .== 1] = pred_y1\n",
    "    weights[y_vals .== 0] = (1 .- pred_y0)\n",
    "    weights\n",
    "end;"
   ]
  },
  {
   "cell_type": "code",
   "execution_count": 9,
   "metadata": {},
   "outputs": [],
   "source": [
    "spec = @formula(\n",
    "    censored ~ sex\n",
    "             + race\n",
    "             + age + age ^ 2\n",
    "             + education\n",
    "             + smokeintensity + smokeintensity ^ 2\n",
    "             + smokeyrs + smokeyrs ^ 2\n",
    "             + exercise\n",
    "             + active\n",
    "             + wt71 + wt71 ^ 2\n",
    "             + qsmk\n",
    ")\n",
    "weights = 1 ./ logit_ip_f(spec, nhefs_all, :censored);"
   ]
  },
  {
   "cell_type": "code",
   "execution_count": 10,
   "metadata": {},
   "outputs": [],
   "source": [
    "ip_censor = weights[nhefs_all.censored .== 0];"
   ]
  },
  {
   "cell_type": "code",
   "execution_count": 11,
   "metadata": {},
   "outputs": [
    {
     "name": "stdout",
     "output_type": "stream",
     "text": [
      "   min     mean      max\n",
      "------------------------\n",
      "  1.00     1.04     1.82"
     ]
    }
   ],
   "source": [
    "println(\"   min     mean      max\")\n",
    "println(\"------------------------\")\n",
    "@printf \"%6.2f   %6.2f   %6.2f\" minimum(ip_censor) mean(ip_censor) maximum(ip_censor)"
   ]
  },
  {
   "cell_type": "markdown",
   "metadata": {},
   "source": [
    "## Section 14.4"
   ]
  },
  {
   "cell_type": "markdown",
   "metadata": {},
   "source": [
    "Still Program 14.1"
   ]
  },
  {
   "cell_type": "markdown",
   "metadata": {},
   "source": [
    "\"all individuals can be ranked according to the value of their observed outcome Y\""
   ]
  },
  {
   "cell_type": "code",
   "execution_count": 12,
   "metadata": {},
   "outputs": [],
   "source": [
    "ranked = sort(nhefs, :wt82_71, rev=true);"
   ]
  },
  {
   "cell_type": "code",
   "execution_count": 13,
   "metadata": {},
   "outputs": [
    {
     "data": {
      "text/html": [
       "<div class=\"data-frame\"><p>2 rows × 2 columns</p><table class=\"data-frame\"><thead><tr><th></th><th>seqn</th><th>wt82_71</th></tr><tr><th></th><th title=\"Int64\">Int64</th><th title=\"Union{Missing, Float64}\">Float64?</th></tr></thead><tbody><tr><th>1</th><td>23522</td><td>48.5384</td></tr><tr><th>2</th><td>6928</td><td>47.5113</td></tr></tbody></table></div>"
      ],
      "text/latex": [
       "\\begin{tabular}{r|cc}\n",
       "\t& seqn & wt82\\_71\\\\\n",
       "\t\\hline\n",
       "\t& Int64 & Float64?\\\\\n",
       "\t\\hline\n",
       "\t1 & 23522 & 48.5384 \\\\\n",
       "\t2 & 6928 & 47.5113 \\\\\n",
       "\\end{tabular}\n"
      ],
      "text/plain": [
       "\u001b[1m2×2 DataFrame\u001b[0m\n",
       "\u001b[1m Row \u001b[0m│\u001b[1m seqn  \u001b[0m\u001b[1m wt82_71  \u001b[0m\n",
       "\u001b[1m     \u001b[0m│\u001b[90m Int64 \u001b[0m\u001b[90m Float64? \u001b[0m\n",
       "─────┼─────────────────\n",
       "   1 │ 23522   48.5384\n",
       "   2 │  6928   47.5113"
      ]
     },
     "execution_count": 13,
     "metadata": {},
     "output_type": "execute_result"
    }
   ],
   "source": [
    "ranked[1:2, [:seqn, :wt82_71]]"
   ]
  },
  {
   "cell_type": "code",
   "execution_count": 14,
   "metadata": {},
   "outputs": [
    {
     "data": {
      "text/html": [
       "<p>DataFrameRow (2 columns)</p><div class=\"data-frame\"><table class=\"data-frame\"><thead><tr><th></th><th>seqn</th><th>wt82_71</th></tr><tr><th></th><th title=\"Int64\">Int64</th><th title=\"Union{Missing, Float64}\">Float64?</th></tr></thead><tbody><tr><th>1566</th><td>23321</td><td>-41.2805</td></tr></tbody></table></div>"
      ],
      "text/latex": [
       "\\begin{tabular}{r|cc}\n",
       "\t& seqn & wt82\\_71\\\\\n",
       "\t\\hline\n",
       "\t& Int64 & Float64?\\\\\n",
       "\t\\hline\n",
       "\t1566 & 23321 & -41.2805 \\\\\n",
       "\\end{tabular}\n"
      ],
      "text/plain": [
       "\u001b[1mDataFrameRow\u001b[0m\n",
       "\u001b[1m  Row \u001b[0m│\u001b[1m seqn  \u001b[0m\u001b[1m wt82_71  \u001b[0m\n",
       "\u001b[1m      \u001b[0m│\u001b[90m Int64 \u001b[0m\u001b[90m Float64? \u001b[0m\n",
       "──────┼─────────────────\n",
       " 1566 │ 23321  -41.2805"
      ]
     },
     "execution_count": 14,
     "metadata": {},
     "output_type": "execute_result"
    }
   ],
   "source": [
    "ranked[end, [:seqn, :wt82_71]]"
   ]
  },
  {
   "cell_type": "markdown",
   "metadata": {},
   "source": [
    "## Section 14.5"
   ]
  },
  {
   "cell_type": "markdown",
   "metadata": {},
   "source": [
    "### Program 14.2"
   ]
  },
  {
   "cell_type": "markdown",
   "metadata": {},
   "source": [
    "\"In our smoking cessation example, we first computed each individual’s value of the 31 candidates $H(2.0), H(2.1), H(2.2), \\ldots , H(4.9)$ and $H(5.0)$ ...\""
   ]
  },
  {
   "cell_type": "markdown",
   "metadata": {},
   "source": [
    "As in Chapter 12, we'll use the Python Statsmodels package for any model with clustering in covariance estimation, and we'll use GLM models where we might instead use GEE."
   ]
  },
  {
   "cell_type": "code",
   "execution_count": 15,
   "metadata": {},
   "outputs": [],
   "source": [
    "sm = pyimport(\"statsmodels.api\");"
   ]
  },
  {
   "cell_type": "markdown",
   "metadata": {},
   "source": [
    "To de-clutter, we'll silence a warning from Statsmodels"
   ]
  },
  {
   "cell_type": "code",
   "execution_count": 16,
   "metadata": {},
   "outputs": [],
   "source": [
    "pywarn = pyimport(\"warnings\")\n",
    "pywarn.simplefilter(\"ignore\");"
   ]
  },
  {
   "cell_type": "markdown",
   "metadata": {},
   "source": [
    "Now we'll create a function that will perform the regression and return the info we need"
   ]
  },
  {
   "cell_type": "markdown",
   "metadata": {},
   "source": [
    "The function returns a few different things we'll want from the regressions\n",
    "1. absolute value of the coefficient (the basis of comparison),\n",
    "2. the value of the coefficient\n",
    "3. the value of psi that produced the coefficient, and\n",
    "4. the p-value (for finding the 95% confidence interval)"
   ]
  },
  {
   "cell_type": "code",
   "execution_count": 17,
   "metadata": {},
   "outputs": [],
   "source": [
    "\"\"\"\n",
    "    logit_g_info(psi, data, y, X_cols, weights)\n",
    "\n",
    "Return logistic regression parameters to identify best `psi`\n",
    "\n",
    "Note: this is written specifically for the problem in this program,\n",
    "and, for example, assumes the last column of `X_cols` is `:H_of_psi`.\n",
    "\n",
    "# Arguments\n",
    "- `psi::Float`\n",
    "- `data::DataFrame`\n",
    "- `y::Array`\n",
    "- `X_cols::Array{String}`\n",
    "- `weights::Array{Float}`\n",
    "\n",
    "# Returns\n",
    "- `NamedTuple` :\n",
    "    - absolute value of H_of_psi coefficient\n",
    "    - H_of_psi coefficient\n",
    "    - psi value\n",
    "    - p-value for H_of_psi coefficient\n",
    "\n",
    "\"\"\"\n",
    "function logit_g_info(psi, data, y, X_cols, weights)\n",
    "    data.H_of_psi = data.wt82_71 .- psi .* data.qsmk\n",
    "    X = Matrix(data[!, X_cols])\n",
    "    groups = convert(Array{Int}, data.seqn)\n",
    "    \n",
    "    lgt = sm.GLM(y, X, freq_weights=weights, family=sm.families.Binomial())\n",
    "    res = lgt.fit(cov_type=\"cluster\", cov_kwds=Dict(\"groups\" => groups))\n",
    "\n",
    "    alpha = res.params[end]\n",
    "    pvalue = res.pvalues[end]\n",
    "    return (abs_alpha=abs(alpha), alpha=alpha, psi=psi, pvalue=pvalue)\n",
    "end;"
   ]
  },
  {
   "cell_type": "markdown",
   "metadata": {},
   "source": [
    "For all uses here, `y` and the `X` columns are the same.\n",
    "\n",
    "When passing `y` and `X` to Statsmodels, `nhefs` data will need\n",
    "- a column of 1's\n",
    "- categorical columns expanded into dummy encoding, and\n",
    "- explicit squared columns"
   ]
  },
  {
   "cell_type": "code",
   "execution_count": 18,
   "metadata": {},
   "outputs": [],
   "source": [
    "nhefs.constant = ones(nrow(nhefs));"
   ]
  },
  {
   "cell_type": "code",
   "execution_count": 19,
   "metadata": {},
   "outputs": [],
   "source": [
    "X_cols = [\"constant\", \"sex\", \"race\"]\n",
    "\n",
    "for column in [\"education\", \"exercise\", \"active\"]\n",
    "    for (value_num, value) in enumerate(sort(unique(nhefs[!, column])))\n",
    "        if value_num > 1\n",
    "            newname = column * \"_$value\"\n",
    "            transform!(nhefs, column => (x -> x .== value) => newname)\n",
    "            push!(X_cols, newname)\n",
    "        end\n",
    "    end\n",
    "end\n",
    "\n",
    "for column in [\"age\", \"smokeintensity\", \"smokeyrs\", \"wt71\"]\n",
    "    newname = column * \"^2\"\n",
    "    transform!(nhefs, column => (x -> x .^ 2) => newname)\n",
    "    push!(X_cols, column)\n",
    "    push!(X_cols, newname)\n",
    "end\n",
    "\n",
    "push!(X_cols, \"H_of_psi\");"
   ]
  },
  {
   "cell_type": "code",
   "execution_count": 20,
   "metadata": {},
   "outputs": [],
   "source": [
    "y = nhefs.qsmk;"
   ]
  },
  {
   "cell_type": "markdown",
   "metadata": {},
   "source": [
    "We'll run the regression once for the known right answer"
   ]
  },
  {
   "cell_type": "code",
   "execution_count": 21,
   "metadata": {},
   "outputs": [],
   "source": [
    "g_info = logit_g_info(3.446, nhefs, y, X_cols, ip_censor);"
   ]
  },
  {
   "cell_type": "code",
   "execution_count": 22,
   "metadata": {},
   "outputs": [
    {
     "name": "stdout",
     "output_type": "stream",
     "text": [
      "psi: 3.446  regression coefficient: -1.9e-06"
     ]
    }
   ],
   "source": [
    "@printf \"psi: %0.3f  regression coefficient: %0.2g\" g_info.psi g_info.alpha"
   ]
  },
  {
   "cell_type": "markdown",
   "metadata": {},
   "source": [
    "Now we'll do the course-grained search for $\\psi$ with $H(2.0), H(2.1), H(2.2), \\ldots , H(4.9)$ and $H(5.0)$ (pg 178)"
   ]
  },
  {
   "cell_type": "code",
   "execution_count": 23,
   "metadata": {},
   "outputs": [],
   "source": [
    "psi_vals = collect(2.0:0.1:5.0);"
   ]
  },
  {
   "cell_type": "code",
   "execution_count": 24,
   "metadata": {},
   "outputs": [],
   "source": [
    "g_info = [\n",
    "    logit_g_info(psi, nhefs, nhefs.qsmk, X_cols, ip_censor)\n",
    "    for psi in psi_vals\n",
    "];"
   ]
  },
  {
   "cell_type": "code",
   "execution_count": 25,
   "metadata": {},
   "outputs": [],
   "source": [
    "# by default, `min` will minimize the first value,\n",
    "# which in this case is the absolute value of the coefficient\n",
    "best = minimum(g_info) ;"
   ]
  },
  {
   "cell_type": "code",
   "execution_count": 26,
   "metadata": {},
   "outputs": [
    {
     "name": "stdout",
     "output_type": "stream",
     "text": [
      "best psi: 3.4000  best alpha: 0.00086"
     ]
    }
   ],
   "source": [
    "@printf \"best psi: %0.4f  best alpha: %0.5f\" best.psi best.alpha"
   ]
  },
  {
   "cell_type": "markdown",
   "metadata": {},
   "source": [
    "The plot below shows $p$-value as a function of $\\psi$, with a red line at 0.05."
   ]
  },
  {
   "cell_type": "code",
   "execution_count": 27,
   "metadata": {},
   "outputs": [
    {
     "data": {
      "image/png": "[encoded data removed]",
      "text/plain": [
       "Figure()"
      ]
     },
     "execution_count": 27,
     "metadata": {},
     "output_type": "execute_result"
    }
   ],
   "source": [
    "fig = Figure(resolution=(600, 400)) \n",
    "ax = Axis(fig[1, 1], xlabel=\"ψ value\", ylabel=\"p value\")\n",
    "\n",
    "lines!(ax, psi_vals, [trial.pvalue for trial in g_info])\n",
    "abline!(ax, 0.05, 0, color=:red)\n",
    "\n",
    "fig"
   ]
  },
  {
   "cell_type": "markdown",
   "metadata": {},
   "source": [
    "To find the 95% confidence interval, we find the last values that are below the line, coming from the left and the right."
   ]
  },
  {
   "cell_type": "code",
   "execution_count": 28,
   "metadata": {},
   "outputs": [
    {
     "name": "stdout",
     "output_type": "stream",
     "text": [
      "95% confidence interval: (2.50, 4.50)"
     ]
    }
   ],
   "source": [
    "cutoff = 0.05\n",
    "ci_lo = maximum([g.psi for g in g_info[1:length(g_info)÷2] if g.pvalue < cutoff])\n",
    "ci_hi = minimum([g.psi for g in g_info[length(g_info)÷2:end] if g.pvalue < cutoff])\n",
    "\n",
    "@printf \"95%% confidence interval: (%0.2f, %0.2f)\" ci_lo ci_hi"
   ]
  },
  {
   "cell_type": "markdown",
   "metadata": {},
   "source": [
    "We can run a finer search between 3.4 and 3.5, with steps of 0.001. That can be done using the same steps as above, but using\n",
    "\n",
    "```julia\n",
    "psi_vals = collect(3.4:0.001:3.5)\n",
    "```\n",
    "\n",
    "Instead, we'll use automatic function optimization to find a more exact $\\psi$."
   ]
  },
  {
   "cell_type": "code",
   "execution_count": 29,
   "metadata": {},
   "outputs": [],
   "source": [
    "function abs_alpha(psi)\n",
    "    g_info = logit_g_info(psi, nhefs, nhefs.qsmk, X_cols, ip_censor)\n",
    "    return g_info.abs_alpha\n",
    "end;"
   ]
  },
  {
   "cell_type": "code",
   "execution_count": 30,
   "metadata": {},
   "outputs": [
    {
     "data": {
      "text/plain": [
       "3.445898804229873"
      ]
     },
     "execution_count": 30,
     "metadata": {},
     "output_type": "execute_result"
    }
   ],
   "source": [
    "find_zero(abs_alpha, 4.0)"
   ]
  },
  {
   "cell_type": "markdown",
   "metadata": {},
   "source": [
    "The output is the estimated $\\psi$, which rounds to 3.446, as expected."
   ]
  },
  {
   "cell_type": "markdown",
   "metadata": {},
   "source": [
    "## Section 14.6"
   ]
  },
  {
   "cell_type": "markdown",
   "metadata": {},
   "source": [
    "### Program 14.3"
   ]
  },
  {
   "cell_type": "markdown",
   "metadata": {},
   "source": [
    "We can solve for $\\psi$ directly. From Technical Point 14.2, in the one-parameter case we have\n",
    "\n",
    "$$\n",
    "\\hat\\psi = \\frac{\n",
    "    \\sum_{i=1}^{N} W_i^C Y_i\\left( A_i - \\mathrm{E}[A|L_i]\\right)\n",
    "}{\n",
    "    \\sum_{i=1}^{N} W_i^C A_i\\left( A_i - \\mathrm{E}[A|L_i]\\right)\n",
    "},\n",
    "$$\n",
    "\n",
    "where the sum is over the uncensored observations, $W^C$ is the IP weights, $Y$ is `wt82_71`, $A$ is `qsmk`, and $\\mathrm{E}[A|L_i]$ is the predicted `qsmk` from the model below."
   ]
  },
  {
   "cell_type": "code",
   "execution_count": 31,
   "metadata": {},
   "outputs": [
    {
     "data": {
      "text/plain": [
       "StatsModels.TableRegressionModel{GeneralizedLinearModel{GLM.GlmResp{Vector{Float64}, Binomial{Float64}, LogitLink}, GLM.DensePredChol{Float64, LinearAlgebra.Cholesky{Float64, Matrix{Float64}}}}, Matrix{Float64}}\n",
       "\n",
       "qsmk ~ 1 + sex + race + age + :(age ^ 2) + education + smokeintensity + :(smokeintensity ^ 2) + smokeyrs + :(smokeyrs ^ 2) + exercise + active + wt71 + :(wt71 ^ 2)\n",
       "\n",
       "Coefficients:\n",
       "──────────────────────────────────────────────────────────────────────────────────────────\n",
       "                           Coef.   Std. Error      z  Pr(>|z|)     Lower 95%     Upper 95%\n",
       "──────────────────────────────────────────────────────────────────────────────────────────\n",
       "(Intercept)         -2.40295      1.31356      -1.83    0.0673  -4.97748       0.171585\n",
       "sex                 -0.513729     0.150072     -3.42    0.0006  -0.807865     -0.219594\n",
       "race                -0.86089      0.205875     -4.18    <1e-04  -1.2644       -0.457382\n",
       "age                  0.115158     0.0494576     2.33    0.0199   0.0182229     0.212093\n",
       "age ^ 2             -0.000759309  0.000513779  -1.48    0.1394  -0.0017663     0.00024768\n",
       "education: 2        -0.0289391    0.192895     -0.15    0.8807  -0.407006      0.349128\n",
       "education: 3         0.0877053    0.173067      0.51    0.6123  -0.251499      0.42691\n",
       "education: 4         0.0663707    0.265965      0.25    0.8029  -0.454912      0.587653\n",
       "education: 5         0.471085     0.221074      2.13    0.0331   0.0377884     0.904382\n",
       "smokeintensity      -0.0783425    0.0148585    -5.27    <1e-06  -0.107465     -0.0492204\n",
       "smokeintensity ^ 2   0.00107216   0.000278115   3.86    0.0001   0.000527066   0.00161726\n",
       "smokeyrs            -0.0711098    0.0270647    -2.63    0.0086  -0.124156     -0.0180639\n",
       "smokeyrs ^ 2         0.000815277  0.000445362   1.83    0.0672  -5.76162e-5    0.00168817\n",
       "exercise: 1          0.336342     0.174983      1.92    0.0546  -0.00661769    0.679301\n",
       "exercise: 2          0.380046     0.181541      2.09    0.0363   0.0242333     0.735859\n",
       "active: 1            0.0341242    0.130229      0.26    0.7933  -0.22112       0.289368\n",
       "active: 2            0.213456     0.206031      1.04    0.3002  -0.190358      0.61727\n",
       "wt71                -0.00766083   0.0245728    -0.31    0.7552  -0.0558226     0.0405009\n",
       "wt71 ^ 2             8.65534e-5   0.000150702   0.57    0.5657  -0.000208817   0.000381924\n",
       "──────────────────────────────────────────────────────────────────────────────────────────"
      ]
     },
     "execution_count": 31,
     "metadata": {},
     "output_type": "execute_result"
    }
   ],
   "source": [
    "spec = @formula(\n",
    "    qsmk ~ sex\n",
    "         + race\n",
    "         + age + age ^ 2\n",
    "         + education\n",
    "         + smokeintensity + smokeintensity ^ 2\n",
    "         + smokeyrs + smokeyrs ^ 2\n",
    "         + exercise\n",
    "         + active\n",
    "         + wt71 + wt71 ^ 2\n",
    ")\n",
    "model = glm(spec, nhefs, Binomial(), LogitLink(), wts=ip_censor)"
   ]
  },
  {
   "cell_type": "markdown",
   "metadata": {},
   "source": [
    "Using the equation at the top of this section, $\\hat{\\psi}$ is calculated as below"
   ]
  },
  {
   "cell_type": "code",
   "execution_count": 32,
   "metadata": {},
   "outputs": [
    {
     "data": {
      "text/plain": [
       "3.4458972305360316"
      ]
     },
     "execution_count": 32,
     "metadata": {},
     "output_type": "execute_result"
    }
   ],
   "source": [
    "A = nhefs.qsmk\n",
    "A_pred = predict(model, nhefs)\n",
    "Y = nhefs.wt82_71\n",
    "\n",
    "estimate = (\n",
    "    sum(ip_censor .* Y .* (A .- A_pred)) /\n",
    "    sum(ip_censor .* A .* (A .- A_pred))\n",
    ")"
   ]
  },
  {
   "cell_type": "markdown",
   "metadata": {},
   "source": [
    "Now a multi-parameter example\n",
    "\n",
    "\"If $\\psi$ is D-dimensional...\" (Technical Point 14.2).\n",
    "\n",
    "\"For example, suppose we believe that the average causal effect of smoking cessation depends on the baseline level os smoking intensity $V$\" (pg 180).\n",
    "\n",
    "The following is a direct translation of what's in the R and Stata code examples"
   ]
  },
  {
   "cell_type": "code",
   "execution_count": 33,
   "metadata": {},
   "outputs": [],
   "source": [
    "diff = A .- A_pred\n",
    "diff2 = ip_censor .* diff;"
   ]
  },
  {
   "cell_type": "code",
   "execution_count": 34,
   "metadata": {},
   "outputs": [
    {
     "data": {
      "text/plain": [
       "2×2 Matrix{Float64}:\n",
       "  292.076  5701.55\n",
       " 5701.55      1.53045e5"
      ]
     },
     "execution_count": 34,
     "metadata": {},
     "output_type": "execute_result"
    }
   ],
   "source": [
    "lhs = [\n",
    "    sum(A .* diff2),\n",
    "    sum(A .* nhefs.smokeintensity .* diff2),\n",
    "    sum(A .* nhefs.smokeintensity .* diff2),\n",
    "    sum(A .* nhefs.smokeintensity.^2 .* diff2)\n",
    "]\n",
    "\n",
    "lhs = reshape(lhs, 2, 2)"
   ]
  },
  {
   "cell_type": "code",
   "execution_count": 35,
   "metadata": {},
   "outputs": [
    {
     "data": {
      "text/plain": [
       "2-element Vector{Float64}:\n",
       "  1006.4643890774512\n",
       " 20901.0547394765"
      ]
     },
     "execution_count": 35,
     "metadata": {},
     "output_type": "execute_result"
    }
   ],
   "source": [
    "rhs = [\n",
    "    sum(Y .* diff2) \n",
    "    sum(Y .* nhefs.smokeintensity .* diff2)\n",
    "]"
   ]
  },
  {
   "cell_type": "code",
   "execution_count": 36,
   "metadata": {},
   "outputs": [
    {
     "data": {
      "text/plain": [
       "2-element Vector{Float64}:\n",
       " 2.85946930675507\n",
       " 0.030041257476582983"
      ]
     },
     "execution_count": 36,
     "metadata": {},
     "output_type": "execute_result"
    }
   ],
   "source": [
    "psi = inv(lhs) * rhs"
   ]
  }
 ],
 "metadata": {
  "kernelspec": {
   "display_name": "Julia 1.6.0",
   "language": "julia",
   "name": "julia-1.6"
  },
  "language_info": {
   "file_extension": ".jl",
   "mimetype": "application/julia",
   "name": "julia",
   "version": "1.6.0"
  }
 },
 "nbformat": 4,
 "nbformat_minor": 4
}
