{
 "cells": [
  {
   "cell_type": "markdown",
   "metadata": {},
   "source": [
    "# Chapter 16"
   ]
  },
  {
   "cell_type": "markdown",
   "metadata": {},
   "source": [
    "## Load packages / modules\n",
    "\n",
    "Standard library:\n",
    "- Printf for string formatting\n",
    "- Statistics for mean and std functions\n",
    "\n",
    "External:\n",
    "- CSV.jl to load CSV files\n",
    "- DataFrames.jl for tabular data\n",
    "- CategoricalArrays.jl for working with categorical data columns and the `cut` function\n",
    "- GLM.jl for models\n",
    "- Econometrics.jl for instrumental variable 2-stage model\n",
    "- PyCall.jl for using the Python Statsmodels package\n",
    "- Roots.jl for finding a zero of a function"
   ]
  },
  {
   "cell_type": "code",
   "execution_count": 1,
   "metadata": {},
   "outputs": [],
   "source": [
    "using Printf, Statistics\n",
    "using CSV, DataFrames, CategoricalArrays, GLM, Econometrics, PyCall, Roots"
   ]
  },
  {
   "cell_type": "markdown",
   "metadata": {},
   "source": [
    "## Load data"
   ]
  },
  {
   "cell_type": "code",
   "execution_count": 2,
   "metadata": {},
   "outputs": [],
   "source": [
    "nhefs_all = DataFrame(CSV.File(\"nhefs.csv\"));"
   ]
  },
  {
   "cell_type": "code",
   "execution_count": 3,
   "metadata": {},
   "outputs": [
    {
     "data": {
      "text/plain": [
       "(1629, 64)"
      ]
     },
     "execution_count": 3,
     "metadata": {},
     "output_type": "execute_result"
    }
   ],
   "source": [
    "size(nhefs_all)"
   ]
  },
  {
   "cell_type": "code",
   "execution_count": 4,
   "metadata": {},
   "outputs": [],
   "source": [
    "for s in [:education, :exercise, :active]\n",
    "    nhefs_all[!, s] = categorical(nhefs_all[!, s])\n",
    "end"
   ]
  },
  {
   "cell_type": "markdown",
   "metadata": {},
   "source": [
    "## Section 16.1"
   ]
  },
  {
   "cell_type": "markdown",
   "metadata": {},
   "source": [
    "Create the instrument, $Z$"
   ]
  },
  {
   "cell_type": "code",
   "execution_count": 5,
   "metadata": {},
   "outputs": [],
   "source": [
    "nhefs_all.highprice = (nhefs_all.price82 .>= 1.5);"
   ]
  },
  {
   "cell_type": "markdown",
   "metadata": {},
   "source": [
    "We'll use a different subset of the data than used previously"
   ]
  },
  {
   "cell_type": "code",
   "execution_count": 6,
   "metadata": {},
   "outputs": [],
   "source": [
    "restriction_cols = [:wt82, :price82]\n",
    "nhefs = dropmissing(nhefs_all, restriction_cols);"
   ]
  },
  {
   "cell_type": "code",
   "execution_count": 7,
   "metadata": {},
   "outputs": [
    {
     "data": {
      "text/plain": [
       "(1476, 65)"
      ]
     },
     "execution_count": 7,
     "metadata": {},
     "output_type": "execute_result"
    }
   ],
   "source": [
    "size(nhefs)"
   ]
  },
  {
   "cell_type": "markdown",
   "metadata": {},
   "source": [
    "We'll check whether $Z$ (`highprice`) and $A$ (`qsmk`) are associated, that $\\Pr[A=1|Z=1] - \\Pr[A=1|Z=0] \\not = 0$"
   ]
  },
  {
   "cell_type": "code",
   "execution_count": 8,
   "metadata": {},
   "outputs": [
    {
     "name": "stdout",
     "output_type": "stream",
     "text": [
      "              Pr[A=1|Z=1] = 25.8%\n",
      "              Pr[A=1|Z=0] = 19.5%\n",
      "Pr[A=1|Z=1] − Pr[A=1|Z=0] =  6.3%"
     ]
    }
   ],
   "source": [
    "a_given_z1 = nhefs.qsmk[nhefs.highprice .== 1]\n",
    "a_given_z0 = nhefs.qsmk[nhefs.highprice .== 0]\n",
    "\n",
    "pr_a1_z1 = sum(a_given_z1 .== 1) / size(a_given_z1, 1)\n",
    "pr_a1_z0 = sum(a_given_z0 .== 1) / size(a_given_z0, 1)\n",
    "\n",
    "@printf \"              Pr[A=1|Z=1] = %4.1f%%\\n\" pr_a1_z1 * 100\n",
    "@printf \"              Pr[A=1|Z=0] = %4.1f%%\\n\" pr_a1_z0 * 100\n",
    "@printf \"Pr[A=1|Z=1] − Pr[A=1|Z=0] = %4.1f%%\" (pr_a1_z1 - pr_a1_z0) * 100"
   ]
  },
  {
   "cell_type": "markdown",
   "metadata": {},
   "source": [
    "## Section 16.2"
   ]
  },
  {
   "cell_type": "markdown",
   "metadata": {},
   "source": [
    "### Program 16.1"
   ]
  },
  {
   "cell_type": "markdown",
   "metadata": {},
   "source": [
    "Pg 196: For a dichotomous instrument $Z$ that also meets condition (iv) from section 16.3,\n",
    "\n",
    "$$\n",
    "    \\text{E}[Y^{a=1}] - \\text{E}[Y^{a=0}] = \\frac{\\text{E}[Y|Z=1] - \\text{E}[Y|Z=0]}{\\text{E}[A|Z=1] - \\text{E}[A|Z=0]}\n",
    "$$\n",
    "\n",
    "Pg 197: \"We estimated the numerator and denominator of the IV estimand by simply calculating the four sample averages ...\""
   ]
  },
  {
   "cell_type": "code",
   "execution_count": 9,
   "metadata": {},
   "outputs": [],
   "source": [
    "est_y_given_z1 = mean(nhefs.wt82_71[nhefs.highprice .== 1])\n",
    "est_y_given_z0 = mean(nhefs.wt82_71[nhefs.highprice .== 0])\n",
    "est_a_given_z1 = mean(nhefs.qsmk[nhefs.highprice .== 1])\n",
    "est_a_given_z0 = mean(nhefs.qsmk[nhefs.highprice .== 0]);"
   ]
  },
  {
   "cell_type": "code",
   "execution_count": 10,
   "metadata": {},
   "outputs": [
    {
     "name": "stdout",
     "output_type": "stream",
     "text": [
      "estimated E[Y|Z=1] = 2.686\n",
      "estimated E[Y|Z=0] = 2.536\n",
      "estimated E[A|Z=1] = 0.258\n",
      "estimated E[A|Z=0] = 0.195"
     ]
    }
   ],
   "source": [
    "@printf \"estimated E[Y|Z=1] = %0.3f\\n\" est_y_given_z1\n",
    "@printf \"estimated E[Y|Z=0] = %0.3f\\n\" est_y_given_z0\n",
    "@printf \"estimated E[A|Z=1] = %0.3f\\n\" est_a_given_z1\n",
    "@printf \"estimated E[A|Z=0] = %0.3f\" est_a_given_z0"
   ]
  },
  {
   "cell_type": "code",
   "execution_count": 11,
   "metadata": {},
   "outputs": [
    {
     "name": "stdout",
     "output_type": "stream",
     "text": [
      "the usual IV estimate: 2.40 kg"
     ]
    }
   ],
   "source": [
    "estimate = (est_y_given_z1 - est_y_given_z0) / (est_a_given_z1 - est_a_given_z0)\n",
    "@printf \"the usual IV estimate: %0.2f kg\" estimate"
   ]
  },
  {
   "cell_type": "markdown",
   "metadata": {},
   "source": [
    "\"Equivalently, we could have fit two (saturated) linear models to estimate the differences in the denominator and the numerator...\""
   ]
  },
  {
   "cell_type": "code",
   "execution_count": 12,
   "metadata": {},
   "outputs": [],
   "source": [
    "numer = lm(@formula(wt82_71 ~ highprice), nhefs)\n",
    "denom = lm(@formula(qsmk ~ highprice), nhefs);"
   ]
  },
  {
   "cell_type": "code",
   "execution_count": 13,
   "metadata": {},
   "outputs": [
    {
     "name": "stdout",
     "output_type": "stream",
     "text": [
      "the usual IV estimate: 2.40 kg"
     ]
    }
   ],
   "source": [
    "estimate = coef(numer)[2] / coef(denom)[2]\n",
    "@printf \"the usual IV estimate: %0.2f kg\" estimate"
   ]
  },
  {
   "cell_type": "markdown",
   "metadata": {},
   "source": [
    "### Program 16.2"
   ]
  },
  {
   "cell_type": "markdown",
   "metadata": {},
   "source": [
    "Two stage least squares estimator"
   ]
  },
  {
   "cell_type": "markdown",
   "metadata": {},
   "source": [
    "First, we'll manually use two models, but this will give the wrong confidence interval"
   ]
  },
  {
   "cell_type": "code",
   "execution_count": 14,
   "metadata": {},
   "outputs": [
    {
     "data": {
      "text/plain": [
       "StatsModels.TableRegressionModel{LinearModel{GLM.LmResp{Vector{Float64}}, GLM.DensePredChol{Float64, LinearAlgebra.CholeskyPivoted{Float64, Matrix{Float64}}}}, Matrix{Float64}}\n",
       "\n",
       "wt82_71 ~ 1 + A_pred\n",
       "\n",
       "Coefficients:\n",
       "──────────────────────────────────────────────────────────────────────\n",
       "               Coef.  Std. Error     t  Pr(>|t|)  Lower 95%  Upper 95%\n",
       "──────────────────────────────────────────────────────────────────────\n",
       "(Intercept)  2.06816     5.14007  0.40    0.6875   -8.01448    12.1508\n",
       "A_pred       2.39627    20.0545   0.12    0.9049  -36.9422     41.7347\n",
       "──────────────────────────────────────────────────────────────────────"
      ]
     },
     "execution_count": 14,
     "metadata": {},
     "output_type": "execute_result"
    }
   ],
   "source": [
    "stage_1 = lm(@formula(qsmk ~ highprice), nhefs)\n",
    "\n",
    "nhefs.A_pred = predict(stage_1, nhefs)\n",
    "\n",
    "stage_2 = lm(@formula(wt82_71 ~ A_pred), nhefs)"
   ]
  },
  {
   "cell_type": "code",
   "execution_count": 15,
   "metadata": {},
   "outputs": [
    {
     "name": "stdout",
     "output_type": "stream",
     "text": [
      "the 2-stage estimate: 2.40 kg"
     ]
    }
   ],
   "source": [
    "estimate = coef(stage_2)[2]\n",
    "@printf \"the 2-stage estimate: %0.2f kg\" estimate"
   ]
  },
  {
   "cell_type": "markdown",
   "metadata": {},
   "source": [
    "\"A commonly used rule of thumb is to declare an instrument as weak if the F-statistic from the first-stage model is less than 10\""
   ]
  },
  {
   "cell_type": "code",
   "execution_count": 16,
   "metadata": {},
   "outputs": [
    {
     "data": {
      "text/plain": [
       "fstat (generic function with 1 method)"
      ]
     },
     "execution_count": 16,
     "metadata": {},
     "output_type": "execute_result"
    }
   ],
   "source": [
    "# using code from GLM's `ftest`\n",
    "function fstat(model)\n",
    "    rss = deviance(model)\n",
    "    tss = nulldeviance(model)\n",
    "\n",
    "    n = Int(nobs(model))\n",
    "    p = dof(model) - 2    # -2 for intercept and dispersion parameter\n",
    "    statistic = ((tss - rss) / rss) * ((n - p - 1) / p)\n",
    "end"
   ]
  },
  {
   "cell_type": "code",
   "execution_count": 17,
   "metadata": {},
   "outputs": [
    {
     "name": "stdout",
     "output_type": "stream",
     "text": [
      "1st-stage F-statistic: 0.82"
     ]
    }
   ],
   "source": [
    "@printf \"1st-stage F-statistic: %0.2f\" fstat(stage_1.model)"
   ]
  },
  {
   "cell_type": "markdown",
   "metadata": {},
   "source": [
    "The confidence intervals in the second-stage model aren't quite right"
   ]
  },
  {
   "cell_type": "markdown",
   "metadata": {},
   "source": [
    "We'll do the two-stage model again, using the IV 2-stage model from `Econometrics.jl`"
   ]
  },
  {
   "cell_type": "code",
   "execution_count": 18,
   "metadata": {},
   "outputs": [
    {
     "data": {
      "text/plain": [
       "Continuous Response Model\n",
       "Number of observations: 1476\n",
       "Null Loglikelihood: -5151.70\n",
       "Loglikelihood: -5135.82\n",
       "R-squared: NaN\n",
       "LR Test: 31.75 ∼ χ²(1) ⟹  Pr > χ² = 0.0000\n",
       "Formula: wt82_71 ~ 1 + (qsmk ~ highprice)\n",
       "Variance Covariance Estimator: OIM\n",
       "──────────────────────────────────────────────────────────────────────\n",
       "               PE        SE      t-value  Pr > |t|      2.50%   97.50%\n",
       "──────────────────────────────────────────────────────────────────────\n",
       "(Intercept)  2.06816   5.08682  0.406573    0.6844   -7.91003  12.0464\n",
       "qsmk         2.39627  19.8468   0.120739    0.9039  -36.5347   41.3272\n",
       "──────────────────────────────────────────────────────────────────────"
      ]
     },
     "execution_count": 18,
     "metadata": {},
     "output_type": "execute_result"
    }
   ],
   "source": [
    "two_stage = fit(\n",
    "    EconometricModel, @formula(wt82_71 ~ (qsmk ~ highprice)), nhefs\n",
    ")"
   ]
  },
  {
   "cell_type": "markdown",
   "metadata": {},
   "source": [
    "These standard errors are slightly higher than the Python version"
   ]
  },
  {
   "cell_type": "code",
   "execution_count": 19,
   "metadata": {},
   "outputs": [
    {
     "name": "stdout",
     "output_type": "stream",
     "text": [
      "         estimate   95% C.I.\n",
      "beta_1      2.40   (-36.5, 41.3)"
     ]
    }
   ],
   "source": [
    "est = coef(two_stage)[2]\n",
    "lo, hi = confint(two_stage)[2, 1], confint(two_stage)[2, 2]\n",
    "\n",
    "println(\"         estimate   95% C.I.\")\n",
    "@printf \"beta_1    %6.2f   (%0.1f, %0.1f)\" est lo hi"
   ]
  },
  {
   "cell_type": "markdown",
   "metadata": {},
   "source": [
    "### Program 16.3"
   ]
  },
  {
   "cell_type": "markdown",
   "metadata": {},
   "source": [
    "\"The parameters of structural mean models can be estimated via g-estimation\""
   ]
  },
  {
   "cell_type": "markdown",
   "metadata": {},
   "source": [
    "We'll solve this using the same methods as in Program 14.2. Recall, in that program we searched for a $\\psi^\\dagger$ that would minimize the coefficient on $H(\\psi^\\dagger)$. The $\\psi^\\dagger$ that achieves the minimum is our estimate of the causal effect.\n",
    "\n",
    "In Program 14.2 we ended with a call to `find_zero` from Roots.jl to do the fine-grained search for $\\psi^\\dagger$. Here, we'll just go straight to that."
   ]
  },
  {
   "cell_type": "code",
   "execution_count": 20,
   "metadata": {},
   "outputs": [],
   "source": [
    "sm = pyimport(\"statsmodels.api\");"
   ]
  },
  {
   "cell_type": "code",
   "execution_count": 21,
   "metadata": {},
   "outputs": [],
   "source": [
    "function logit_abs_alpha(psi)\n",
    "    H_of_psi = nhefs.wt82_71 .- psi .* nhefs.qsmk\n",
    "    y = nhefs.highprice\n",
    "    X = [ones(nrow(nhefs)) H_of_psi]\n",
    "    groups = convert(Array{Int}, nhefs.seqn)\n",
    "\n",
    "    lgt = sm.GLM(y, X, family=sm.families.Binomial())\n",
    "    res = lgt.fit(cov_type=\"cluster\", cov_kwds=Dict(\"groups\" => groups))\n",
    "\n",
    "    alpha = res.params[2]\n",
    "\n",
    "    return abs(alpha)\n",
    "end;"
   ]
  },
  {
   "cell_type": "code",
   "execution_count": 22,
   "metadata": {},
   "outputs": [],
   "source": [
    "psi_est = find_zero(logit_abs_alpha, 4.0);"
   ]
  },
  {
   "cell_type": "code",
   "execution_count": 23,
   "metadata": {},
   "outputs": [
    {
     "name": "stdout",
     "output_type": "stream",
     "text": [
      "best estimate: 2.396"
     ]
    }
   ],
   "source": [
    "@printf \"best estimate: %0.3f\" psi_est"
   ]
  },
  {
   "cell_type": "markdown",
   "metadata": {},
   "source": [
    "## Section 16.5"
   ]
  },
  {
   "cell_type": "markdown",
   "metadata": {},
   "source": [
    "### Program 16.4"
   ]
  },
  {
   "cell_type": "markdown",
   "metadata": {},
   "source": [
    "We'll calculate the IV estimate using a few different cutoffs for `highprice`"
   ]
  },
  {
   "cell_type": "markdown",
   "metadata": {},
   "source": [
    "First, we'll calculate the \"usual\" IV estimate using data means"
   ]
  },
  {
   "cell_type": "code",
   "execution_count": 24,
   "metadata": {},
   "outputs": [
    {
     "data": {
      "text/plain": [
       "wald_estimate (generic function with 1 method)"
      ]
     },
     "execution_count": 24,
     "metadata": {},
     "output_type": "execute_result"
    }
   ],
   "source": [
    "function wald_estimate(Y, A, Z)\n",
    "    numer = mean(Y[Z .== 1]) - mean(Y[Z .== 0])\n",
    "    denom = mean(A[Z .== 1]) - mean(A[Z .== 0])\n",
    "    return numer / denom\n",
    "end"
   ]
  },
  {
   "cell_type": "code",
   "execution_count": 25,
   "metadata": {},
   "outputs": [
    {
     "name": "stdout",
     "output_type": "stream",
     "text": [
      "cutoff price: $ 1.60   estimate:  41.28 kg\n",
      "cutoff price: $ 1.70   estimate: -40.91 kg\n",
      "cutoff price: $ 1.80   estimate: -21.10 kg\n",
      "cutoff price: $ 1.90   estimate: -12.81 kg\n"
     ]
    }
   ],
   "source": [
    "for cutoff in [1.6, 1.7, 1.8, 1.9]\n",
    "    estimate = wald_estimate(\n",
    "        nhefs.wt82_71,\n",
    "        nhefs.qsmk,\n",
    "        (nhefs.price82 .>= cutoff)\n",
    "    )\n",
    "    @printf \"cutoff price: \\$ %0.2f   estimate: %6.2f kg\\n\" cutoff estimate\n",
    "end"
   ]
  },
  {
   "cell_type": "markdown",
   "metadata": {},
   "source": [
    "Next we'll re-calculate using 2-stage models, to get confidence intervals"
   ]
  },
  {
   "cell_type": "code",
   "execution_count": 26,
   "metadata": {},
   "outputs": [
    {
     "name": "stdout",
     "output_type": "stream",
     "text": [
      "         estimate       95% C.I.\n",
      "$ 1.60      41.28   (-282.4,  365.0)\n",
      "$ 1.70     -40.91   (-409.3,  327.5)\n",
      "$ 1.80     -21.10   ( -76.9,   34.7)\n",
      "$ 1.90     -12.81   ( -59.3,   33.6)\n"
     ]
    }
   ],
   "source": [
    "println(\"         estimate       95% C.I.\")\n",
    "for cutoff in [1.6, 1.7, 1.8, 1.9]\n",
    "    nhefs.highprice = (nhefs.price82 .>= cutoff)\n",
    "\n",
    "    model = fit(\n",
    "        EconometricModel, @formula(wt82_71 ~ (qsmk ~ highprice)), nhefs\n",
    "    )\n",
    "    \n",
    "    est = coef(model)[2]\n",
    "    lo, hi = confint(model)[2, 1], confint(model)[2, 2]\n",
    "\n",
    "    @printf \"\\$ %0.2f     %6.2f   (%6.1f, %6.1f)\\n\" cutoff est lo hi\n",
    "end\n",
    "    \n",
    "# restore `highprice` to its original meaning\n",
    "nhefs.highprice = (nhefs.price82 .>= 1.50);"
   ]
  },
  {
   "cell_type": "markdown",
   "metadata": {},
   "source": [
    "The standard errors here and in the next program are again slightly different from the Python version"
   ]
  },
  {
   "cell_type": "markdown",
   "metadata": {},
   "source": [
    "### Program 16.5"
   ]
  },
  {
   "cell_type": "code",
   "execution_count": 27,
   "metadata": {},
   "outputs": [
    {
     "data": {
      "text/plain": [
       "Continuous Response Model\n",
       "Number of observations: 1476\n",
       "Null Loglikelihood: -5151.70\n",
       "Loglikelihood: -5104.31\n",
       "R-squared: NaN\n",
       "LR Test: 94.78 ∼ χ²(11) ⟹  Pr > χ² = 0.0000\n",
       "Formula: wt82_71 ~ 1 + sex + race + age + smokeintensity + smokeyrs + exercise + active + wt71 + (qsmk ~ highprice)\n",
       "Variance Covariance Estimator: OIM\n",
       "────────────────────────────────────────────────────────────────────────────────────\n",
       "                     PE          SE        t-value  Pr > |t|       2.50%      97.50%\n",
       "────────────────────────────────────────────────────────────────────────────────────\n",
       "(Intercept)     17.2803      2.3362      7.39677      <1e-12   12.6977    21.863\n",
       "sex             -1.64439     2.63173    -0.624833     0.5322   -6.80676    3.51797\n",
       "race            -0.183255    4.65197    -0.0393929    0.9686   -9.30851    8.942\n",
       "age             -0.16364     0.24063    -0.680049     0.4966   -0.635656   0.308376\n",
       "smokeintensity   0.0057669   0.145553    0.0396205    0.9684   -0.279749   0.291283\n",
       "smokeyrs         0.0258357   0.161477    0.159996     0.8729   -0.290915   0.342586\n",
       "exercise: 1      0.498748    2.17198     0.229628     0.8184   -3.76178    4.75928\n",
       "exercise: 2      0.581834    2.18389     0.26642      0.7900   -3.70206    4.86573\n",
       "active: 1       -1.17015     0.607674   -1.92561      0.0543   -2.36215    0.0218603\n",
       "active: 2       -0.512284    1.3089     -0.391386     0.6956   -3.0798     2.05523\n",
       "wt71            -0.0979493   0.0362831  -2.69959      0.0070   -0.169122  -0.0267769\n",
       "qsmk            -1.04229    29.9976     -0.0347459    0.9723  -59.8852    57.8006\n",
       "────────────────────────────────────────────────────────────────────────────────────"
      ]
     },
     "execution_count": 27,
     "metadata": {},
     "output_type": "execute_result"
    }
   ],
   "source": [
    "spec = @formula(\n",
    "    wt82_71 ~ sex\n",
    "            + race\n",
    "            + age\n",
    "            + smokeintensity\n",
    "            + smokeyrs\n",
    "            + exercise\n",
    "            + active\n",
    "            + wt71\n",
    "            + (qsmk ~ highprice)\n",
    ")\n",
    "model = fit(EconometricModel, spec, nhefs)"
   ]
  }
 ],
 "metadata": {
  "anaconda-cloud": {},
  "kernelspec": {
   "display_name": "Julia 1.6.0",
   "language": "julia",
   "name": "julia-1.6"
  },
  "language_info": {
   "file_extension": ".jl",
   "mimetype": "application/julia",
   "name": "julia",
   "version": "1.6.0"
  }
 },
 "nbformat": 4,
 "nbformat_minor": 4
}
