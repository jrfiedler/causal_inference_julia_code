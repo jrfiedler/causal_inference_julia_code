{
 "cells": [
  {
   "cell_type": "markdown",
   "metadata": {},
   "source": [
    "# Chapter 13"
   ]
  },
  {
   "cell_type": "markdown",
   "metadata": {},
   "source": [
    "## Load packages / modules\n",
    "\n",
    "Standard library:\n",
    "- Printf for string formatting\n",
    "- Statistics for mean and std functions\n",
    "- Random for boostrap sampling\n",
    "\n",
    "External:\n",
    "- CSV.jl to load CSV files\n",
    "- DataFrames.jl for tabular data\n",
    "- CategoricalArrays.jl for working with categorical data columns\n",
    "- GLM.jl for models\n",
    "- CairoMakie.jl for plotting"
   ]
  },
  {
   "cell_type": "code",
   "execution_count": 1,
   "metadata": {},
   "outputs": [],
   "source": [
    "using Printf, Statistics, Random\n",
    "using CSV, DataFrames, CategoricalArrays, GLM, CairoMakie"
   ]
  },
  {
   "cell_type": "markdown",
   "metadata": {},
   "source": [
    "## Load data"
   ]
  },
  {
   "cell_type": "code",
   "execution_count": 2,
   "metadata": {},
   "outputs": [],
   "source": [
    "nhefs_all = DataFrame(CSV.File(\"nhefs.csv\"));"
   ]
  },
  {
   "cell_type": "code",
   "execution_count": 3,
   "metadata": {},
   "outputs": [
    {
     "data": {
      "text/plain": [
       "(1629, 64)"
      ]
     },
     "execution_count": 3,
     "metadata": {},
     "output_type": "execute_result"
    }
   ],
   "source": [
    "size(nhefs_all)"
   ]
  },
  {
   "cell_type": "code",
   "execution_count": 4,
   "metadata": {},
   "outputs": [],
   "source": [
    "for s in [:education, :exercise, :active]\n",
    "    nhefs_all[!, s] = categorical(nhefs_all[!, s])\n",
    "end"
   ]
  },
  {
   "cell_type": "markdown",
   "metadata": {},
   "source": [
    "## Section 13.1"
   ]
  },
  {
   "cell_type": "markdown",
   "metadata": {},
   "source": [
    "In the last chapter we initially restricted the data to include rows where none of the following columns were missing."
   ]
  },
  {
   "cell_type": "code",
   "execution_count": 5,
   "metadata": {},
   "outputs": [],
   "source": [
    "restriction_cols = [\n",
    "    :sex, :age, :race, :wt82, :ht, :school, :alcoholpy, :smokeintensity\n",
    "];"
   ]
  },
  {
   "cell_type": "markdown",
   "metadata": {},
   "source": [
    "In fact, it turns out only one of those columns, `wt82`, has missing values."
   ]
  },
  {
   "cell_type": "code",
   "execution_count": 6,
   "metadata": {},
   "outputs": [
    {
     "name": "stdout",
     "output_type": "stream",
     "text": [
      "       column    # missing\n",
      "            sex      0\n",
      "            age      0\n",
      "           race      0\n",
      "           wt82     63\n",
      "             ht      0\n",
      "         school      0\n",
      "      alcoholpy      0\n",
      " smokeintensity      0\n"
     ]
    }
   ],
   "source": [
    "println(\"       column    # missing\")\n",
    "for col in restriction_cols\n",
    "    @printf \"%15s     %2d\\n\" col sum(ismissing.(nhefs_all[!, col]))\n",
    "end"
   ]
  },
  {
   "cell_type": "markdown",
   "metadata": {},
   "source": [
    "In other words, the only missing values (in those columns) are for censored rows."
   ]
  },
  {
   "cell_type": "code",
   "execution_count": 7,
   "metadata": {},
   "outputs": [],
   "source": [
    "nhefs_uncens = dropmissing(nhefs_all, :wt82);"
   ]
  },
  {
   "cell_type": "code",
   "execution_count": 8,
   "metadata": {},
   "outputs": [
    {
     "data": {
      "text/plain": [
       "(1566, 64)"
      ]
     },
     "execution_count": 8,
     "metadata": {},
     "output_type": "execute_result"
    }
   ],
   "source": [
    "size(nhefs_uncens)"
   ]
  },
  {
   "cell_type": "markdown",
   "metadata": {},
   "source": [
    "## Section 13.2"
   ]
  },
  {
   "cell_type": "code",
   "execution_count": 9,
   "metadata": {},
   "outputs": [
    {
     "data": {
      "text/html": [
       "<div class=\"data-frame\"><p>2 rows × 2 columns</p><table class=\"data-frame\"><thead><tr><th></th><th>qsmk</th><th>count</th></tr><tr><th></th><th title=\"Int64\">Int64</th><th title=\"Int64\">Int64</th></tr></thead><tbody><tr><th>1</th><td>0</td><td>1163</td></tr><tr><th>2</th><td>1</td><td>403</td></tr></tbody></table></div>"
      ],
      "text/latex": [
       "\\begin{tabular}{r|cc}\n",
       "\t& qsmk & count\\\\\n",
       "\t\\hline\n",
       "\t& Int64 & Int64\\\\\n",
       "\t\\hline\n",
       "\t1 & 0 & 1163 \\\\\n",
       "\t2 & 1 & 403 \\\\\n",
       "\\end{tabular}\n"
      ],
      "text/plain": [
       "\u001b[1m2×2 DataFrame\u001b[0m\n",
       "\u001b[1m Row \u001b[0m│\u001b[1m qsmk  \u001b[0m\u001b[1m count \u001b[0m\n",
       "\u001b[1m     \u001b[0m│\u001b[90m Int64 \u001b[0m\u001b[90m Int64 \u001b[0m\n",
       "─────┼──────────────\n",
       "   1 │     0   1163\n",
       "   2 │     1    403"
      ]
     },
     "execution_count": 9,
     "metadata": {},
     "output_type": "execute_result"
    }
   ],
   "source": [
    "combine(groupby(nhefs_uncens, :qsmk), nrow => :count)"
   ]
  },
  {
   "cell_type": "markdown",
   "metadata": {},
   "source": [
    "### Program 13.1"
   ]
  },
  {
   "cell_type": "markdown",
   "metadata": {},
   "source": [
    "Create the model to estimate $E[Y|A=a, C=0, L=l]$ for each combination of values of $A$ and $L$"
   ]
  },
  {
   "cell_type": "code",
   "execution_count": 10,
   "metadata": {},
   "outputs": [],
   "source": [
    "spec = @formula(\n",
    "    wt82_71 ~ qsmk\n",
    "            + sex\n",
    "            + race\n",
    "            + education\n",
    "            + exercise\n",
    "            + active\n",
    "            + age + age ^ 2\n",
    "            + wt71 + wt71 ^ 2\n",
    "            + smokeintensity + smokeintensity ^ 2\n",
    "            + smokeyrs + smokeyrs ^ 2\n",
    "            + qsmk & smokeintensity\n",
    ");"
   ]
  },
  {
   "cell_type": "code",
   "execution_count": 11,
   "metadata": {},
   "outputs": [
    {
     "data": {
      "text/plain": [
       "StatsModels.TableRegressionModel{LinearModel{GLM.LmResp{Vector{Float64}}, GLM.DensePredChol{Float64, LinearAlgebra.CholeskyPivoted{Float64, Matrix{Float64}}}}, Matrix{Float64}}\n",
       "\n",
       "wt82_71 ~ 1 + qsmk + sex + race + education + exercise + active + age + :(age ^ 2) + wt71 + :(wt71 ^ 2) + smokeintensity + :(smokeintensity ^ 2) + smokeyrs + :(smokeyrs ^ 2) + qsmk & smokeintensity\n",
       "\n",
       "Coefficients:\n",
       "─────────────────────────────────────────────────────────────────────────────────────────────\n",
       "                              Coef.   Std. Error      t  Pr(>|t|)     Lower 95%     Upper 95%\n",
       "─────────────────────────────────────────────────────────────────────────────────────────────\n",
       "(Intercept)            -1.58817      4.31304      -0.37    0.7128  -10.0482       6.87186\n",
       "qsmk                    2.55959      0.809149      3.16    0.0016    0.972449     4.14674\n",
       "sex                    -1.43027      0.468958     -3.05    0.0023   -2.35013     -0.510411\n",
       "race                    0.56011      0.581889      0.96    0.3359   -0.581266     1.70148\n",
       "education: 2            0.790444     0.607         1.30    0.1930   -0.400188     1.98108\n",
       "education: 3            0.556312     0.556102      1.00    0.3173   -0.534481     1.64711\n",
       "education: 4            1.49157      0.83227       1.79    0.0733   -0.140929     3.12407\n",
       "education: 5           -0.194977     0.741369     -0.26    0.7926   -1.64917      1.25922\n",
       "exercise: 1             0.295975     0.535153      0.55    0.5803   -0.753728     1.34568\n",
       "exercise: 2             0.353913     0.558859      0.63    0.5266   -0.742289     1.45011\n",
       "active: 1              -0.947569     0.409934     -2.31    0.0209   -1.75166     -0.143483\n",
       "active: 2              -0.261378     0.684558     -0.38    0.7026   -1.60414      1.08138\n",
       "age                     0.359635     0.163319      2.20    0.0278    0.0392854    0.679985\n",
       "age ^ 2                -0.00610096   0.00172614   -3.53    0.0004   -0.00948677  -0.00271514\n",
       "wt71                    0.0455018    0.0833709     0.55    0.5853   -0.11803      0.209034\n",
       "wt71 ^ 2               -0.000965325  0.000524713  -1.84    0.0660   -0.00199455   6.38996e-5\n",
       "smokeintensity          0.0491365    0.0517254     0.95    0.3423   -0.052323     0.150596\n",
       "smokeintensity ^ 2     -0.000990651  0.000938046  -1.06    0.2911   -0.00283063   0.000849327\n",
       "smokeyrs                0.134369     0.0917122     1.47    0.1431   -0.045525     0.314262\n",
       "smokeyrs ^ 2           -0.00186643   0.00154372   -1.21    0.2268   -0.00489444   0.00116158\n",
       "qsmk & smokeintensity   0.0466628    0.0351448     1.33    0.1845   -0.0222737    0.115599\n",
       "─────────────────────────────────────────────────────────────────────────────────────────────"
      ]
     },
     "execution_count": 11,
     "metadata": {},
     "output_type": "execute_result"
    }
   ],
   "source": [
    "ols = lm(spec, nhefs_uncens)"
   ]
  },
  {
   "cell_type": "markdown",
   "metadata": {},
   "source": [
    "Look at an example prediction, for the subject with ID 24770"
   ]
  },
  {
   "cell_type": "code",
   "execution_count": 12,
   "metadata": {},
   "outputs": [
    {
     "data": {
      "text/html": [
       "<div class=\"data-frame\"><p>1 rows × 64 columns (omitted printing of 53 columns)</p><table class=\"data-frame\"><thead><tr><th></th><th>seqn</th><th>qsmk</th><th>death</th><th>yrdth</th><th>modth</th><th>dadth</th><th>sbp</th><th>dbp</th><th>sex</th><th>age</th><th>race</th></tr><tr><th></th><th title=\"Int64\">Int64</th><th title=\"Int64\">Int64</th><th title=\"Int64\">Int64</th><th title=\"Union{Missing, Int64}\">Int64?</th><th title=\"Union{Missing, Int64}\">Int64?</th><th title=\"Union{Missing, Int64}\">Int64?</th><th title=\"Union{Missing, Int64}\">Int64?</th><th title=\"Union{Missing, Int64}\">Int64?</th><th title=\"Int64\">Int64</th><th title=\"Int64\">Int64</th><th title=\"Int64\">Int64</th></tr></thead><tbody><tr><th>1</th><td>24770</td><td>0</td><td>0</td><td><em>missing</em></td><td><em>missing</em></td><td><em>missing</em></td><td>133</td><td>76</td><td>0</td><td>26</td><td>0</td></tr></tbody></table></div>"
      ],
      "text/latex": [
       "\\begin{tabular}{r|cccccccccccc}\n",
       "\t& seqn & qsmk & death & yrdth & modth & dadth & sbp & dbp & sex & age & race & \\\\\n",
       "\t\\hline\n",
       "\t& Int64 & Int64 & Int64 & Int64? & Int64? & Int64? & Int64? & Int64? & Int64 & Int64 & Int64 & \\\\\n",
       "\t\\hline\n",
       "\t1 & 24770 & 0 & 0 & \\emph{missing} & \\emph{missing} & \\emph{missing} & 133 & 76 & 0 & 26 & 0 & $\\dots$ \\\\\n",
       "\\end{tabular}\n"
      ],
      "text/plain": [
       "\u001b[1m1×64 DataFrame\u001b[0m\n",
       "\u001b[1m Row \u001b[0m│\u001b[1m seqn  \u001b[0m\u001b[1m qsmk  \u001b[0m\u001b[1m death \u001b[0m\u001b[1m yrdth   \u001b[0m\u001b[1m modth   \u001b[0m\u001b[1m dadth   \u001b[0m\u001b[1m sbp    \u001b[0m\u001b[1m dbp    \u001b[0m\u001b[1m sex   \u001b[0m\u001b[1m \u001b[0m ⋯\n",
       "\u001b[1m     \u001b[0m│\u001b[90m Int64 \u001b[0m\u001b[90m Int64 \u001b[0m\u001b[90m Int64 \u001b[0m\u001b[90m Int64?  \u001b[0m\u001b[90m Int64?  \u001b[0m\u001b[90m Int64?  \u001b[0m\u001b[90m Int64? \u001b[0m\u001b[90m Int64? \u001b[0m\u001b[90m Int64 \u001b[0m\u001b[90m \u001b[0m ⋯\n",
       "─────┼──────────────────────────────────────────────────────────────────────────\n",
       "   1 │ 24770      0      0 \u001b[90m missing \u001b[0m\u001b[90m missing \u001b[0m\u001b[90m missing \u001b[0m    133      76      0   ⋯\n",
       "\u001b[36m                                                              55 columns omitted\u001b[0m"
      ]
     },
     "execution_count": 12,
     "metadata": {},
     "output_type": "execute_result"
    }
   ],
   "source": [
    "example = nhefs_uncens[nhefs_uncens.seqn .== 24770, :]"
   ]
  },
  {
   "cell_type": "code",
   "execution_count": 13,
   "metadata": {},
   "outputs": [
    {
     "data": {
      "text/plain": [
       "1-element Vector{Union{Missing, Float64}}:\n",
       " 0.3421568885357762"
      ]
     },
     "execution_count": 13,
     "metadata": {},
     "output_type": "execute_result"
    }
   ],
   "source": [
    "predict(ols, example)"
   ]
  },
  {
   "cell_type": "markdown",
   "metadata": {},
   "source": [
    "A quick look at mean and extremes of the **predicted** weight gain, across subjects"
   ]
  },
  {
   "cell_type": "code",
   "execution_count": 14,
   "metadata": {},
   "outputs": [],
   "source": [
    "estimated_gain = predict(ols, nhefs_uncens);"
   ]
  },
  {
   "cell_type": "code",
   "execution_count": 15,
   "metadata": {},
   "outputs": [
    {
     "name": "stdout",
     "output_type": "stream",
     "text": [
      "   min     mean      max\n",
      "------------------------\n",
      "-10.88     2.64     9.88"
     ]
    }
   ],
   "source": [
    "println(\"   min     mean      max\")\n",
    "println(\"------------------------\")\n",
    "@printf \"%6.2f   %6.2f   %6.2f\" minimum(estimated_gain) mean(estimated_gain) maximum(estimated_gain)"
   ]
  },
  {
   "cell_type": "markdown",
   "metadata": {},
   "source": [
    "A quick look at mean and extreme values for **actual** weight gain"
   ]
  },
  {
   "cell_type": "code",
   "execution_count": 16,
   "metadata": {},
   "outputs": [
    {
     "name": "stdout",
     "output_type": "stream",
     "text": [
      "   min     mean      max\n",
      "------------------------\n",
      "-41.28     2.64    48.54"
     ]
    }
   ],
   "source": [
    "min_val = minimum(nhefs_uncens.wt82_71)\n",
    "mean_val = mean(nhefs_uncens.wt82_71)\n",
    "max_val = maximum(nhefs_uncens.wt82_71)\n",
    "\n",
    "println(\"   min     mean      max\")\n",
    "println(\"------------------------\")\n",
    "@printf \"%6.2f   %6.2f   %6.2f\" min_val mean_val max_val"
   ]
  },
  {
   "cell_type": "markdown",
   "metadata": {},
   "source": [
    "A scatterplot of predicted vs actual"
   ]
  },
  {
   "cell_type": "code",
   "execution_count": 17,
   "metadata": {},
   "outputs": [
    {
     "data": {
      "image/png": "[encoded data removed]",
      "text/plain": [
       "Figure()"
      ]
     },
     "execution_count": 17,
     "metadata": {},
     "output_type": "execute_result"
    }
   ],
   "source": [
    "fig = Figure(resolution=(600, 400)) \n",
    "ax = Axis(fig[1, 1], xlabel=\"predicted gain\", ylabel=\"actual gain\")\n",
    "\n",
    "scatter!(ax, estimated_gain, nhefs_uncens.wt82_71, color=(:dodgerblue3, 0.15))\n",
    "\n",
    "fig"
   ]
  },
  {
   "cell_type": "markdown",
   "metadata": {},
   "source": [
    "## Section 13.3"
   ]
  },
  {
   "cell_type": "markdown",
   "metadata": {},
   "source": [
    "### Program 13.2"
   ]
  },
  {
   "cell_type": "markdown",
   "metadata": {},
   "source": [
    "The 4 steps to the method are\n",
    "1. expansion of dataset\n",
    "2. outcome modeling\n",
    "3. prediction\n",
    "4. standardization by averaging\n",
    "\n",
    "I am going to use a few shortcuts. \"Expansion of dataset\" means creating the 3 blocks described in the text. The first block (the original data) is the only one that contributes to the model, so I'll just build the regression from the first block. The 2nd and 3rd blocks are only needed for predictions, so I'll only create them at prediction-time.\n",
    "\n",
    "Thus my steps will look more like\n",
    "1. outcome modeling, on the original data\n",
    "2. prediction on expanded dataset\n",
    "3. standardization by averaging"
   ]
  },
  {
   "cell_type": "code",
   "execution_count": 18,
   "metadata": {},
   "outputs": [],
   "source": [
    "df = DataFrame(\n",
    "    name = [\n",
    "        \"Rheia\", \"Kronos\", \"Demeter\", \"Hades\", \"Hestia\", \"Poseidon\", \n",
    "        \"Hera\", \"Zeus\", \"Artemis\", \"Apollo\", \"Leto\", \"Ares\", \"Athena\", \n",
    "        \"Hephaestus\", \"Aphrodite\", \"Cyclope\", \"Persephone\", \"Hermes\", \n",
    "        \"Hebe\", \"Dionysus\"\n",
    "    ],\n",
    "    L = [0, 0, 0, 0, 0, 0, 0, 0, 1, 1, 1, 1, 1, 1, 1, 1, 1, 1, 1, 1],\n",
    "    A = [0, 0, 0, 0, 1, 1, 1, 1, 0, 0, 0, 1, 1, 1, 1, 1, 1, 1, 1, 1],\n",
    "    Y = [0, 1, 0, 0, 0, 0, 0, 1, 1, 1, 0, 1, 1, 1, 1, 1, 1, 0, 0, 0]\n",
    ");"
   ]
  },
  {
   "cell_type": "code",
   "execution_count": 19,
   "metadata": {},
   "outputs": [
    {
     "data": {
      "text/plain": [
       "StatsModels.TableRegressionModel{LinearModel{GLM.LmResp{Vector{Float64}}, GLM.DensePredChol{Float64, LinearAlgebra.CholeskyPivoted{Float64, Matrix{Float64}}}}, Matrix{Float64}}\n",
       "\n",
       "Y ~ 1 + A + L + A & L\n",
       "\n",
       "Coefficients:\n",
       "────────────────────────────────────────────────────────────────────────────\n",
       "                    Coef.  Std. Error      t  Pr(>|t|)  Lower 95%  Upper 95%\n",
       "────────────────────────────────────────────────────────────────────────────\n",
       "(Intercept)   0.25           0.255155   0.98    0.3418  -0.290905   0.790905\n",
       "A            -1.73967e-16    0.360844  -0.00    1.0000  -0.764955   0.764955\n",
       "L             0.416667       0.389756   1.07    0.3009  -0.409579   1.24291\n",
       "A & L         1.60607e-16    0.495933   0.00    1.0000  -1.05133    1.05133\n",
       "────────────────────────────────────────────────────────────────────────────"
      ]
     },
     "execution_count": 19,
     "metadata": {},
     "output_type": "execute_result"
    }
   ],
   "source": [
    "ols = lm(@formula(Y ~ A + L + A & L), df)"
   ]
  },
  {
   "cell_type": "markdown",
   "metadata": {},
   "source": [
    "<br>\n",
    "Next make predictions from the second block, with all A = 0.\n",
    "\n",
    "\"the average of all predicted values in the second block is precisely the standardized mean in the untreated\""
   ]
  },
  {
   "cell_type": "code",
   "execution_count": 20,
   "metadata": {},
   "outputs": [
    {
     "name": "stdout",
     "output_type": "stream",
     "text": [
      "standardized mean: 0.50"
     ]
    }
   ],
   "source": [
    "df0 = DataFrame(A = zeros(nrow(df)), L = df.L)\n",
    "A0_pred = predict(ols, df0)\n",
    "\n",
    "@printf \"standardized mean: %0.2f\" mean(A0_pred)"
   ]
  },
  {
   "cell_type": "markdown",
   "metadata": {},
   "source": [
    "<br>\n",
    "Finally, make predictions from the third block, with all A = 1.\n",
    "\n",
    "\"To estimate the standardized mean outcome in the treated, we compute the average of all predicted values in the third block.\""
   ]
  },
  {
   "cell_type": "code",
   "execution_count": 21,
   "metadata": {},
   "outputs": [
    {
     "name": "stdout",
     "output_type": "stream",
     "text": [
      "standardized mean: 0.50"
     ]
    }
   ],
   "source": [
    "df1 = DataFrame(A = ones(nrow(df)), L = df.L)\n",
    "A1_pred = predict(ols, df1)\n",
    "\n",
    "@printf \"standardized mean: %0.2f\" mean(A1_pred)"
   ]
  },
  {
   "cell_type": "markdown",
   "metadata": {},
   "source": [
    "### Program 13.3"
   ]
  },
  {
   "cell_type": "markdown",
   "metadata": {},
   "source": [
    "We repeat the steps done above, but for the `nhefs_all` data, using both censored and uncensored rows:\n",
    "\n",
    "1. outcome modeling, on the original data\n",
    "2. prediction on expanded dataset\n",
    "3. standardization by averaging"
   ]
  },
  {
   "cell_type": "markdown",
   "metadata": {},
   "source": [
    "Step 1: Outcome modeling on the `nhefs_all` data"
   ]
  },
  {
   "cell_type": "code",
   "execution_count": 22,
   "metadata": {},
   "outputs": [],
   "source": [
    "spec = @formula(\n",
    "    wt82_71 ~ qsmk\n",
    "            + sex\n",
    "            + race\n",
    "            + education\n",
    "            + exercise\n",
    "            + active\n",
    "            + age + age ^ 2\n",
    "            + wt71 + wt71 ^ 2\n",
    "            + smokeintensity + smokeintensity ^ 2\n",
    "            + smokeyrs + smokeyrs ^ 2\n",
    "            + qsmk & smokeintensity\n",
    ");"
   ]
  },
  {
   "cell_type": "code",
   "execution_count": 23,
   "metadata": {},
   "outputs": [
    {
     "data": {
      "text/plain": [
       "StatsModels.TableRegressionModel{LinearModel{GLM.LmResp{Vector{Float64}}, GLM.DensePredChol{Float64, LinearAlgebra.CholeskyPivoted{Float64, Matrix{Float64}}}}, Matrix{Float64}}\n",
       "\n",
       "wt82_71 ~ 1 + qsmk + sex + race + education + exercise + active + age + :(age ^ 2) + wt71 + :(wt71 ^ 2) + smokeintensity + :(smokeintensity ^ 2) + smokeyrs + :(smokeyrs ^ 2) + qsmk & smokeintensity\n",
       "\n",
       "Coefficients:\n",
       "─────────────────────────────────────────────────────────────────────────────────────────────\n",
       "                              Coef.   Std. Error      t  Pr(>|t|)     Lower 95%     Upper 95%\n",
       "─────────────────────────────────────────────────────────────────────────────────────────────\n",
       "(Intercept)            -1.58817      4.31304      -0.37    0.7128  -10.0482       6.87186\n",
       "qsmk                    2.55959      0.809149      3.16    0.0016    0.972449     4.14674\n",
       "sex                    -1.43027      0.468958     -3.05    0.0023   -2.35013     -0.510411\n",
       "race                    0.56011      0.581889      0.96    0.3359   -0.581266     1.70148\n",
       "education: 2            0.790444     0.607         1.30    0.1930   -0.400188     1.98108\n",
       "education: 3            0.556312     0.556102      1.00    0.3173   -0.534481     1.64711\n",
       "education: 4            1.49157      0.83227       1.79    0.0733   -0.140929     3.12407\n",
       "education: 5           -0.194977     0.741369     -0.26    0.7926   -1.64917      1.25922\n",
       "exercise: 1             0.295975     0.535153      0.55    0.5803   -0.753728     1.34568\n",
       "exercise: 2             0.353913     0.558859      0.63    0.5266   -0.742289     1.45011\n",
       "active: 1              -0.947569     0.409934     -2.31    0.0209   -1.75166     -0.143483\n",
       "active: 2              -0.261378     0.684558     -0.38    0.7026   -1.60414      1.08138\n",
       "age                     0.359635     0.163319      2.20    0.0278    0.0392854    0.679985\n",
       "age ^ 2                -0.00610096   0.00172614   -3.53    0.0004   -0.00948677  -0.00271514\n",
       "wt71                    0.0455018    0.0833709     0.55    0.5853   -0.11803      0.209034\n",
       "wt71 ^ 2               -0.000965325  0.000524713  -1.84    0.0660   -0.00199455   6.38996e-5\n",
       "smokeintensity          0.0491365    0.0517254     0.95    0.3423   -0.052323     0.150596\n",
       "smokeintensity ^ 2     -0.000990651  0.000938046  -1.06    0.2911   -0.00283063   0.000849327\n",
       "smokeyrs                0.134369     0.0917122     1.47    0.1431   -0.045525     0.314262\n",
       "smokeyrs ^ 2           -0.00186643   0.00154372   -1.21    0.2268   -0.00489444   0.00116158\n",
       "qsmk & smokeintensity   0.0466628    0.0351448     1.33    0.1845   -0.0222737    0.115599\n",
       "─────────────────────────────────────────────────────────────────────────────────────────────"
      ]
     },
     "execution_count": 23,
     "metadata": {},
     "output_type": "execute_result"
    }
   ],
   "source": [
    "ols = lm(spec, nhefs_all)"
   ]
  },
  {
   "cell_type": "markdown",
   "metadata": {},
   "source": [
    "Step 2: Prediction on expanded dataset"
   ]
  },
  {
   "cell_type": "code",
   "execution_count": 24,
   "metadata": {},
   "outputs": [],
   "source": [
    "block2_data = copy(nhefs_all)\n",
    "block2_data[!, :qsmk] .= 0;"
   ]
  },
  {
   "cell_type": "code",
   "execution_count": 25,
   "metadata": {},
   "outputs": [],
   "source": [
    "block2_pred = predict(ols, block2_data);"
   ]
  },
  {
   "cell_type": "code",
   "execution_count": 26,
   "metadata": {},
   "outputs": [],
   "source": [
    "block3_data = copy(nhefs_all)\n",
    "block3_data[!, :qsmk] .= 1;"
   ]
  },
  {
   "cell_type": "code",
   "execution_count": 27,
   "metadata": {},
   "outputs": [],
   "source": [
    "block3_pred = predict(ols, block3_data);"
   ]
  },
  {
   "cell_type": "markdown",
   "metadata": {},
   "source": [
    "Step 3: Standardization by averaging"
   ]
  },
  {
   "cell_type": "code",
   "execution_count": 28,
   "metadata": {},
   "outputs": [
    {
     "name": "stdout",
     "output_type": "stream",
     "text": [
      "original mean prediction: 2.56\n",
      "\n",
      " block 2 mean prediction: 1.66\n",
      " block 3 mean prediction: 5.18\n",
      "\n",
      "  causal effect estimate: 3.52"
     ]
    }
   ],
   "source": [
    "orig_mean = mean(predict(ols, nhefs_all))\n",
    "block2_mean = mean(block2_pred)\n",
    "block3_mean = mean(block3_pred)\n",
    "est_diff = block3_mean - block2_mean\n",
    "\n",
    "@printf \"original mean prediction: %0.2f\\n\\n\" orig_mean\n",
    "\n",
    "@printf \" block 2 mean prediction: %0.2f\\n\" block2_mean\n",
    "@printf \" block 3 mean prediction: %0.2f\\n\\n\" block3_mean\n",
    "\n",
    "@printf \"  causal effect estimate: %0.2f\" est_diff"
   ]
  },
  {
   "cell_type": "markdown",
   "metadata": {},
   "source": [
    "<br>\n",
    "The model here in step 1 is the same as in Program 13.1, but the \"block 1\" mean prediction is different. Both models are fit on the uncensored rows (the second model doesn't use rows where `wt82_71` is missing), but the block means are over both censored and uncensored rows."
   ]
  },
  {
   "cell_type": "markdown",
   "metadata": {},
   "source": [
    "### Program 13.4"
   ]
  },
  {
   "cell_type": "markdown",
   "metadata": {},
   "source": [
    "Use bootstrap to calculate the confidence interval on the previous estimate"
   ]
  },
  {
   "cell_type": "code",
   "execution_count": 29,
   "metadata": {},
   "outputs": [],
   "source": [
    "num_samples = 2000\n",
    "\n",
    "boot_samples = zeros(num_samples)\n",
    "\n",
    "for i in 1:num_samples\n",
    "    rand_indices = rand(1:nrow(nhefs_all), nrow(nhefs_all))\n",
    "    sample_data = nhefs_all[rand_indices, :]\n",
    "    \n",
    "    block2_data = copy(sample_data)\n",
    "    block2_data[!, :qsmk] .= 0\n",
    "    \n",
    "    block3_data = copy(sample_data)\n",
    "    block3_data[!, :qsmk] .= 1\n",
    "    \n",
    "    ols = lm(spec, sample_data)\n",
    "    \n",
    "    block2_pred = predict(ols, block2_data)\n",
    "    block3_pred = predict(ols, block3_data)\n",
    "    \n",
    "    boot_samples[i] = mean(block3_pred) - mean(block2_pred)\n",
    "end"
   ]
  },
  {
   "cell_type": "code",
   "execution_count": 30,
   "metadata": {},
   "outputs": [],
   "source": [
    "est_std = std(boot_samples);"
   ]
  },
  {
   "cell_type": "code",
   "execution_count": 31,
   "metadata": {},
   "outputs": [
    {
     "name": "stdout",
     "output_type": "stream",
     "text": [
      "               estimate   95% C.I.\n",
      "causal effect      3.5   (2.6, 4.5)"
     ]
    }
   ],
   "source": [
    "lo = est_diff - 1.96 * est_std\n",
    "hi = est_diff + 1.96 * est_std\n",
    "\n",
    "println(\"               estimate   95% C.I.\")\n",
    "@printf  \"causal effect   %6.1f   (%0.1f, %0.1f)\" est_diff lo hi"
   ]
  },
  {
   "cell_type": "markdown",
   "metadata": {},
   "source": [
    "This confidence interval can be slightly different from the book values, because of bootstrap randomness"
   ]
  }
 ],
 "metadata": {
  "kernelspec": {
   "display_name": "Julia 1.6.0",
   "language": "julia",
   "name": "julia-1.6"
  },
  "language_info": {
   "file_extension": ".jl",
   "mimetype": "application/julia",
   "name": "julia",
   "version": "1.6.0"
  }
 },
 "nbformat": 4,
 "nbformat_minor": 4
}
