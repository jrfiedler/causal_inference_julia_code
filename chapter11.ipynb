{
 "cells": [
  {
   "cell_type": "markdown",
   "metadata": {},
   "source": [
    "# Chapter 11"
   ]
  },
  {
   "cell_type": "markdown",
   "metadata": {},
   "source": [
    "## Load packages / modules\n",
    "\n",
    "Standard library:\n",
    "- Printf for string formatting\n",
    "\n",
    "External:\n",
    "- DataFrames.jl for tabular data\n",
    "- CairoMakie.jl for plotting\n",
    "- GLM.jl for models"
   ]
  },
  {
   "cell_type": "code",
   "execution_count": 1,
   "metadata": {},
   "outputs": [],
   "source": [
    "using Printf\n",
    "using DataFrames, CairoMakie, GLM"
   ]
  },
  {
   "cell_type": "markdown",
   "metadata": {},
   "source": [
    "## Section 11.1"
   ]
  },
  {
   "cell_type": "markdown",
   "metadata": {},
   "source": [
    "### Program 11.1"
   ]
  },
  {
   "cell_type": "code",
   "execution_count": 2,
   "metadata": {},
   "outputs": [],
   "source": [
    "df1 = DataFrame(\n",
    "    A = [1, 1, 1, 1, 1, 1, 1, 1, 0, 0, 0, 0, 0, 0, 0, 0],\n",
    "    Y = [\n",
    "        200, 150, 220, 110, 50, 180, 90, 170,\n",
    "        170, 30, 70, 110, 80, 50, 10, 20\n",
    "    ]\n",
    ");"
   ]
  },
  {
   "cell_type": "markdown",
   "metadata": {},
   "source": [
    "Figure 11.1"
   ]
  },
  {
   "cell_type": "code",
   "execution_count": 3,
   "metadata": {},
   "outputs": [
    {
     "data": {
      "image/png": "[encoded data removed]",
      "text/plain": [
       "Figure()"
      ]
     },
     "execution_count": 3,
     "metadata": {},
     "output_type": "execute_result"
    }
   ],
   "source": [
    "fig = Figure(resolution=(600, 400)) \n",
    "ax = Axis(fig[1, 1], xlabel=\"A\", ylabel=\"Y\")\n",
    "\n",
    "scatter!(ax, df1[!, :A], df1[!, :Y])\n",
    "\n",
    "fig"
   ]
  },
  {
   "cell_type": "markdown",
   "metadata": {},
   "source": [
    "Summary of Y values grouped by A"
   ]
  },
  {
   "cell_type": "code",
   "execution_count": 4,
   "metadata": {},
   "outputs": [
    {
     "data": {
      "text/html": [
       "<div class=\"data-frame\"><p>2 rows × 8 columns</p><table class=\"data-frame\"><thead><tr><th></th><th>A</th><th>variable</th><th>mean</th><th>min</th><th>median</th><th>max</th><th>nmissing</th><th>eltype</th></tr><tr><th></th><th title=\"Int64\">Int64</th><th title=\"Symbol\">Symbol</th><th title=\"Float64\">Float64</th><th title=\"Int64\">Int64</th><th title=\"Float64\">Float64</th><th title=\"Int64\">Int64</th><th title=\"Int64\">Int64</th><th title=\"DataType\">DataType</th></tr></thead><tbody><tr><th>1</th><td>0</td><td>Y</td><td>67.5</td><td>10</td><td>60.0</td><td>170</td><td>0</td><td>Int64</td></tr><tr><th>2</th><td>1</td><td>Y</td><td>146.25</td><td>50</td><td>160.0</td><td>220</td><td>0</td><td>Int64</td></tr></tbody></table></div>"
      ],
      "text/latex": [
       "\\begin{tabular}{r|cccccccc}\n",
       "\t& A & variable & mean & min & median & max & nmissing & eltype\\\\\n",
       "\t\\hline\n",
       "\t& Int64 & Symbol & Float64 & Int64 & Float64 & Int64 & Int64 & DataType\\\\\n",
       "\t\\hline\n",
       "\t1 & 0 & Y & 67.5 & 10 & 60.0 & 170 & 0 & Int64 \\\\\n",
       "\t2 & 1 & Y & 146.25 & 50 & 160.0 & 220 & 0 & Int64 \\\\\n",
       "\\end{tabular}\n"
      ],
      "text/plain": [
       "\u001b[1m2×8 DataFrame\u001b[0m\n",
       "\u001b[1m Row \u001b[0m│\u001b[1m A     \u001b[0m\u001b[1m variable \u001b[0m\u001b[1m mean    \u001b[0m\u001b[1m min   \u001b[0m\u001b[1m median  \u001b[0m\u001b[1m max   \u001b[0m\u001b[1m nmissing \u001b[0m\u001b[1m eltype   \u001b[0m\n",
       "\u001b[1m     \u001b[0m│\u001b[90m Int64 \u001b[0m\u001b[90m Symbol   \u001b[0m\u001b[90m Float64 \u001b[0m\u001b[90m Int64 \u001b[0m\u001b[90m Float64 \u001b[0m\u001b[90m Int64 \u001b[0m\u001b[90m Int64    \u001b[0m\u001b[90m DataType \u001b[0m\n",
       "─────┼─────────────────────────────────────────────────────────────────────\n",
       "   1 │     0  Y           67.5      10     60.0    170         0  Int64\n",
       "   2 │     1  Y          146.25     50    160.0    220         0  Int64"
      ]
     },
     "execution_count": 4,
     "metadata": {},
     "output_type": "execute_result"
    }
   ],
   "source": [
    "grouped = groupby(df1, :A)\n",
    "info = combine(describe, grouped)\n",
    "info[info.variable .== :Y, :]"
   ]
  },
  {
   "cell_type": "markdown",
   "metadata": {},
   "source": [
    "\"Now suppose treatment A is a polytomous variable that can take 4 possible values\""
   ]
  },
  {
   "cell_type": "code",
   "execution_count": 5,
   "metadata": {},
   "outputs": [],
   "source": [
    "df2 = DataFrame(\n",
    "    A = [\n",
    "        1, 1, 1, 1, 2, 2, 2, 2,\n",
    "        3, 3, 3, 3, 4, 4, 4, 4\n",
    "    ],\n",
    "    Y = [\n",
    "        110, 80, 50, 40, 170, 30, 70, 50,\n",
    "        110, 50, 180, 130, 200, 150, 220, 210\n",
    "    ]\n",
    ");"
   ]
  },
  {
   "cell_type": "markdown",
   "metadata": {},
   "source": [
    "Figure 11.2"
   ]
  },
  {
   "cell_type": "code",
   "execution_count": 6,
   "metadata": {},
   "outputs": [
    {
     "data": {
      "image/png": "[encoded data removed]",
      "text/plain": [
       "Figure()"
      ]
     },
     "execution_count": 6,
     "metadata": {},
     "output_type": "execute_result"
    }
   ],
   "source": [
    "fig = Figure(resolution=(600, 400)) \n",
    "ax = Axis(fig[1, 1], xlabel=\"A\", ylabel=\"Y\")\n",
    "\n",
    "scatter!(ax, df2[!, :A], df2[!, :Y])\n",
    "\n",
    "fig"
   ]
  },
  {
   "cell_type": "markdown",
   "metadata": {},
   "source": [
    "Summary of Y values grouped by A"
   ]
  },
  {
   "cell_type": "code",
   "execution_count": 7,
   "metadata": {},
   "outputs": [
    {
     "data": {
      "text/html": [
       "<div class=\"data-frame\"><p>4 rows × 8 columns</p><table class=\"data-frame\"><thead><tr><th></th><th>A</th><th>variable</th><th>mean</th><th>min</th><th>median</th><th>max</th><th>nmissing</th><th>eltype</th></tr><tr><th></th><th title=\"Int64\">Int64</th><th title=\"Symbol\">Symbol</th><th title=\"Float64\">Float64</th><th title=\"Int64\">Int64</th><th title=\"Float64\">Float64</th><th title=\"Int64\">Int64</th><th title=\"Int64\">Int64</th><th title=\"DataType\">DataType</th></tr></thead><tbody><tr><th>1</th><td>1</td><td>Y</td><td>70.0</td><td>40</td><td>65.0</td><td>110</td><td>0</td><td>Int64</td></tr><tr><th>2</th><td>2</td><td>Y</td><td>80.0</td><td>30</td><td>60.0</td><td>170</td><td>0</td><td>Int64</td></tr><tr><th>3</th><td>3</td><td>Y</td><td>117.5</td><td>50</td><td>120.0</td><td>180</td><td>0</td><td>Int64</td></tr><tr><th>4</th><td>4</td><td>Y</td><td>195.0</td><td>150</td><td>205.0</td><td>220</td><td>0</td><td>Int64</td></tr></tbody></table></div>"
      ],
      "text/latex": [
       "\\begin{tabular}{r|cccccccc}\n",
       "\t& A & variable & mean & min & median & max & nmissing & eltype\\\\\n",
       "\t\\hline\n",
       "\t& Int64 & Symbol & Float64 & Int64 & Float64 & Int64 & Int64 & DataType\\\\\n",
       "\t\\hline\n",
       "\t1 & 1 & Y & 70.0 & 40 & 65.0 & 110 & 0 & Int64 \\\\\n",
       "\t2 & 2 & Y & 80.0 & 30 & 60.0 & 170 & 0 & Int64 \\\\\n",
       "\t3 & 3 & Y & 117.5 & 50 & 120.0 & 180 & 0 & Int64 \\\\\n",
       "\t4 & 4 & Y & 195.0 & 150 & 205.0 & 220 & 0 & Int64 \\\\\n",
       "\\end{tabular}\n"
      ],
      "text/plain": [
       "\u001b[1m4×8 DataFrame\u001b[0m\n",
       "\u001b[1m Row \u001b[0m│\u001b[1m A     \u001b[0m\u001b[1m variable \u001b[0m\u001b[1m mean    \u001b[0m\u001b[1m min   \u001b[0m\u001b[1m median  \u001b[0m\u001b[1m max   \u001b[0m\u001b[1m nmissing \u001b[0m\u001b[1m eltype   \u001b[0m\n",
       "\u001b[1m     \u001b[0m│\u001b[90m Int64 \u001b[0m\u001b[90m Symbol   \u001b[0m\u001b[90m Float64 \u001b[0m\u001b[90m Int64 \u001b[0m\u001b[90m Float64 \u001b[0m\u001b[90m Int64 \u001b[0m\u001b[90m Int64    \u001b[0m\u001b[90m DataType \u001b[0m\n",
       "─────┼─────────────────────────────────────────────────────────────────────\n",
       "   1 │     1  Y            70.0     40     65.0    110         0  Int64\n",
       "   2 │     2  Y            80.0     30     60.0    170         0  Int64\n",
       "   3 │     3  Y           117.5     50    120.0    180         0  Int64\n",
       "   4 │     4  Y           195.0    150    205.0    220         0  Int64"
      ]
     },
     "execution_count": 7,
     "metadata": {},
     "output_type": "execute_result"
    }
   ],
   "source": [
    "grouped = groupby(df2, :A)\n",
    "info = combine(describe, grouped)\n",
    "info[info.variable .== :Y, :]"
   ]
  },
  {
   "cell_type": "markdown",
   "metadata": {},
   "source": [
    "\"Finally, suppose that treatment $A$ is a variable representing the dose of treatment in mg/day, and that it takes integer values from 0 to 100 mg.\""
   ]
  },
  {
   "cell_type": "code",
   "execution_count": 8,
   "metadata": {},
   "outputs": [],
   "source": [
    "AY = [\n",
    "    [ 3,  21],\n",
    "    [11,  54],\n",
    "    [17,  33],\n",
    "    [23, 101],\n",
    "    [29,  85],\n",
    "    [37,  65],\n",
    "    [41, 157],\n",
    "    [53, 120],\n",
    "    [67, 111],\n",
    "    [79, 200],\n",
    "    [83, 140],\n",
    "    [97, 220],\n",
    "    [60, 230],\n",
    "    [71, 217],\n",
    "    [15,  11],\n",
    "    [45, 190],\n",
    "]\n",
    "\n",
    "A = [row[1] for row in AY]\n",
    "Y = [row[2] for row in AY];"
   ]
  },
  {
   "cell_type": "markdown",
   "metadata": {},
   "source": [
    "Figure 11.3"
   ]
  },
  {
   "cell_type": "code",
   "execution_count": 9,
   "metadata": {},
   "outputs": [
    {
     "data": {
      "image/png": "[encoded data removed]",
      "text/plain": [
       "Figure()"
      ]
     },
     "execution_count": 9,
     "metadata": {},
     "output_type": "execute_result"
    }
   ],
   "source": [
    "fig = Figure(resolution=(600, 400)) \n",
    "ax = Axis(fig[1, 1], xlabel=\"A\", ylabel=\"Y\")\n",
    "\n",
    "scatter!(ax, A, Y)\n",
    "\n",
    "fig"
   ]
  },
  {
   "cell_type": "markdown",
   "metadata": {},
   "source": [
    "## Section 11.2"
   ]
  },
  {
   "cell_type": "markdown",
   "metadata": {},
   "source": [
    "### Program 11.2"
   ]
  },
  {
   "cell_type": "markdown",
   "metadata": {},
   "source": [
    "\"The values $\\hat{\\theta}_0$ and $\\hat{\\theta}_1$ can be easily computed using linear algebra, as described in any statistics textbook.\"\n",
    "\n",
    "Briefly, make $X$ be the matrix with ones in the first column and $A$ in the second column, and make $Y$ an $n \\times 1$ matrix. Then $\\hat{\\theta}_0$ and $\\hat{\\theta}_1$ are calculated as $\\hat\\theta = (X^TX)^{-1}X^TY$"
   ]
  },
  {
   "cell_type": "code",
   "execution_count": 10,
   "metadata": {},
   "outputs": [
    {
     "data": {
      "text/plain": [
       "2×1 Matrix{Float64}:\n",
       " 24.54636872082215\n",
       "  2.137151984222771"
      ]
     },
     "execution_count": 10,
     "metadata": {},
     "output_type": "execute_result"
    }
   ],
   "source": [
    "Xmat = [ones(length(A)) A]   # make X a matrix of ones and A values\n",
    "Ymat = reshape(Y, :, 1)      # make Y an n x 1 matrix\n",
    "\n",
    "theta = inv(Xmat' * Xmat) * Xmat' * Ymat"
   ]
  },
  {
   "cell_type": "code",
   "execution_count": 11,
   "metadata": {},
   "outputs": [
    {
     "name": "stdout",
     "output_type": "stream",
     "text": [
      "θ₀ estimate:  24.55\n",
      "θ₁ estimate:   2.14"
     ]
    }
   ],
   "source": [
    "@printf \"θ₀ estimate:  %5.2f\\nθ₁ estimate:  %5.2f\" theta[1][1] theta[2][1]"
   ]
  },
  {
   "cell_type": "code",
   "execution_count": 12,
   "metadata": {},
   "outputs": [
    {
     "name": "stdout",
     "output_type": "stream",
     "text": [
      "E[Y|A=90] estimate:  216.9"
     ]
    }
   ],
   "source": [
    "expectation_at_90 = theta[1][1] + 90 * theta[2][1]\n",
    "@printf \"E[Y|A=90] estimate:  %5.1f\" expectation_at_90"
   ]
  },
  {
   "cell_type": "markdown",
   "metadata": {},
   "source": [
    "We can also compute this with a statistics modeling package like GLM.jl, which will give us confidence intervals and other values"
   ]
  },
  {
   "cell_type": "code",
   "execution_count": 13,
   "metadata": {},
   "outputs": [],
   "source": [
    "df3 = DataFrame(A = A, Y = Y);"
   ]
  },
  {
   "cell_type": "code",
   "execution_count": 14,
   "metadata": {},
   "outputs": [
    {
     "data": {
      "text/plain": [
       "StatsModels.TableRegressionModel{LinearModel{GLM.LmResp{Vector{Float64}}, GLM.DensePredChol{Float64, LinearAlgebra.CholeskyPivoted{Float64, Matrix{Float64}}}}, Matrix{Float64}}\n",
       "\n",
       "Y ~ 1 + A\n",
       "\n",
       "Coefficients:\n",
       "───────────────────────────────────────────────────────────────────────\n",
       "                Coef.  Std. Error     t  Pr(>|t|)  Lower 95%  Upper 95%\n",
       "───────────────────────────────────────────────────────────────────────\n",
       "(Intercept)  24.5464    21.33      1.15    0.2691   -21.2019   70.2946\n",
       "A             2.13715    0.399692  5.35    0.0001     1.2799    2.99441\n",
       "───────────────────────────────────────────────────────────────────────"
      ]
     },
     "execution_count": 14,
     "metadata": {},
     "output_type": "execute_result"
    }
   ],
   "source": [
    "ols = lm(@formula(Y ~ A), df3)"
   ]
  },
  {
   "cell_type": "markdown",
   "metadata": {},
   "source": [
    "Prediction at A = 90 and confidence interval:"
   ]
  },
  {
   "cell_type": "code",
   "execution_count": 15,
   "metadata": {},
   "outputs": [],
   "source": [
    "X_new = reshape([1 90], 1, 2)\n",
    "y_info = predict(ols, X_new, interval=:confidence);"
   ]
  },
  {
   "cell_type": "code",
   "execution_count": 16,
   "metadata": {},
   "outputs": [],
   "source": [
    "# unpack the prediction\n",
    "y_pred = y_info[:prediction][1]\n",
    "y_ci_1 = y_info[:lower][1]\n",
    "y_ci_2 = y_info[:upper][1];"
   ]
  },
  {
   "cell_type": "code",
   "execution_count": 17,
   "metadata": {},
   "outputs": [
    {
     "name": "stdout",
     "output_type": "stream",
     "text": [
      "           estimate      95% C.I.\n",
      "E[Y|A=90]   216.89   (172.15, 261.63)"
     ]
    }
   ],
   "source": [
    "println(\"           estimate      95% C.I.\")\n",
    "@printf \"E[Y|A=90]   %6.2f   (%6.2f, %6.2f)\" y_pred y_ci_1 y_ci_2"
   ]
  },
  {
   "cell_type": "markdown",
   "metadata": {},
   "source": [
    "<br>\n",
    "Figure 11.4"
   ]
  },
  {
   "cell_type": "code",
   "execution_count": 18,
   "metadata": {},
   "outputs": [
    {
     "data": {
      "image/png": "[encoded data removed]",
      "text/plain": [
       "Figure()"
      ]
     },
     "execution_count": 18,
     "metadata": {},
     "output_type": "execute_result"
    }
   ],
   "source": [
    "fig = Figure(resolution=(600, 400)) \n",
    "ax = Axis(fig[1, 1], xlabel=\"A\", ylabel=\"Y\")\n",
    "\n",
    "scatter!(ax, A, Y)\n",
    "abline!(ax, coef(ols)[1], coef(ols)[2])\n",
    "\n",
    "fig"
   ]
  },
  {
   "cell_type": "markdown",
   "metadata": {},
   "source": [
    "## Section 11.3"
   ]
  },
  {
   "cell_type": "markdown",
   "metadata": {},
   "source": [
    "(Still Program 11.2)"
   ]
  },
  {
   "cell_type": "markdown",
   "metadata": {},
   "source": [
    "\"Let us return to the data in Figure 11.1.\""
   ]
  },
  {
   "cell_type": "code",
   "execution_count": 19,
   "metadata": {},
   "outputs": [
    {
     "data": {
      "text/plain": [
       "StatsModels.TableRegressionModel{LinearModel{GLM.LmResp{Vector{Float64}}, GLM.DensePredChol{Float64, LinearAlgebra.CholeskyPivoted{Float64, Matrix{Float64}}}}, Matrix{Float64}}\n",
       "\n",
       "Y ~ 1 + A\n",
       "\n",
       "Coefficients:\n",
       "────────────────────────────────────────────────────────────────────\n",
       "             Coef.  Std. Error     t  Pr(>|t|)  Lower 95%  Upper 95%\n",
       "────────────────────────────────────────────────────────────────────\n",
       "(Intercept)  67.5      19.7162  3.42    0.0041    25.213     109.787\n",
       "A            78.75     27.8829  2.82    0.0135    18.9472    138.553\n",
       "────────────────────────────────────────────────────────────────────"
      ]
     },
     "execution_count": 19,
     "metadata": {},
     "output_type": "execute_result"
    }
   ],
   "source": [
    "ols = lm(@formula(Y ~ A), df1)"
   ]
  },
  {
   "cell_type": "code",
   "execution_count": 20,
   "metadata": {},
   "outputs": [
    {
     "name": "stdout",
     "output_type": "stream",
     "text": [
      "E[Y|A=0] est.:  67.50\n",
      "E[Y|A=1] est.: 146.25"
     ]
    }
   ],
   "source": [
    "est_at_0 = coef(ols)[1]\n",
    "est_at_1 = coef(ols)[1] + coef(ols)[2]\n",
    "@printf \"E[Y|A=0] est.: %6.2f\\n\" est_at_0\n",
    "@printf \"E[Y|A=1] est.: %6.2f\" est_at_1"
   ]
  },
  {
   "cell_type": "markdown",
   "metadata": {},
   "source": [
    "## Section 11.4"
   ]
  },
  {
   "cell_type": "markdown",
   "metadata": {},
   "source": [
    "### Program 11.3"
   ]
  },
  {
   "cell_type": "markdown",
   "metadata": {},
   "source": [
    "Starting from the same data as Section 11.2, Program 11.2"
   ]
  },
  {
   "cell_type": "code",
   "execution_count": 21,
   "metadata": {},
   "outputs": [
    {
     "data": {
      "text/plain": [
       "StatsModels.TableRegressionModel{LinearModel{GLM.LmResp{Vector{Float64}}, GLM.DensePredChol{Float64, LinearAlgebra.CholeskyPivoted{Float64, Matrix{Float64}}}}, Matrix{Float64}}\n",
       "\n",
       "Y ~ 1 + A + :(A ^ 2)\n",
       "\n",
       "Coefficients:\n",
       "─────────────────────────────────────────────────────────────────────────────\n",
       "                  Coef.  Std. Error      t  Pr(>|t|)    Lower 95%   Upper 95%\n",
       "─────────────────────────────────────────────────────────────────────────────\n",
       "(Intercept)  -7.40688    31.7478     -0.23    0.8192  -75.9938     61.18\n",
       "A             4.10723     1.53088     2.68    0.0188    0.799962    7.41449\n",
       "A ^ 2        -0.0203848   0.0153201  -1.33    0.2062   -0.0534817   0.0127122\n",
       "─────────────────────────────────────────────────────────────────────────────"
      ]
     },
     "execution_count": 21,
     "metadata": {},
     "output_type": "execute_result"
    }
   ],
   "source": [
    "ols = lm(@formula(Y ~ A + A^2), df3)"
   ]
  },
  {
   "cell_type": "markdown",
   "metadata": {},
   "source": [
    "<br>\n",
    "Figure 11.5"
   ]
  },
  {
   "cell_type": "code",
   "execution_count": 22,
   "metadata": {},
   "outputs": [],
   "source": [
    "# values for the line\n",
    "df3_sorted = sort(df3, :A)\n",
    "X_fit = predict(ols, df3_sorted);"
   ]
  },
  {
   "cell_type": "code",
   "execution_count": 23,
   "metadata": {},
   "outputs": [
    {
     "data": {
      "image/png": "[encoded data removed]",
      "text/plain": [
       "Figure()"
      ]
     },
     "execution_count": 23,
     "metadata": {},
     "output_type": "execute_result"
    }
   ],
   "source": [
    "fig = Figure(resolution=(600, 400)) \n",
    "ax = Axis(fig[1, 1], xlabel=\"A\", ylabel=\"Y\")\n",
    "\n",
    "scatter!(ax, df3.A, df3.Y)\n",
    "lines!(ax, df3_sorted.A, X_fit)\n",
    "\n",
    "fig"
   ]
  },
  {
   "cell_type": "markdown",
   "metadata": {},
   "source": [
    "The expected value and confidence interval can be obtained the same way as above"
   ]
  },
  {
   "cell_type": "code",
   "execution_count": 24,
   "metadata": {},
   "outputs": [],
   "source": [
    "X_new = reshape([1 90 90^2], 1, 3)\n",
    "y_info = predict(ols, X_new, interval=:confidence);"
   ]
  },
  {
   "cell_type": "code",
   "execution_count": 25,
   "metadata": {},
   "outputs": [],
   "source": [
    "y_pred = y_info[:prediction][1]\n",
    "y_ci_1 = y_info[:lower][1]\n",
    "y_ci_2 = y_info[:upper][1];"
   ]
  },
  {
   "cell_type": "code",
   "execution_count": 26,
   "metadata": {},
   "outputs": [
    {
     "name": "stdout",
     "output_type": "stream",
     "text": [
      "           estimate      95% C.I.\n",
      "E[Y|A=90]   197.13   (142.77, 251.49)"
     ]
    }
   ],
   "source": [
    "println(\"           estimate      95% C.I.\")\n",
    "@printf \"E[Y|A=90]   %6.2f   (%6.2f, %6.2f)\" y_pred y_ci_1 y_ci_2"
   ]
  }
 ],
 "metadata": {
  "anaconda-cloud": {},
  "kernelspec": {
   "display_name": "Julia 1.6.0",
   "language": "julia",
   "name": "julia-1.6"
  },
  "language_info": {
   "file_extension": ".jl",
   "mimetype": "application/julia",
   "name": "julia",
   "version": "1.6.0"
  }
 },
 "nbformat": 4,
 "nbformat_minor": 4
}
