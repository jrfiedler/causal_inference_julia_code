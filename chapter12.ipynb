{
 "cells": [
  {
   "cell_type": "markdown",
   "metadata": {},
   "source": [
    "# Chapter 12"
   ]
  },
  {
   "cell_type": "markdown",
   "metadata": {},
   "source": [
    "## Load packages / modules\n",
    "\n",
    "Standard library:\n",
    "- Printf for string formatting\n",
    "- Statistics for the mean function\n",
    "\n",
    "External:\n",
    "- CSV to load CSV files\n",
    "- DataFrames.jl for tabular data\n",
    "- CategoricalArrays.jl for working with categorical data columns\n",
    "- GLM.jl for models\n",
    "- CairoMakie.jl for plotting\n",
    "- PyCall.jl for using the Python Statsmodels package\n",
    "- Distributions.jl for PDF values of Normal distributions"
   ]
  },
  {
   "cell_type": "code",
   "execution_count": 1,
   "metadata": {},
   "outputs": [],
   "source": [
    "using Printf, Statistics\n",
    "using CSV, DataFrames, CategoricalArrays, GLM, CairoMakie, PyCall, Distributions"
   ]
  },
  {
   "cell_type": "markdown",
   "metadata": {},
   "source": [
    "## Load data"
   ]
  },
  {
   "cell_type": "code",
   "execution_count": 2,
   "metadata": {},
   "outputs": [],
   "source": [
    "nhefs_all = DataFrame(CSV.File(\"nhefs.csv\"));"
   ]
  },
  {
   "cell_type": "markdown",
   "metadata": {},
   "source": [
    "Look at a couple basic details"
   ]
  },
  {
   "cell_type": "code",
   "execution_count": 3,
   "metadata": {},
   "outputs": [
    {
     "data": {
      "text/plain": [
       "(1629, 64)"
      ]
     },
     "execution_count": 3,
     "metadata": {},
     "output_type": "execute_result"
    }
   ],
   "source": [
    "size(nhefs_all)"
   ]
  },
  {
   "cell_type": "code",
   "execution_count": 4,
   "metadata": {},
   "outputs": [
    {
     "data": {
      "text/plain": [
       "64-element Vector{String}:\n",
       " \"seqn\"\n",
       " \"qsmk\"\n",
       " \"death\"\n",
       " \"yrdth\"\n",
       " \"modth\"\n",
       " \"dadth\"\n",
       " \"sbp\"\n",
       " \"dbp\"\n",
       " \"sex\"\n",
       " \"age\"\n",
       " \"race\"\n",
       " \"income\"\n",
       " \"marital\"\n",
       " ⋮\n",
       " \"active\"\n",
       " \"exercise\"\n",
       " \"birthcontrol\"\n",
       " \"pregnancies\"\n",
       " \"cholesterol\"\n",
       " \"hightax82\"\n",
       " \"price71\"\n",
       " \"price82\"\n",
       " \"tax71\"\n",
       " \"tax82\"\n",
       " \"price71_82\"\n",
       " \"tax71_82\""
      ]
     },
     "execution_count": 4,
     "metadata": {},
     "output_type": "execute_result"
    }
   ],
   "source": [
    "names(nhefs_all)"
   ]
  },
  {
   "cell_type": "markdown",
   "metadata": {},
   "source": [
    "Set a few columns as categorical, so they're handled correctly by GLM models"
   ]
  },
  {
   "cell_type": "code",
   "execution_count": 5,
   "metadata": {},
   "outputs": [],
   "source": [
    "for s in [:education, :exercise, :active, :seqn]\n",
    "    nhefs_all[!, s] = categorical(nhefs_all[!, s])\n",
    "end"
   ]
  },
  {
   "cell_type": "markdown",
   "metadata": {},
   "source": [
    "## Section 12.1"
   ]
  },
  {
   "cell_type": "markdown",
   "metadata": {},
   "source": [
    "### Program 12.1"
   ]
  },
  {
   "cell_type": "markdown",
   "metadata": {},
   "source": [
    "\"We restricted the analysis to NHEFS individuals with known sex, age, race, ...\" (pg 149, margin)"
   ]
  },
  {
   "cell_type": "code",
   "execution_count": 6,
   "metadata": {},
   "outputs": [],
   "source": [
    "restriction_cols = [\n",
    "    :sex, :age, :race, :wt82, :ht, :school, :alcoholpy, :smokeintensity\n",
    "]\n",
    "nhefs = dropmissing(nhefs_all, restriction_cols);"
   ]
  },
  {
   "cell_type": "code",
   "execution_count": 7,
   "metadata": {},
   "outputs": [
    {
     "data": {
      "text/plain": [
       "(1566, 64)"
      ]
     },
     "execution_count": 7,
     "metadata": {},
     "output_type": "execute_result"
    }
   ],
   "source": [
    "size(nhefs)"
   ]
  },
  {
   "cell_type": "markdown",
   "metadata": {},
   "source": [
    "Average weight gains in quitters and non-quitters:"
   ]
  },
  {
   "cell_type": "code",
   "execution_count": 8,
   "metadata": {},
   "outputs": [
    {
     "name": "stdout",
     "output_type": "stream",
     "text": [
      "Average weight gain\n",
      "      quitters: 4.5 kg\n",
      "  non-quitters: 2.0 kg"
     ]
    }
   ],
   "source": [
    "ave_gain_quit = mean(nhefs[nhefs.qsmk .== 1, :wt82_71])\n",
    "ave_gain_noquit = mean(nhefs[nhefs.qsmk .== 0, :wt82_71])\n",
    "\n",
    "println(\"Average weight gain\")\n",
    "@printf \"      quitters: %0.1f kg\\n\" ave_gain_quit\n",
    "@printf \"  non-quitters: %0.1f kg\" ave_gain_noquit"
   ]
  },
  {
   "cell_type": "markdown",
   "metadata": {},
   "source": [
    "Create a simple linear model to get a confidence interval on weight difference."
   ]
  },
  {
   "cell_type": "code",
   "execution_count": 9,
   "metadata": {},
   "outputs": [
    {
     "data": {
      "text/plain": [
       "StatsModels.TableRegressionModel{LinearModel{GLM.LmResp{Vector{Float64}}, GLM.DensePredChol{Float64, LinearAlgebra.CholeskyPivoted{Float64, Matrix{Float64}}}}, Matrix{Float64}}\n",
       "\n",
       "wt82_71 ~ 1 + qsmk\n",
       "\n",
       "Coefficients:\n",
       "──────────────────────────────────────────────────────────────────────\n",
       "               Coef.  Std. Error     t  Pr(>|t|)  Lower 95%  Upper 95%\n",
       "──────────────────────────────────────────────────────────────────────\n",
       "(Intercept)  1.9845     0.228829  8.67    <1e-16    1.53565    2.43334\n",
       "qsmk         2.54058    0.45108   5.63    <1e-07    1.6558     3.42537\n",
       "──────────────────────────────────────────────────────────────────────"
      ]
     },
     "execution_count": 9,
     "metadata": {},
     "output_type": "execute_result"
    }
   ],
   "source": [
    "ols = lm(@formula(wt82_71 ~ qsmk), nhefs)"
   ]
  },
  {
   "cell_type": "code",
   "execution_count": 10,
   "metadata": {},
   "outputs": [
    {
     "name": "stdout",
     "output_type": "stream",
     "text": [
      "        estimate   95% C.I.\n",
      "difference     2.54   (1.7, 3.4)"
     ]
    }
   ],
   "source": [
    "est = coef(ols)[2]\n",
    "lo, hi = confint(ols)[2, 1], confint(ols)[2, 2]\n",
    "\n",
    "println(\"        estimate   95% C.I.\")\n",
    "@printf \"difference   %6.2f   (%0.1f, %0.1f)\" est lo hi"
   ]
  },
  {
   "cell_type": "markdown",
   "metadata": {},
   "source": [
    "Add some columns to help calculate Table 12.1"
   ]
  },
  {
   "cell_type": "code",
   "execution_count": 11,
   "metadata": {},
   "outputs": [],
   "source": [
    "nhefs.university = (nhefs.education .== 5)\n",
    "nhefs.inactive = (nhefs.active .== 2)\n",
    "nhefs.no_exercise = (nhefs.exercise .== 2);"
   ]
  },
  {
   "cell_type": "markdown",
   "metadata": {},
   "source": [
    "Create Table 12.1 in the margin of pg 149."
   ]
  },
  {
   "cell_type": "code",
   "execution_count": 12,
   "metadata": {},
   "outputs": [
    {
     "data": {
      "text/plain": [
       "transpose_df (generic function with 1 method)"
      ]
     },
     "execution_count": 12,
     "metadata": {},
     "output_type": "execute_result"
    }
   ],
   "source": [
    "# transpose method from\n",
    "# https://github.com/JuliaData/DataFrames.jl/issues/2065#issuecomment-568937464\n",
    "# https://stackoverflow.com/a/59485866\n",
    "\n",
    "function transpose_df(df::AbstractDataFrame)::DataFrame\n",
    "    DataFrame(\n",
    "        [[names(df)]; collect.(eachrow(df))], [:column; Symbol.(axes(df, 1))]\n",
    "    )\n",
    "end"
   ]
  },
  {
   "cell_type": "code",
   "execution_count": 13,
   "metadata": {},
   "outputs": [
    {
     "data": {
      "text/html": [
       "<div class=\"data-frame\"><p>9 rows × 3 columns</p><table class=\"data-frame\"><thead><tr><th></th><th>Mean baseline characteristics</th><th>A = 1</th><th>A = 0</th></tr><tr><th></th><th title=\"String\">String</th><th title=\"Float64\">Float64</th><th title=\"Float64\">Float64</th></tr></thead><tbody><tr><th>1</th><td>Age, years</td><td>46.2</td><td>42.8</td></tr><tr><th>2</th><td>Men, %</td><td>54.6</td><td>46.6</td></tr><tr><th>3</th><td>White, %</td><td>91.1</td><td>85.4</td></tr><tr><th>4</th><td>University education, %</td><td>15.4</td><td>9.9</td></tr><tr><th>5</th><td>Weight, kg</td><td>72.4</td><td>70.3</td></tr><tr><th>6</th><td>Cigarettes/day</td><td>18.6</td><td>21.2</td></tr><tr><th>7</th><td>Years smoking</td><td>26.0</td><td>24.1</td></tr><tr><th>8</th><td>Little or no exercise, %</td><td>40.7</td><td>37.9</td></tr><tr><th>9</th><td>Inactive daily life, %</td><td>11.2</td><td>8.9</td></tr></tbody></table></div>"
      ],
      "text/latex": [
       "\\begin{tabular}{r|ccc}\n",
       "\t& Mean baseline characteristics & A = 1 & A = 0\\\\\n",
       "\t\\hline\n",
       "\t& String & Float64 & Float64\\\\\n",
       "\t\\hline\n",
       "\t1 & Age, years & 46.2 & 42.8 \\\\\n",
       "\t2 & Men, \\% & 54.6 & 46.6 \\\\\n",
       "\t3 & White, \\% & 91.1 & 85.4 \\\\\n",
       "\t4 & University education, \\% & 15.4 & 9.9 \\\\\n",
       "\t5 & Weight, kg & 72.4 & 70.3 \\\\\n",
       "\t6 & Cigarettes/day & 18.6 & 21.2 \\\\\n",
       "\t7 & Years smoking & 26.0 & 24.1 \\\\\n",
       "\t8 & Little or no exercise, \\% & 40.7 & 37.9 \\\\\n",
       "\t9 & Inactive daily life, \\% & 11.2 & 8.9 \\\\\n",
       "\\end{tabular}\n"
      ],
      "text/plain": [
       "\u001b[1m9×3 DataFrame\u001b[0m\n",
       "\u001b[1m Row \u001b[0m│\u001b[1m Mean baseline characteristics \u001b[0m\u001b[1m A = 1   \u001b[0m\u001b[1m A = 0   \u001b[0m\n",
       "\u001b[1m     \u001b[0m│\u001b[90m String                        \u001b[0m\u001b[90m Float64 \u001b[0m\u001b[90m Float64 \u001b[0m\n",
       "─────┼─────────────────────────────────────────────────\n",
       "   1 │ Age, years                        46.2     42.8\n",
       "   2 │ Men, %                            54.6     46.6\n",
       "   3 │ White, %                          91.1     85.4\n",
       "   4 │ University education, %           15.4      9.9\n",
       "   5 │ Weight, kg                        72.4     70.3\n",
       "   6 │ Cigarettes/day                    18.6     21.2\n",
       "   7 │ Years smoking                     26.0     24.1\n",
       "   8 │ Little or no exercise, %          40.7     37.9\n",
       "   9 │ Inactive daily life, %            11.2      8.9"
      ]
     },
     "execution_count": 13,
     "metadata": {},
     "output_type": "execute_result"
    }
   ],
   "source": [
    "# calculate values\n",
    "table = combine(\n",
    "    groupby(nhefs, :qsmk),\n",
    "    :age => mean => \"Age, years\",    # i.e., take the mean of :age and call it \"Age, years\"\n",
    "    :sex => (x -> mean(100 * (x .== 0))) => \"Men, %\",\n",
    "    :race => (x -> mean(100 * (x .== 0))) => \"White, %\",\n",
    "    :university => (x -> 100 * mean(x)) => \"University education, %\",\n",
    "    :wt71 => mean => \"Weight, kg\",\n",
    "    :smokeintensity => mean => \"Cigarettes/day\",\n",
    "    :smokeyrs => mean => \"Years smoking\",\n",
    "    :no_exercise => (x -> 100 * mean(x)) => \"Little or no exercise, %\",\n",
    "    :inactive => (x -> 100 * mean(x)) => \"Inactive daily life, %\",\n",
    ")\n",
    "\n",
    "# rearrange, rename, etc\n",
    "table = table[!, Not(:qsmk)]\n",
    "table = round.(table; digits=1)\n",
    "table = transpose_df(table)\n",
    "table = rename(\n",
    "    table[!, [1, 3, 2]],\n",
    "    :1 => \"Mean baseline characteristics\",\n",
    "    :2 => \"A = 1\",\n",
    "    :3 => \"A = 0\",\n",
    ")"
   ]
  },
  {
   "cell_type": "markdown",
   "metadata": {},
   "source": [
    "## Section 12.2"
   ]
  },
  {
   "cell_type": "markdown",
   "metadata": {},
   "source": [
    "### Program 12.2"
   ]
  },
  {
   "cell_type": "markdown",
   "metadata": {},
   "source": [
    "We're going to be creating a lot of IP weights from logistic regressions so a function will help reduce the work. The following function creates the denominators of the IP weights."
   ]
  },
  {
   "cell_type": "code",
   "execution_count": 14,
   "metadata": {},
   "outputs": [],
   "source": [
    "\"\"\"\n",
    "    logit_ip_f(spec, data, y_name=:qsmk)\n",
    "\n",
    "Create the f(y|X) part of IP weights from logistic regression\n",
    "\n",
    "# Arguments\n",
    "- `spec::FormulaTerm`: model formula\n",
    "- `data::DataFrame`: data to fit model\n",
    "- `y_name::Symbol`: name of outcome variable in `data` and `spec`\n",
    "\n",
    "# Returns\n",
    "- `Array`: IP weights\n",
    "\n",
    "\"\"\"\n",
    "function logit_ip_f(spec, data, y_name=:qsmk)\n",
    "    model = glm(spec, data, Binomial(), LogitLink())\n",
    "\n",
    "    y_vals = data[!, y_name]\n",
    "    pred_y = predict(model, data)\n",
    "    pred_y0 = pred_y[y_vals .== 0]\n",
    "    pred_y1 = pred_y[y_vals .== 1]\n",
    "\n",
    "    weights = zeros(size(data, 1))\n",
    "    weights[y_vals .== 1] = pred_y1\n",
    "    weights[y_vals .== 0] = (1 .- pred_y0)\n",
    "    weights\n",
    "end;"
   ]
  },
  {
   "cell_type": "code",
   "execution_count": 15,
   "metadata": {},
   "outputs": [],
   "source": [
    "spec = @formula(\n",
    "    qsmk ~ sex\n",
    "         + race \n",
    "         + age + age^2\n",
    "         + education\n",
    "         + smokeintensity + smokeintensity^2\n",
    "         + smokeyrs + smokeyrs^2\n",
    "         + exercise\n",
    "         + active\n",
    "         + wt71 + wt71^2\n",
    ")\n",
    "denoms = logit_ip_f(spec, nhefs)\n",
    "weights = 1 ./ denoms;"
   ]
  },
  {
   "cell_type": "code",
   "execution_count": 16,
   "metadata": {},
   "outputs": [
    {
     "name": "stdout",
     "output_type": "stream",
     "text": [
      "IP weights\n",
      "   min:  1.05   expected:  1.05\n",
      "   max: 16.70   expected: 16.70\n",
      "  mean:  2.00   expected:  2.00"
     ]
    }
   ],
   "source": [
    "println(\"IP weights\")\n",
    "@printf \"   min: %5.2f   expected:  1.05\\n\" minimum(weights)\n",
    "@printf \"   max: %5.2f   expected: 16.70\\n\" maximum(weights)\n",
    "@printf \"  mean: %5.2f   expected:  2.00\" mean(weights)"
   ]
  },
  {
   "cell_type": "code",
   "execution_count": 17,
   "metadata": {},
   "outputs": [
    {
     "data": {
      "image/png": "[encoded data removed]",
      "text/plain": [
       "FigureAxisPlot()"
      ]
     },
     "execution_count": 17,
     "metadata": {},
     "output_type": "execute_result"
    }
   ],
   "source": [
    "hist(weights, bins=20, figure=(resolution=(600, 400),))"
   ]
  },
  {
   "cell_type": "markdown",
   "metadata": {},
   "source": [
    "Now, the main model"
   ]
  },
  {
   "cell_type": "markdown",
   "metadata": {},
   "source": [
    "Without clustering, weighted least squares (WLS) gives the right coefficients, but the standard error is off."
   ]
  },
  {
   "cell_type": "code",
   "execution_count": 18,
   "metadata": {},
   "outputs": [
    {
     "data": {
      "text/plain": [
       "StatsModels.TableRegressionModel{GeneralizedLinearModel{GLM.GlmResp{Vector{Float64}, Normal{Float64}, IdentityLink}, GLM.DensePredChol{Float64, LinearAlgebra.Cholesky{Float64, Matrix{Float64}}}}, Matrix{Float64}}\n",
       "\n",
       "wt82_71 ~ 1 + qsmk\n",
       "\n",
       "Coefficients:\n",
       "───────────────────────────────────────────────────────────────────────\n",
       "               Coef.  Std. Error      z  Pr(>|z|)  Lower 95%  Upper 95%\n",
       "───────────────────────────────────────────────────────────────────────\n",
       "(Intercept)  1.77998    0.203939   8.73    <1e-17    1.38027    2.17969\n",
       "qsmk         3.44053    0.288623  11.92    <1e-32    2.87484    4.00622\n",
       "───────────────────────────────────────────────────────────────────────"
      ]
     },
     "execution_count": 18,
     "metadata": {},
     "output_type": "execute_result"
    }
   ],
   "source": [
    "wls = glm(@formula(wt82_71 ~ qsmk), nhefs, Normal(), IdentityLink(), wts=weights)"
   ]
  },
  {
   "cell_type": "markdown",
   "metadata": {},
   "source": [
    "(The standard errors above also differ slightly from the results in Python using Statsmodels.)\n",
    "\n",
    "It doesn't seem to be possible to use clustering directly in Julia GLM models, and there doesn't seem to be an implementation of GEE in Julia. It's preferable to use native Julia packages when they exist, but when they don't, you can use PyCall.jl or RCall.jl to use packages from Python or R installations.\n",
    "\n",
    "We'll use Statsmodels for any model that uses clustering in covariance estimation. Statsmodels will need to be installed for whichever Python executable that PyCall is using. The [PyCall GitHub page](https://github.com/JuliaPy/PyCall.jl) describes how to install Python packages."
   ]
  },
  {
   "cell_type": "code",
   "execution_count": 19,
   "metadata": {},
   "outputs": [],
   "source": [
    "sm = pyimport(\"statsmodels.api\");"
   ]
  },
  {
   "cell_type": "code",
   "execution_count": 20,
   "metadata": {},
   "outputs": [],
   "source": [
    "# we'll pass X and y as separate values, instead of using \n",
    "# formula syntax\n",
    "y = nhefs.wt82_71\n",
    "X = [ones(nrow(nhefs)) nhefs.qsmk];"
   ]
  },
  {
   "cell_type": "markdown",
   "metadata": {},
   "source": [
    "Here is the full output for the statsmodels version of the model above (i.e., still without clustering)."
   ]
  },
  {
   "cell_type": "code",
   "execution_count": 21,
   "metadata": {},
   "outputs": [
    {
     "data": {
      "text/html": [
       "<table class=\"simpletable\">\n",
       "<caption>WLS Regression Results</caption>\n",
       "<tr>\n",
       "  <th>Dep. Variable:</th>            <td>y</td>        <th>  R-squared:         </th> <td>   0.044</td> \n",
       "</tr>\n",
       "<tr>\n",
       "  <th>Model:</th>                   <td>WLS</td>       <th>  Adj. R-squared:    </th> <td>   0.043</td> \n",
       "</tr>\n",
       "<tr>\n",
       "  <th>Method:</th>             <td>Least Squares</td>  <th>  F-statistic:       </th> <td>   71.14</td> \n",
       "</tr>\n",
       "<tr>\n",
       "  <th>Date:</th>             <td>Mon, 20 Dec 2021</td> <th>  Prob (F-statistic):</th> <td>7.47e-17</td> \n",
       "</tr>\n",
       "<tr>\n",
       "  <th>Time:</th>                 <td>23:07:41</td>     <th>  Log-Likelihood:    </th> <td> -5613.4</td> \n",
       "</tr>\n",
       "<tr>\n",
       "  <th>No. Observations:</th>      <td>  1566</td>      <th>  AIC:               </th> <td>1.123e+04</td>\n",
       "</tr>\n",
       "<tr>\n",
       "  <th>Df Residuals:</th>          <td>  1564</td>      <th>  BIC:               </th> <td>1.124e+04</td>\n",
       "</tr>\n",
       "<tr>\n",
       "  <th>Df Model:</th>              <td>     1</td>      <th>                     </th>     <td> </td>    \n",
       "</tr>\n",
       "<tr>\n",
       "  <th>Covariance Type:</th>      <td>nonrobust</td>    <th>                     </th>     <td> </td>    \n",
       "</tr>\n",
       "</table>\n",
       "<table class=\"simpletable\">\n",
       "<tr>\n",
       "       <td></td>          <th>coef</th>     <th>std err</th>      <th>t</th>      <th>P>|t|</th>  <th>[0.025</th>    <th>0.975]</th>  \n",
       "</tr>\n",
       "<tr>\n",
       "  <th>(Intercept)</th> <td>    1.7800</td> <td>    0.288</td> <td>    6.175</td> <td> 0.000</td> <td>    1.215</td> <td>    2.345</td>\n",
       "</tr>\n",
       "<tr>\n",
       "  <th>qsmk</th>        <td>    3.4405</td> <td>    0.408</td> <td>    8.434</td> <td> 0.000</td> <td>    2.640</td> <td>    4.241</td>\n",
       "</tr>\n",
       "</table>\n",
       "<table class=\"simpletable\">\n",
       "<tr>\n",
       "  <th>Omnibus:</th>       <td>209.379</td> <th>  Durbin-Watson:     </th> <td>   2.071</td>\n",
       "</tr>\n",
       "<tr>\n",
       "  <th>Prob(Omnibus):</th> <td> 0.000</td>  <th>  Jarque-Bera (JB):  </th> <td>1901.742</td>\n",
       "</tr>\n",
       "<tr>\n",
       "  <th>Skew:</th>          <td> 0.281</td>  <th>  Prob(JB):          </th> <td>    0.00</td>\n",
       "</tr>\n",
       "<tr>\n",
       "  <th>Kurtosis:</th>      <td> 8.369</td>  <th>  Cond. No.          </th> <td>    2.62</td>\n",
       "</tr>\n",
       "</table><br/><br/>Notes:<br/>[1] Standard Errors assume that the covariance matrix of the errors is correctly specified."
      ],
      "text/plain": [
       "PyObject <class 'statsmodels.iolib.summary.Summary'>\n",
       "\"\"\"\n",
       "                            WLS Regression Results                            \n",
       "==============================================================================\n",
       "Dep. Variable:                      y   R-squared:                       0.044\n",
       "Model:                            WLS   Adj. R-squared:                  0.043\n",
       "Method:                 Least Squares   F-statistic:                     71.14\n",
       "Date:                Mon, 20 Dec 2021   Prob (F-statistic):           7.47e-17\n",
       "Time:                        23:07:41   Log-Likelihood:                -5613.4\n",
       "No. Observations:                1566   AIC:                         1.123e+04\n",
       "Df Residuals:                    1564   BIC:                         1.124e+04\n",
       "Df Model:                           1                                         \n",
       "Covariance Type:            nonrobust                                         \n",
       "===============================================================================\n",
       "                  coef    std err          t      P>|t|      [0.025      0.975]\n",
       "-------------------------------------------------------------------------------\n",
       "(Intercept)     1.7800      0.288      6.175      0.000       1.215       2.345\n",
       "qsmk            3.4405      0.408      8.434      0.000       2.640       4.241\n",
       "==============================================================================\n",
       "Omnibus:                      209.379   Durbin-Watson:                   2.071\n",
       "Prob(Omnibus):                  0.000   Jarque-Bera (JB):             1901.742\n",
       "Skew:                           0.281   Prob(JB):                         0.00\n",
       "Kurtosis:                       8.369   Cond. No.                         2.62\n",
       "==============================================================================\n",
       "\n",
       "Notes:\n",
       "[1] Standard Errors assume that the covariance matrix of the errors is correctly specified.\n",
       "\"\"\""
      ]
     },
     "execution_count": 21,
     "metadata": {},
     "output_type": "execute_result"
    }
   ],
   "source": [
    "wls = sm.WLS(y, X, weights=weights)\n",
    "res = wls.fit()\n",
    "sry = res.summary(xname=[\"(Intercept)\", \"qsmk\"])"
   ]
  },
  {
   "cell_type": "markdown",
   "metadata": {},
   "source": [
    "<br>\n",
    "There's a lot of useful information in this output, but in these notebooks we'll focus on the middle portion, the coefficients and confidence intervals. The function below will display just that portion."
   ]
  },
  {
   "cell_type": "code",
   "execution_count": 22,
   "metadata": {},
   "outputs": [],
   "source": [
    "function display_coefs(sm_results; xname=nothing)\n",
    "    sm_summary = sm_results.summary(xname=xname)\n",
    "    tables = split(sm_summary.as_html(), \"</table>\\n<table\")\n",
    "    display(\"text/html\", \"<table\" * tables[2] * \"</table>\")\n",
    "end;"
   ]
  },
  {
   "cell_type": "code",
   "execution_count": 23,
   "metadata": {},
   "outputs": [
    {
     "data": {
      "text/html": [
       "<table class=\"simpletable\">\n",
       "<tr>\n",
       "       <td></td>          <th>coef</th>     <th>std err</th>      <th>t</th>      <th>P>|t|</th>  <th>[0.025</th>    <th>0.975]</th>  \n",
       "</tr>\n",
       "<tr>\n",
       "  <th>(Intercept)</th> <td>    1.7800</td> <td>    0.288</td> <td>    6.175</td> <td> 0.000</td> <td>    1.215</td> <td>    2.345</td>\n",
       "</tr>\n",
       "<tr>\n",
       "  <th>qsmk</th>        <td>    3.4405</td> <td>    0.408</td> <td>    8.434</td> <td> 0.000</td> <td>    2.640</td> <td>    4.241</td>\n",
       "</tr>\n",
       "</table>"
      ]
     },
     "metadata": {},
     "output_type": "display_data"
    }
   ],
   "source": [
    "display_coefs(res, xname=[\"(Intercept)\", \"qsmk\"])"
   ]
  },
  {
   "cell_type": "markdown",
   "metadata": {},
   "source": [
    "The version above, which estimates covariance without clustering, has standard errors that are too small.\n",
    "\n",
    "With clustering, GEE and WLS give the right coefficients and better standard errors. Unfortunately, Statsmodel's GEE doesn't currently work through PyCall."
   ]
  },
  {
   "cell_type": "markdown",
   "metadata": {},
   "source": [
    "WLS with clustering:"
   ]
  },
  {
   "cell_type": "code",
   "execution_count": 24,
   "metadata": {},
   "outputs": [],
   "source": [
    "# PyCall seems to have trouble converting a categorical column\n",
    "# into a Python object\n",
    "groups = convert(Array{Int}, nhefs.seqn);"
   ]
  },
  {
   "cell_type": "code",
   "execution_count": 25,
   "metadata": {},
   "outputs": [],
   "source": [
    "wls = sm.WLS(y, X, weights=weights)\n",
    "res = wls.fit(cov_type=\"cluster\", cov_kwds=Dict(\"groups\" => groups));"
   ]
  },
  {
   "cell_type": "code",
   "execution_count": 26,
   "metadata": {},
   "outputs": [
    {
     "data": {
      "text/html": [
       "<table class=\"simpletable\">\n",
       "<tr>\n",
       "       <td></td>          <th>coef</th>     <th>std err</th>      <th>z</th>      <th>P>|z|</th>  <th>[0.025</th>    <th>0.975]</th>  \n",
       "</tr>\n",
       "<tr>\n",
       "  <th>(Intercept)</th> <td>    1.7800</td> <td>    0.225</td> <td>    7.915</td> <td> 0.000</td> <td>    1.339</td> <td>    2.221</td>\n",
       "</tr>\n",
       "<tr>\n",
       "  <th>qsmk</th>        <td>    3.4405</td> <td>    0.526</td> <td>    6.543</td> <td> 0.000</td> <td>    2.410</td> <td>    4.471</td>\n",
       "</tr>\n",
       "</table>"
      ]
     },
     "metadata": {},
     "output_type": "display_data"
    }
   ],
   "source": [
    "display_coefs(res, xname=[\"(Intercept)\", \"qsmk\"])"
   ]
  },
  {
   "cell_type": "code",
   "execution_count": 27,
   "metadata": {},
   "outputs": [
    {
     "name": "stdout",
     "output_type": "stream",
     "text": [
      "           estimate   95% C.I.\n",
      "theta_1       3.44   (2.4, 4.5)"
     ]
    }
   ],
   "source": [
    "est = res.params[2]\n",
    "conf_ints = res.conf_int(alpha=0.05)\n",
    "lo, hi = conf_ints[2, 1], conf_ints[2, 2]\n",
    "\n",
    "println(\"           estimate   95% C.I.\")\n",
    "@printf \"theta_1     %6.2f   (%0.1f, %0.1f)\" est lo hi"
   ]
  },
  {
   "cell_type": "markdown",
   "metadata": {},
   "source": [
    "Here's a simple check that there is no association between `sex` and `qsmk`."
   ]
  },
  {
   "cell_type": "code",
   "execution_count": 28,
   "metadata": {},
   "outputs": [
    {
     "data": {
      "text/html": [
       "<div class=\"data-frame\"><p>2 rows × 3 columns</p><table class=\"data-frame\"><thead><tr><th></th><th>sex</th><th>qsmk_0</th><th>qsmk_1</th></tr><tr><th></th><th title=\"Int64\">Int64</th><th title=\"Float64\">Float64</th><th title=\"Float64\">Float64</th></tr></thead><tbody><tr><th>1</th><td>0</td><td>763.608</td><td>763.623</td></tr><tr><th>2</th><td>1</td><td>801.749</td><td>797.2</td></tr></tbody></table></div>"
      ],
      "text/latex": [
       "\\begin{tabular}{r|ccc}\n",
       "\t& sex & qsmk\\_0 & qsmk\\_1\\\\\n",
       "\t\\hline\n",
       "\t& Int64 & Float64 & Float64\\\\\n",
       "\t\\hline\n",
       "\t1 & 0 & 763.608 & 763.623 \\\\\n",
       "\t2 & 1 & 801.749 & 797.2 \\\\\n",
       "\\end{tabular}\n"
      ],
      "text/plain": [
       "\u001b[1m2×3 DataFrame\u001b[0m\n",
       "\u001b[1m Row \u001b[0m│\u001b[1m sex   \u001b[0m\u001b[1m qsmk_0  \u001b[0m\u001b[1m qsmk_1  \u001b[0m\n",
       "\u001b[1m     \u001b[0m│\u001b[90m Int64 \u001b[0m\u001b[90m Float64 \u001b[0m\u001b[90m Float64 \u001b[0m\n",
       "─────┼─────────────────────────\n",
       "   1 │     0  763.608  763.623\n",
       "   2 │     1  801.749  797.2"
      ]
     },
     "execution_count": 28,
     "metadata": {},
     "output_type": "execute_result"
    }
   ],
   "source": [
    "qsmk = nhefs.qsmk\n",
    "sex = nhefs.sex\n",
    "DataFrame(\n",
    "    sex=[0, 1],\n",
    "    qsmk_0=[\n",
    "        sum(weights[(qsmk .== 0) .& (sex .== 0)]),\n",
    "        sum(weights[(qsmk .== 0) .& (sex .== 1)])\n",
    "    ],\n",
    "    qsmk_1=[\n",
    "        sum(weights[(qsmk .== 1) .& (sex .== 0)]),\n",
    "        sum(weights[(qsmk .== 1) .& (sex .== 1)])\n",
    "    ],\n",
    ")"
   ]
  },
  {
   "cell_type": "code",
   "execution_count": 29,
   "metadata": {},
   "outputs": [],
   "source": [
    "subset_indices = (nhefs.race .== 0) .& (nhefs.sex .== 1)\n",
    "subset = nhefs[subset_indices, :];"
   ]
  },
  {
   "cell_type": "markdown",
   "metadata": {},
   "source": [
    "Now a check for positivity"
   ]
  },
  {
   "cell_type": "code",
   "execution_count": 30,
   "metadata": {},
   "outputs": [],
   "source": [
    "# counts of qsmk x age\n",
    "age_grouped = groupby(subset[!, [:age, :qsmk]], :age)\n",
    "qsmk_1 = combine(age_grouped, :qsmk => sum).qsmk_sum\n",
    "qsmk_0 = combine(age_grouped, nrow => :count).count .- qsmk_1;"
   ]
  },
  {
   "cell_type": "code",
   "execution_count": 31,
   "metadata": {},
   "outputs": [],
   "source": [
    "age = sort(unique(subset.age));"
   ]
  },
  {
   "cell_type": "code",
   "execution_count": 32,
   "metadata": {},
   "outputs": [
    {
     "data": {
      "image/png": "[encoded data removed]",
      "text/plain": [
       "Figure()"
      ]
     },
     "execution_count": 32,
     "metadata": {},
     "output_type": "execute_result"
    }
   ],
   "source": [
    "fig = Figure(resolution=(600, 400)) \n",
    "ax = Axis(fig[1, 1], xlabel=\"age\", ylabel=\"count\")\n",
    "\n",
    "line1 = lines!(ax, age, qsmk_0)\n",
    "line2 = lines!(ax, age, qsmk_1)\n",
    "\n",
    "Legend(fig[1, 2], [line1, line2], [\"non-quitters\", \"quitters\"])\n",
    "\n",
    "fig"
   ]
  },
  {
   "cell_type": "markdown",
   "metadata": {},
   "source": [
    "There are a few combinations of qsmk x age with zero counts:"
   ]
  },
  {
   "cell_type": "code",
   "execution_count": 33,
   "metadata": {},
   "outputs": [
    {
     "data": {
      "text/html": [
       "<div class=\"data-frame\"><p>10 rows × 3 columns</p><table class=\"data-frame\"><thead><tr><th></th><th>age</th><th>qsmk_0</th><th>qsmk_1</th></tr><tr><th></th><th title=\"Int64\">Int64</th><th title=\"Int64\">Int64</th><th title=\"Int64\">Int64</th></tr></thead><tbody><tr><th>1</th><td>63</td><td>3</td><td>3</td></tr><tr><th>2</th><td>64</td><td>7</td><td>1</td></tr><tr><th>3</th><td>65</td><td>3</td><td>2</td></tr><tr><th>4</th><td>66</td><td>4</td><td>0</td></tr><tr><th>5</th><td>67</td><td>2</td><td>0</td></tr><tr><th>6</th><td>69</td><td>6</td><td>2</td></tr><tr><th>7</th><td>70</td><td>2</td><td>1</td></tr><tr><th>8</th><td>71</td><td>0</td><td>1</td></tr><tr><th>9</th><td>72</td><td>2</td><td>2</td></tr><tr><th>10</th><td>74</td><td>0</td><td>1</td></tr></tbody></table></div>"
      ],
      "text/latex": [
       "\\begin{tabular}{r|ccc}\n",
       "\t& age & qsmk\\_0 & qsmk\\_1\\\\\n",
       "\t\\hline\n",
       "\t& Int64 & Int64 & Int64\\\\\n",
       "\t\\hline\n",
       "\t1 & 63 & 3 & 3 \\\\\n",
       "\t2 & 64 & 7 & 1 \\\\\n",
       "\t3 & 65 & 3 & 2 \\\\\n",
       "\t4 & 66 & 4 & 0 \\\\\n",
       "\t5 & 67 & 2 & 0 \\\\\n",
       "\t6 & 69 & 6 & 2 \\\\\n",
       "\t7 & 70 & 2 & 1 \\\\\n",
       "\t8 & 71 & 0 & 1 \\\\\n",
       "\t9 & 72 & 2 & 2 \\\\\n",
       "\t10 & 74 & 0 & 1 \\\\\n",
       "\\end{tabular}\n"
      ],
      "text/plain": [
       "\u001b[1m10×3 DataFrame\u001b[0m\n",
       "\u001b[1m Row \u001b[0m│\u001b[1m age   \u001b[0m\u001b[1m qsmk_0 \u001b[0m\u001b[1m qsmk_1 \u001b[0m\n",
       "\u001b[1m     \u001b[0m│\u001b[90m Int64 \u001b[0m\u001b[90m Int64  \u001b[0m\u001b[90m Int64  \u001b[0m\n",
       "─────┼───────────────────────\n",
       "   1 │    63       3       3\n",
       "   2 │    64       7       1\n",
       "   3 │    65       3       2\n",
       "   4 │    66       4       0\n",
       "   5 │    67       2       0\n",
       "   6 │    69       6       2\n",
       "   7 │    70       2       1\n",
       "   8 │    71       0       1\n",
       "   9 │    72       2       2\n",
       "  10 │    74       0       1"
      ]
     },
     "execution_count": 33,
     "metadata": {},
     "output_type": "execute_result"
    }
   ],
   "source": [
    "DataFrame(age=age, qsmk_0=qsmk_0, qsmk_1=qsmk_1)[end-9:end, :]"
   ]
  },
  {
   "cell_type": "markdown",
   "metadata": {},
   "source": [
    "For a discussion on cells with zero counts, see Fine Point 12.2, pg 155."
   ]
  },
  {
   "cell_type": "markdown",
   "metadata": {},
   "source": [
    "## Section 12.3"
   ]
  },
  {
   "cell_type": "markdown",
   "metadata": {},
   "source": [
    "\"The effect estimate obtained in the pseudo-population created by weights $0.5 \\, / \\, f(A|L)$\n",
    "is equal to that obtained in the pseudo-population created by weights $1 \\, / \\, f(A|L)$.\""
   ]
  },
  {
   "cell_type": "code",
   "execution_count": 34,
   "metadata": {},
   "outputs": [],
   "source": [
    "wls = sm.WLS(y, X, weights=(0.5 .* weights))\n",
    "res = wls.fit(cov_type=\"cluster\", cov_kwds=Dict(\"groups\" => groups));"
   ]
  },
  {
   "cell_type": "code",
   "execution_count": 35,
   "metadata": {},
   "outputs": [
    {
     "data": {
      "text/html": [
       "<table class=\"simpletable\">\n",
       "<tr>\n",
       "       <td></td>          <th>coef</th>     <th>std err</th>      <th>z</th>      <th>P>|z|</th>  <th>[0.025</th>    <th>0.975]</th>  \n",
       "</tr>\n",
       "<tr>\n",
       "  <th>(Intercept)</th> <td>    1.7800</td> <td>    0.225</td> <td>    7.915</td> <td> 0.000</td> <td>    1.339</td> <td>    2.221</td>\n",
       "</tr>\n",
       "<tr>\n",
       "  <th>qsmk</th>        <td>    3.4405</td> <td>    0.526</td> <td>    6.543</td> <td> 0.000</td> <td>    2.410</td> <td>    4.471</td>\n",
       "</tr>\n",
       "</table>"
      ]
     },
     "metadata": {},
     "output_type": "display_data"
    }
   ],
   "source": [
    "display_coefs(res, xname=[\"(Intercept)\", \"qsmk\"])"
   ]
  },
  {
   "cell_type": "markdown",
   "metadata": {},
   "source": [
    "\"Second, we need to estimate Pr[A=1] for the numerator of the weights. We can obtain a nonparametric estimate by the ratio 403/1566 or, equivalently, by fitting a saturated logistic model for Pr[A=1] with an intercept and no covariates.\" pg 154"
   ]
  },
  {
   "cell_type": "code",
   "execution_count": 36,
   "metadata": {},
   "outputs": [],
   "source": [
    "qsmk = (nhefs.qsmk .== 1);"
   ]
  },
  {
   "cell_type": "code",
   "execution_count": 37,
   "metadata": {},
   "outputs": [
    {
     "data": {
      "text/plain": [
       "0.25734355044699875"
      ]
     },
     "execution_count": 37,
     "metadata": {},
     "output_type": "execute_result"
    }
   ],
   "source": [
    "# option 1\n",
    "qsmk_mean = mean(qsmk)\n",
    "qsmk_mean"
   ]
  },
  {
   "cell_type": "code",
   "execution_count": 38,
   "metadata": {},
   "outputs": [
    {
     "data": {
      "text/plain": [
       "StatsModels.TableRegressionModel{GeneralizedLinearModel{GLM.GlmResp{Vector{Float64}, Binomial{Float64}, LogitLink}, GLM.DensePredChol{Float64, LinearAlgebra.Cholesky{Float64, Matrix{Float64}}}}, Matrix{Float64}}\n",
       "\n",
       "qsmk ~ 1\n",
       "\n",
       "Coefficients:\n",
       "─────────────────────────────────────────────────────────────────────────\n",
       "                Coef.  Std. Error       z  Pr(>|z|)  Lower 95%  Upper 95%\n",
       "─────────────────────────────────────────────────────────────────────────\n",
       "(Intercept)  -1.05982   0.0578034  -18.33    <1e-74   -1.17311  -0.946529\n",
       "─────────────────────────────────────────────────────────────────────────"
      ]
     },
     "execution_count": 38,
     "metadata": {},
     "output_type": "execute_result"
    }
   ],
   "source": [
    "# option 2\n",
    "# note this is using GLM.jl not Python Statsmodels\n",
    "lgt = glm(@formula(qsmk ~ 1), nhefs, Binomial(), LogitLink())"
   ]
  },
  {
   "cell_type": "code",
   "execution_count": 39,
   "metadata": {},
   "outputs": [],
   "source": [
    "lgt_pred = predict(lgt);"
   ]
  },
  {
   "cell_type": "markdown",
   "metadata": {},
   "source": [
    "Check for equivalence"
   ]
  },
  {
   "cell_type": "code",
   "execution_count": 40,
   "metadata": {},
   "outputs": [
    {
     "name": "stdout",
     "output_type": "stream",
     "text": [
      "equivalent: true\n"
     ]
    }
   ],
   "source": [
    "equivalent = isapprox(lgt_pred, qsmk_mean .* ones(nrow(nhefs)))\n",
    "println(\"equivalent: \", equivalent)"
   ]
  },
  {
   "cell_type": "markdown",
   "metadata": {},
   "source": [
    "### Program 12.3"
   ]
  },
  {
   "cell_type": "markdown",
   "metadata": {},
   "source": [
    "Create stabilized IP weights. Shortcut: modify the IP weights already calculated."
   ]
  },
  {
   "cell_type": "code",
   "execution_count": 41,
   "metadata": {},
   "outputs": [],
   "source": [
    "s_weights = zeros(nrow(nhefs))\n",
    "s_weights[qsmk] = mean(qsmk) * weights[qsmk]    # `qsmk` was defined a few cells ago\n",
    "s_weights[.! qsmk] = mean(1 .- qsmk) * weights[.! qsmk];"
   ]
  },
  {
   "cell_type": "code",
   "execution_count": 42,
   "metadata": {},
   "outputs": [
    {
     "name": "stdout",
     "output_type": "stream",
     "text": [
      "Stabilized weights\n",
      " min   mean    max\n",
      "------------------\n",
      "0.33   1.00   4.30"
     ]
    }
   ],
   "source": [
    "println(\"Stabilized weights\")\n",
    "println(\" min   mean    max\")\n",
    "println(\"------------------\")\n",
    "@printf \"%04.2f   %04.2f   %04.2f\" minimum(s_weights) mean(s_weights) maximum(s_weights)"
   ]
  },
  {
   "cell_type": "markdown",
   "metadata": {},
   "source": [
    "Refit the model from the last section, using the new weights"
   ]
  },
  {
   "cell_type": "code",
   "execution_count": 43,
   "metadata": {},
   "outputs": [],
   "source": [
    "wls = sm.WLS(y, X, weights=s_weights)\n",
    "res = wls.fit(cov_type=\"cluster\", cov_kwds=Dict(\"groups\" => groups));"
   ]
  },
  {
   "cell_type": "code",
   "execution_count": 44,
   "metadata": {},
   "outputs": [
    {
     "data": {
      "text/html": [
       "<table class=\"simpletable\">\n",
       "<tr>\n",
       "       <td></td>          <th>coef</th>     <th>std err</th>      <th>z</th>      <th>P>|z|</th>  <th>[0.025</th>    <th>0.975]</th>  \n",
       "</tr>\n",
       "<tr>\n",
       "  <th>(Intercept)</th> <td>    1.7800</td> <td>    0.225</td> <td>    7.915</td> <td> 0.000</td> <td>    1.339</td> <td>    2.221</td>\n",
       "</tr>\n",
       "<tr>\n",
       "  <th>qsmk</th>        <td>    3.4405</td> <td>    0.526</td> <td>    6.543</td> <td> 0.000</td> <td>    2.410</td> <td>    4.471</td>\n",
       "</tr>\n",
       "</table>"
      ]
     },
     "metadata": {},
     "output_type": "display_data"
    }
   ],
   "source": [
    "display_coefs(res, xname=[\"(Intercept)\", \"qsmk\"])"
   ]
  },
  {
   "cell_type": "code",
   "execution_count": 45,
   "metadata": {},
   "outputs": [
    {
     "name": "stdout",
     "output_type": "stream",
     "text": [
      "           estimate   95% C.I.\n",
      "theta_1       3.44   (2.4, 4.5)"
     ]
    }
   ],
   "source": [
    "est = res.params[2]\n",
    "conf_ints = res.conf_int(alpha=0.05)\n",
    "lo, hi = conf_ints[2, 1], conf_ints[2, 2]\n",
    "\n",
    "println(\"           estimate   95% C.I.\")\n",
    "@printf \"theta_1     %6.2f   (%0.1f, %0.1f)\" est lo hi"
   ]
  },
  {
   "cell_type": "markdown",
   "metadata": {},
   "source": [
    "The estimate is the same as in the previous section"
   ]
  },
  {
   "cell_type": "markdown",
   "metadata": {},
   "source": [
    "We can check again for no association between sex and qsmk in the the pseudo-population"
   ]
  },
  {
   "cell_type": "code",
   "execution_count": 46,
   "metadata": {},
   "outputs": [
    {
     "data": {
      "text/html": [
       "<div class=\"data-frame\"><p>2 rows × 3 columns</p><table class=\"data-frame\"><thead><tr><th></th><th>sex</th><th>qsmk_0</th><th>qsmk_1</th></tr><tr><th></th><th title=\"Int64\">Int64</th><th title=\"Float64\">Float64</th><th title=\"Float64\">Float64</th></tr></thead><tbody><tr><th>1</th><td>0</td><td>567.098</td><td>196.513</td></tr><tr><th>2</th><td>1</td><td>595.424</td><td>205.154</td></tr></tbody></table></div>"
      ],
      "text/latex": [
       "\\begin{tabular}{r|ccc}\n",
       "\t& sex & qsmk\\_0 & qsmk\\_1\\\\\n",
       "\t\\hline\n",
       "\t& Int64 & Float64 & Float64\\\\\n",
       "\t\\hline\n",
       "\t1 & 0 & 567.098 & 196.513 \\\\\n",
       "\t2 & 1 & 595.424 & 205.154 \\\\\n",
       "\\end{tabular}\n"
      ],
      "text/plain": [
       "\u001b[1m2×3 DataFrame\u001b[0m\n",
       "\u001b[1m Row \u001b[0m│\u001b[1m sex   \u001b[0m\u001b[1m qsmk_0  \u001b[0m\u001b[1m qsmk_1  \u001b[0m\n",
       "\u001b[1m     \u001b[0m│\u001b[90m Int64 \u001b[0m\u001b[90m Float64 \u001b[0m\u001b[90m Float64 \u001b[0m\n",
       "─────┼─────────────────────────\n",
       "   1 │     0  567.098  196.513\n",
       "   2 │     1  595.424  205.154"
      ]
     },
     "execution_count": 46,
     "metadata": {},
     "output_type": "execute_result"
    }
   ],
   "source": [
    "qsmk = nhefs.qsmk\n",
    "sex = nhefs.sex\n",
    "DataFrame(\n",
    "    sex=[0, 1],\n",
    "    qsmk_0=[\n",
    "        sum(s_weights[(qsmk .== 0) .& (sex .== 0)]),\n",
    "        sum(s_weights[(qsmk .== 0) .& (sex .== 1)])\n",
    "    ],\n",
    "    qsmk_1=[\n",
    "        sum(s_weights[(qsmk .== 1) .& (sex .== 0)]),\n",
    "        sum(s_weights[(qsmk .== 1) .& (sex .== 1)])\n",
    "    ],\n",
    ")"
   ]
  },
  {
   "cell_type": "markdown",
   "metadata": {},
   "source": [
    "## Section 12.4"
   ]
  },
  {
   "cell_type": "markdown",
   "metadata": {},
   "source": [
    "### Program 12.4"
   ]
  },
  {
   "cell_type": "markdown",
   "metadata": {},
   "source": [
    "Subset the data to subjects that smoked 25 or fewer cigarettes per day at baseline. In this case, we can either obtain the subset from the original dataset, or we can obtain it from the reduced dataset that we've been using. I'll get it from the reduced subset."
   ]
  },
  {
   "cell_type": "code",
   "execution_count": 47,
   "metadata": {},
   "outputs": [
    {
     "data": {
      "text/plain": [
       "(1162, 64)"
      ]
     },
     "execution_count": 47,
     "metadata": {},
     "output_type": "execute_result"
    }
   ],
   "source": [
    "# from original dataset\n",
    "\n",
    "good_rows = (nhefs_all.smokeintensity .<= 25) .& .! ismissing.(nhefs_all.wt82)\n",
    "intensity25 = nhefs_all[good_rows, :]\n",
    "size(intensity25)"
   ]
  },
  {
   "cell_type": "code",
   "execution_count": 48,
   "metadata": {},
   "outputs": [
    {
     "data": {
      "text/plain": [
       "(1162, 67)"
      ]
     },
     "execution_count": 48,
     "metadata": {},
     "output_type": "execute_result"
    }
   ],
   "source": [
    "# from reduced dataset\n",
    "\n",
    "intensity25 = nhefs[nhefs.smokeintensity .<= 25, :]\n",
    "size(intensity25)"
   ]
  },
  {
   "cell_type": "markdown",
   "metadata": {},
   "source": [
    "Create the stabilized IP weights $SW^A = f(A) \\, / \\, f(A|L)$"
   ]
  },
  {
   "cell_type": "markdown",
   "metadata": {},
   "source": [
    "\"we assumed that the density f(A|L) was normal (Gaussian) with mean $\\mu = E[A|L]$ and variance $\\sigma^2$.  We then used a linear regression model to estimate the mean $E[A|L]$ and variance of residuals $\\sigma^2$ for all combinations of values of L.\" pg 156\n"
   ]
  },
  {
   "cell_type": "code",
   "execution_count": 49,
   "metadata": {},
   "outputs": [],
   "source": [
    "spec = @formula(\n",
    "    smkintensity82_71 ~ sex\n",
    "                      + race \n",
    "                      + age + age^2\n",
    "                      + education\n",
    "                      + smokeintensity + smokeintensity^2\n",
    "                      + smokeyrs + smokeyrs^2\n",
    "                      + exercise\n",
    "                      + active\n",
    "                      + wt71 + wt71^2\n",
    ")\n",
    "\n",
    "ols = lm(spec, intensity25);"
   ]
  },
  {
   "cell_type": "code",
   "execution_count": 50,
   "metadata": {},
   "outputs": [],
   "source": [
    "A = intensity25.smkintensity82_71;"
   ]
  },
  {
   "cell_type": "code",
   "execution_count": 51,
   "metadata": {},
   "outputs": [],
   "source": [
    "A_pred = predict(ols, intensity25);   # i.e., E[A|L]"
   ]
  },
  {
   "cell_type": "markdown",
   "metadata": {},
   "source": [
    "The denominator is the distribution, $N(\\mu, \\sigma)$, evaluated at each point of $y = A$."
   ]
  },
  {
   "cell_type": "code",
   "execution_count": 52,
   "metadata": {},
   "outputs": [],
   "source": [
    "mse_resid = sum((A - A_pred) .^ 2) / dof_residual(ols)  # variance\n",
    "fAL = [\n",
    "    pdf(Normal(a_pred, sqrt(mse_resid)), a)\n",
    "    for (a, a_pred) in zip(A, A_pred)\n",
    "];"
   ]
  },
  {
   "cell_type": "markdown",
   "metadata": {},
   "source": [
    "\"We also assumed that the density f(A) in the numerator was normal.\""
   ]
  },
  {
   "cell_type": "code",
   "execution_count": 53,
   "metadata": {},
   "outputs": [
    {
     "data": {
      "image/png": "[encoded data removed]",
      "text/plain": [
       "FigureAxisPlot()"
      ]
     },
     "execution_count": 53,
     "metadata": {},
     "output_type": "execute_result"
    }
   ],
   "source": [
    "hist(A, bins=30, figure=(resolution=(600, 400),))"
   ]
  },
  {
   "cell_type": "code",
   "execution_count": 54,
   "metadata": {},
   "outputs": [
    {
     "data": {
      "text/plain": [
       "(-2.057659208261618, 10.467830908151857)"
      ]
     },
     "execution_count": 54,
     "metadata": {},
     "output_type": "execute_result"
    }
   ],
   "source": [
    "mean(A), std(A)"
   ]
  },
  {
   "cell_type": "code",
   "execution_count": 55,
   "metadata": {},
   "outputs": [],
   "source": [
    "a_dist = Normal(mean(A), std(A))\n",
    "fA = [pdf(a_dist, a) for a in A];"
   ]
  },
  {
   "cell_type": "markdown",
   "metadata": {},
   "source": [
    "Then the stabilized IP weights are"
   ]
  },
  {
   "cell_type": "code",
   "execution_count": 56,
   "metadata": {},
   "outputs": [],
   "source": [
    "sw = fA ./ fAL;"
   ]
  },
  {
   "cell_type": "code",
   "execution_count": 57,
   "metadata": {},
   "outputs": [
    {
     "name": "stdout",
     "output_type": "stream",
     "text": [
      "Stabilized weights\n",
      " min   mean    max\n",
      "------------------\n",
      "0.19   1.00   5.10"
     ]
    }
   ],
   "source": [
    "println(\"Stabilized weights\")\n",
    "println(\" min   mean    max\")\n",
    "println(\"------------------\")\n",
    "@printf \"%04.2f   %04.2f   %04.2f\" minimum(sw) mean(sw) maximum(sw)"
   ]
  },
  {
   "cell_type": "markdown",
   "metadata": {},
   "source": [
    "Now fit the marginal structural model"
   ]
  },
  {
   "cell_type": "code",
   "execution_count": 58,
   "metadata": {},
   "outputs": [],
   "source": [
    "y = intensity25.wt82_71\n",
    "X = [ones(nrow(intensity25)) A A.^2]   # A = intensity25.smkintensity82_71\n",
    "groups = convert(Array{Int}, intensity25.seqn);"
   ]
  },
  {
   "cell_type": "code",
   "execution_count": 59,
   "metadata": {},
   "outputs": [],
   "source": [
    "wls = sm.WLS(y, X, weights=sw)\n",
    "res = wls.fit(cov_type=\"cluster\", cov_kwds=Dict(\"groups\" => groups));"
   ]
  },
  {
   "cell_type": "code",
   "execution_count": 60,
   "metadata": {},
   "outputs": [
    {
     "data": {
      "text/html": [
       "<table class=\"simpletable\">\n",
       "<tr>\n",
       "       <td></td>          <th>coef</th>     <th>std err</th>      <th>z</th>      <th>P>|z|</th>  <th>[0.025</th>    <th>0.975]</th>  \n",
       "</tr>\n",
       "<tr>\n",
       "  <th>(Intercept)</th> <td>    2.0045</td> <td>    0.296</td> <td>    6.783</td> <td> 0.000</td> <td>    1.425</td> <td>    2.584</td>\n",
       "</tr>\n",
       "<tr>\n",
       "  <th>A</th>           <td>   -0.1090</td> <td>    0.032</td> <td>   -3.452</td> <td> 0.001</td> <td>   -0.171</td> <td>   -0.047</td>\n",
       "</tr>\n",
       "<tr>\n",
       "  <th>A^2</th>         <td>    0.0027</td> <td>    0.002</td> <td>    1.113</td> <td> 0.266</td> <td>   -0.002</td> <td>    0.007</td>\n",
       "</tr>\n",
       "</table>"
      ]
     },
     "metadata": {},
     "output_type": "display_data"
    }
   ],
   "source": [
    "display_coefs(res, xname=[\"(Intercept)\", \"A\", \"A^2\"])"
   ]
  },
  {
   "cell_type": "markdown",
   "metadata": {},
   "source": [
    "To get the estimate and confidence interval for \"no change\", you can read off the values in the `constant` row above (because `A` and `A^2` will be zero).\n",
    "\n",
    "To calculate the estimate and confidence interval for when smoking increases by 20 cigarettes / day we'll use the `get_prediction` method on the Python model object.\n",
    "\n",
    "There are three versions below that just modify the presentation by using extra knowledge of the underlying Python objects. "
   ]
  },
  {
   "cell_type": "code",
   "execution_count": 61,
   "metadata": {},
   "outputs": [
    {
     "data": {
      "text/html": [
       "<div>\n",
       "<style scoped>\n",
       "    .dataframe tbody tr th:only-of-type {\n",
       "        vertical-align: middle;\n",
       "    }\n",
       "\n",
       "    .dataframe tbody tr th {\n",
       "        vertical-align: top;\n",
       "    }\n",
       "\n",
       "    .dataframe thead th {\n",
       "        text-align: right;\n",
       "    }\n",
       "</style>\n",
       "<table border=\"1\" class=\"dataframe\">\n",
       "  <thead>\n",
       "    <tr style=\"text-align: right;\">\n",
       "      <th></th>\n",
       "      <th>mean</th>\n",
       "      <th>mean_se</th>\n",
       "      <th>mean_ci_lower</th>\n",
       "      <th>mean_ci_upper</th>\n",
       "      <th>obs_ci_lower</th>\n",
       "      <th>obs_ci_upper</th>\n",
       "    </tr>\n",
       "  </thead>\n",
       "  <tbody>\n",
       "    <tr>\n",
       "      <th>0</th>\n",
       "      <td>2.004525</td>\n",
       "      <td>0.295502</td>\n",
       "      <td>1.425351</td>\n",
       "      <td>2.583698</td>\n",
       "      <td>-13.243053</td>\n",
       "      <td>17.252103</td>\n",
       "    </tr>\n",
       "    <tr>\n",
       "      <th>1</th>\n",
       "      <td>0.902723</td>\n",
       "      <td>1.310533</td>\n",
       "      <td>-1.665873</td>\n",
       "      <td>3.471320</td>\n",
       "      <td>-14.548842</td>\n",
       "      <td>16.354289</td>\n",
       "    </tr>\n",
       "  </tbody>\n",
       "</table>\n",
       "</div>"
      ],
      "text/plain": [
       "PyObject        mean   mean_se  mean_ci_lower  mean_ci_upper  obs_ci_lower  obs_ci_upper\n",
       "0  2.004525  0.295502       1.425351       2.583698    -13.243053     17.252103\n",
       "1  0.902723  1.310533      -1.665873       3.471320    -14.548842     16.354289"
      ]
     },
     "execution_count": 61,
     "metadata": {},
     "output_type": "execute_result"
    }
   ],
   "source": [
    "# version 1: basic\n",
    "\n",
    "pred_inputs = [\n",
    "    1  0  0  ;    # no change in smoking intensity\n",
    "    1 20 20^2     # plus 20 cigarettes / day\n",
    "]\n",
    "pred = res.get_prediction(exog=pred_inputs)\n",
    "summary = pred.summary_frame()"
   ]
  },
  {
   "cell_type": "code",
   "execution_count": 62,
   "metadata": {},
   "outputs": [
    {
     "data": {
      "text/html": [
       "<div>\n",
       "<style scoped>\n",
       "    .dataframe tbody tr th:only-of-type {\n",
       "        vertical-align: middle;\n",
       "    }\n",
       "\n",
       "    .dataframe tbody tr th {\n",
       "        vertical-align: top;\n",
       "    }\n",
       "\n",
       "    .dataframe thead th {\n",
       "        text-align: right;\n",
       "    }\n",
       "</style>\n",
       "<table border=\"1\" class=\"dataframe\">\n",
       "  <thead>\n",
       "    <tr style=\"text-align: right;\">\n",
       "      <th></th>\n",
       "      <th>mean</th>\n",
       "      <th>mean_ci_lower</th>\n",
       "      <th>mean_ci_upper</th>\n",
       "    </tr>\n",
       "  </thead>\n",
       "  <tbody>\n",
       "    <tr>\n",
       "      <th>0</th>\n",
       "      <td>2.0</td>\n",
       "      <td>1.4</td>\n",
       "      <td>2.6</td>\n",
       "    </tr>\n",
       "    <tr>\n",
       "      <th>1</th>\n",
       "      <td>0.9</td>\n",
       "      <td>-1.7</td>\n",
       "      <td>3.5</td>\n",
       "    </tr>\n",
       "  </tbody>\n",
       "</table>\n",
       "</div>"
      ],
      "text/plain": [
       "PyObject    mean  mean_ci_lower  mean_ci_upper\n",
       "0   2.0            1.4            2.6\n",
       "1   0.9           -1.7            3.5"
      ]
     },
     "execution_count": 62,
     "metadata": {},
     "output_type": "execute_result"
    }
   ],
   "source": [
    "# version 2: simplify\n",
    "\n",
    "summary = summary.round(1)\n",
    "summary = summary.__getitem__([\"mean\", \"mean_ci_lower\", \"mean_ci_upper\"])\n",
    "# Using __getitem__ is not the standard way to do this in Python"
   ]
  },
  {
   "cell_type": "code",
   "execution_count": 63,
   "metadata": {},
   "outputs": [
    {
     "data": {
      "text/html": [
       "<div>\n",
       "<style scoped>\n",
       "    .dataframe tbody tr th:only-of-type {\n",
       "        vertical-align: middle;\n",
       "    }\n",
       "\n",
       "    .dataframe tbody tr th {\n",
       "        vertical-align: top;\n",
       "    }\n",
       "\n",
       "    .dataframe thead th {\n",
       "        text-align: right;\n",
       "    }\n",
       "</style>\n",
       "<table border=\"1\" class=\"dataframe\">\n",
       "  <thead>\n",
       "    <tr style=\"text-align: right;\">\n",
       "      <th></th>\n",
       "      <th>estimate</th>\n",
       "      <th>CI lower</th>\n",
       "      <th>CI upper</th>\n",
       "    </tr>\n",
       "  </thead>\n",
       "  <tbody>\n",
       "    <tr>\n",
       "      <th>no change</th>\n",
       "      <td>2.0</td>\n",
       "      <td>1.4</td>\n",
       "      <td>2.6</td>\n",
       "    </tr>\n",
       "    <tr>\n",
       "      <th>+20 per day</th>\n",
       "      <td>0.9</td>\n",
       "      <td>-1.7</td>\n",
       "      <td>3.5</td>\n",
       "    </tr>\n",
       "  </tbody>\n",
       "</table>\n",
       "</div>"
      ],
      "text/plain": [
       "PyObject              estimate  CI lower  CI upper\n",
       "no change         2.0       1.4       2.6\n",
       "+20 per day       0.9      -1.7       3.5"
      ]
     },
     "execution_count": 63,
     "metadata": {},
     "output_type": "execute_result"
    }
   ],
   "source": [
    "# version 3: relabel the rows and columns\n",
    "\n",
    "summary.index = [\"no change\", \"+20 per day\"]\n",
    "summary.columns = [\"estimate\", \"CI lower\", \"CI upper\"]\n",
    "summary"
   ]
  },
  {
   "cell_type": "markdown",
   "metadata": {},
   "source": [
    "### Program 12.5"
   ]
  },
  {
   "cell_type": "markdown",
   "metadata": {},
   "source": [
    "\"if interested in the causal effect of quitting smoking A (1: yes, 0: no) on the risk of death D (1: yes, 0: no) by 1982, one could consider a _marginal structural logistic model_\""
   ]
  },
  {
   "cell_type": "code",
   "execution_count": 64,
   "metadata": {},
   "outputs": [],
   "source": [
    "y = nhefs.death\n",
    "X = [ones(nrow(nhefs)) nhefs.qsmk]\n",
    "groups = convert(Array{Int}, nhefs.seqn);"
   ]
  },
  {
   "cell_type": "code",
   "execution_count": 65,
   "metadata": {},
   "outputs": [],
   "source": [
    "lgt = sm.GLM(y, X, freq_weights=s_weights, family=sm.families.Binomial())\n",
    "res = lgt.fit(cov_type=\"cluster\", cov_kwds=Dict(\"groups\" => groups));"
   ]
  },
  {
   "cell_type": "code",
   "execution_count": 66,
   "metadata": {},
   "outputs": [
    {
     "data": {
      "text/html": [
       "<table class=\"simpletable\">\n",
       "<tr>\n",
       "       <td></td>          <th>coef</th>     <th>std err</th>      <th>z</th>      <th>P>|z|</th>  <th>[0.025</th>    <th>0.975]</th>  \n",
       "</tr>\n",
       "<tr>\n",
       "  <th>(Intercept)</th> <td>   -1.4905</td> <td>    0.079</td> <td>  -18.869</td> <td> 0.000</td> <td>   -1.645</td> <td>   -1.336</td>\n",
       "</tr>\n",
       "<tr>\n",
       "  <th>qsmk</th>        <td>    0.0301</td> <td>    0.157</td> <td>    0.191</td> <td> 0.848</td> <td>   -0.278</td> <td>    0.339</td>\n",
       "</tr>\n",
       "</table></table>"
      ]
     },
     "metadata": {},
     "output_type": "display_data"
    }
   ],
   "source": [
    "display_coefs(res, xname=[\"(Intercept)\", \"qsmk\"])"
   ]
  },
  {
   "cell_type": "markdown",
   "metadata": {},
   "source": [
    "Odd ratio is $\\exp(\\hat{\\theta}_1)$"
   ]
  },
  {
   "cell_type": "code",
   "execution_count": 67,
   "metadata": {},
   "outputs": [
    {
     "name": "stdout",
     "output_type": "stream",
     "text": [
      "           estimate   95% C.I.\n",
      "odds ratio    1.03   (0.8, 1.4)"
     ]
    }
   ],
   "source": [
    "est = exp(res.params[2])\n",
    "conf_ints = res.conf_int(alpha=0.05)\n",
    "lo = exp(conf_ints[2, 1])\n",
    "hi = exp(conf_ints[2, 2])\n",
    "\n",
    "println(\"           estimate   95% C.I.\")\n",
    "@printf \"odds ratio  %6.2f   (%0.1f, %0.1f)\" est lo hi"
   ]
  },
  {
   "cell_type": "markdown",
   "metadata": {},
   "source": [
    "## Section 12.5"
   ]
  },
  {
   "cell_type": "markdown",
   "metadata": {},
   "source": [
    "### Program 12.6"
   ]
  },
  {
   "cell_type": "markdown",
   "metadata": {},
   "source": [
    "Create the numerator of the IP weights. Reuse the basic `weights` for the denominator."
   ]
  },
  {
   "cell_type": "code",
   "execution_count": 68,
   "metadata": {},
   "outputs": [],
   "source": [
    "spec = @formula(qsmk ~ sex)\n",
    "numer = logit_ip_f(spec, nhefs);"
   ]
  },
  {
   "cell_type": "code",
   "execution_count": 69,
   "metadata": {},
   "outputs": [],
   "source": [
    "sw_AV = numer .* weights;"
   ]
  },
  {
   "cell_type": "code",
   "execution_count": 70,
   "metadata": {},
   "outputs": [
    {
     "name": "stdout",
     "output_type": "stream",
     "text": [
      "Stabilized weights\n",
      " min   mean    max\n",
      "------------------\n",
      "0.29   1.00   3.80"
     ]
    }
   ],
   "source": [
    "println(\"Stabilized weights\")\n",
    "println(\" min   mean    max\")\n",
    "println(\"------------------\")\n",
    "@printf \"%04.2f   %04.2f   %04.2f\" minimum(sw_AV) mean(sw_AV) maximum(sw_AV)"
   ]
  },
  {
   "cell_type": "code",
   "execution_count": 71,
   "metadata": {},
   "outputs": [],
   "source": [
    "y = nhefs.wt82_71\n",
    "X = [ones(nrow(nhefs)) nhefs.qsmk nhefs.sex nhefs.qsmk .* nhefs.sex]\n",
    "groups = convert(Array{Int}, nhefs.seqn);"
   ]
  },
  {
   "cell_type": "code",
   "execution_count": 72,
   "metadata": {},
   "outputs": [],
   "source": [
    "wls = sm.WLS(y, X, weights=sw_AV)\n",
    "res = wls.fit(cov_type=\"cluster\", cov_kwds=Dict(\"groups\" => groups));"
   ]
  },
  {
   "cell_type": "code",
   "execution_count": 73,
   "metadata": {},
   "outputs": [
    {
     "data": {
      "text/html": [
       "<table class=\"simpletable\">\n",
       "<tr>\n",
       "       <td></td>          <th>coef</th>     <th>std err</th>      <th>z</th>      <th>P>|z|</th>  <th>[0.025</th>    <th>0.975]</th>  \n",
       "</tr>\n",
       "<tr>\n",
       "  <th>(intercept)</th> <td>    1.7844</td> <td>    0.310</td> <td>    5.752</td> <td> 0.000</td> <td>    1.176</td> <td>    2.393</td>\n",
       "</tr>\n",
       "<tr>\n",
       "  <th>qsmk</th>        <td>    3.5220</td> <td>    0.658</td> <td>    5.353</td> <td> 0.000</td> <td>    2.232</td> <td>    4.811</td>\n",
       "</tr>\n",
       "<tr>\n",
       "  <th>sex</th>         <td>   -0.0087</td> <td>    0.449</td> <td>   -0.019</td> <td> 0.985</td> <td>   -0.890</td> <td>    0.872</td>\n",
       "</tr>\n",
       "<tr>\n",
       "  <th>qsmk & sex</th>  <td>   -0.1595</td> <td>    1.047</td> <td>   -0.152</td> <td> 0.879</td> <td>   -2.212</td> <td>    1.893</td>\n",
       "</tr>\n",
       "</table>"
      ]
     },
     "metadata": {},
     "output_type": "display_data"
    }
   ],
   "source": [
    "display_coefs(res, xname=[\"(intercept)\", \"qsmk\", \"sex\", \"qsmk & sex\"])"
   ]
  },
  {
   "cell_type": "markdown",
   "metadata": {},
   "source": [
    "The last line gives the estimate $\\hat{\\theta}_2$ = -0.2 and confidence interval (-2.2, 1.9)."
   ]
  },
  {
   "cell_type": "markdown",
   "metadata": {},
   "source": [
    "## Section 12.6"
   ]
  },
  {
   "cell_type": "markdown",
   "metadata": {},
   "source": [
    "### Program 12.7"
   ]
  },
  {
   "cell_type": "markdown",
   "metadata": {},
   "source": [
    "We're going back to the original dataset"
   ]
  },
  {
   "cell_type": "code",
   "execution_count": 74,
   "metadata": {},
   "outputs": [
    {
     "data": {
      "text/plain": [
       "(1629, 64)"
      ]
     },
     "execution_count": 74,
     "metadata": {},
     "output_type": "execute_result"
    }
   ],
   "source": [
    "size(nhefs_all)"
   ]
  },
  {
   "cell_type": "markdown",
   "metadata": {},
   "source": [
    "We'll add a feature to track censored individuals"
   ]
  },
  {
   "cell_type": "code",
   "execution_count": 75,
   "metadata": {},
   "outputs": [],
   "source": [
    "nhefs_all.censored = ismissing.(nhefs_all.wt82);"
   ]
  },
  {
   "cell_type": "markdown",
   "metadata": {},
   "source": [
    "Create the IP weights for treatment"
   ]
  },
  {
   "cell_type": "code",
   "execution_count": 76,
   "metadata": {
    "scrolled": true
   },
   "outputs": [],
   "source": [
    "spec = @formula(\n",
    "    qsmk ~ sex\n",
    "         + race\n",
    "         + education\n",
    "         + exercise\n",
    "         + active\n",
    "         + age + age ^ 2\n",
    "         + wt71 + wt71 ^ 2\n",
    "         + smokeintensity + smokeintensity ^ 2\n",
    "         + smokeyrs + smokeyrs ^ 2\n",
    ")\n",
    "ip_denom = logit_ip_f(spec, nhefs_all);"
   ]
  },
  {
   "cell_type": "code",
   "execution_count": 77,
   "metadata": {},
   "outputs": [],
   "source": [
    "ip_numer = zeros(nrow(nhefs_all))\n",
    "ip_numer[nhefs_all.qsmk .== 0] .= mean(nhefs_all.qsmk .== 0)\n",
    "ip_numer[nhefs_all.qsmk .== 1] .= mean(nhefs_all.qsmk .== 1);"
   ]
  },
  {
   "cell_type": "code",
   "execution_count": 78,
   "metadata": {},
   "outputs": [],
   "source": [
    "sw_A = ip_numer ./ ip_denom;"
   ]
  },
  {
   "cell_type": "code",
   "execution_count": 79,
   "metadata": {},
   "outputs": [
    {
     "name": "stdout",
     "output_type": "stream",
     "text": [
      "Stabilized weights\n",
      " min   mean    max\n",
      "------------------\n",
      "0.33   1.00   4.21"
     ]
    }
   ],
   "source": [
    "println(\"Stabilized weights\")\n",
    "println(\" min   mean    max\")\n",
    "println(\"------------------\")\n",
    "@printf \"%04.2f   %04.2f   %04.2f\" minimum(sw_A) mean(sw_A) maximum(sw_A)"
   ]
  },
  {
   "cell_type": "markdown",
   "metadata": {},
   "source": [
    "Now the IP weights for censoring"
   ]
  },
  {
   "cell_type": "code",
   "execution_count": 80,
   "metadata": {
    "scrolled": true
   },
   "outputs": [],
   "source": [
    "spec = @formula(\n",
    "    censored ~ sex\n",
    "             + race\n",
    "             + education\n",
    "             + exercise\n",
    "             + active\n",
    "             + age + age ^ 2\n",
    "             + wt71 + wt71 ^ 2\n",
    "             + smokeintensity + smokeintensity ^ 2\n",
    "             + smokeyrs + smokeyrs ^ 2\n",
    "             + qsmk\n",
    ")\n",
    "ip_denom = logit_ip_f(spec, nhefs_all, :censored);"
   ]
  },
  {
   "cell_type": "code",
   "execution_count": 81,
   "metadata": {},
   "outputs": [],
   "source": [
    "spec = @formula(censored ~ qsmk)\n",
    "ip_numer = logit_ip_f(spec, nhefs_all, :censored);"
   ]
  },
  {
   "cell_type": "code",
   "execution_count": 82,
   "metadata": {},
   "outputs": [],
   "source": [
    "sw_C = ip_numer ./ ip_denom\n",
    "sw_C[nhefs_all.censored .== 1] .= 1;"
   ]
  },
  {
   "cell_type": "code",
   "execution_count": 83,
   "metadata": {},
   "outputs": [
    {
     "name": "stdout",
     "output_type": "stream",
     "text": [
      "Stabilized weights\n",
      " min   mean    max\n",
      "------------------\n",
      "0.94   1.00   1.72"
     ]
    }
   ],
   "source": [
    "println(\"Stabilized weights\")\n",
    "println(\" min   mean    max\")\n",
    "println(\"------------------\")\n",
    "@printf \"%04.2f   %04.2f   %04.2f\" minimum(sw_C) mean(sw_C) maximum(sw_C)"
   ]
  },
  {
   "cell_type": "markdown",
   "metadata": {},
   "source": [
    "Now create the combined IP weights"
   ]
  },
  {
   "cell_type": "code",
   "execution_count": 84,
   "metadata": {},
   "outputs": [],
   "source": [
    "sw_AC = sw_A .* sw_C;"
   ]
  },
  {
   "cell_type": "code",
   "execution_count": 85,
   "metadata": {},
   "outputs": [
    {
     "name": "stdout",
     "output_type": "stream",
     "text": [
      "Stabilized weights\n",
      " min   mean    max\n",
      "------------------\n",
      "0.35   1.00   4.09"
     ]
    }
   ],
   "source": [
    "println(\"Stabilized weights\")\n",
    "println(\" min   mean    max\")\n",
    "println(\"------------------\")\n",
    "@printf \"%04.2f   %04.2f   %04.2f\" minimum(sw_AC) mean(sw_AC) maximum(sw_AC)"
   ]
  },
  {
   "cell_type": "markdown",
   "metadata": {},
   "source": [
    "Now model weight gain using the combined IP weights"
   ]
  },
  {
   "cell_type": "code",
   "execution_count": 86,
   "metadata": {},
   "outputs": [],
   "source": [
    "y = nhefs.wt82_71\n",
    "X = [ones(nrow(nhefs)) nhefs.qsmk]\n",
    "groups = convert(Array{Int}, nhefs.seqn);"
   ]
  },
  {
   "cell_type": "code",
   "execution_count": 87,
   "metadata": {},
   "outputs": [],
   "source": [
    "wls = sm.WLS(y, X, weights=sw_AC[nhefs_all.censored .== 0])\n",
    "res = wls.fit(cov_type=\"cluster\", cov_kwds=Dict(\"groups\" => groups));"
   ]
  },
  {
   "cell_type": "code",
   "execution_count": 88,
   "metadata": {},
   "outputs": [
    {
     "data": {
      "text/html": [
       "<table class=\"simpletable\">\n",
       "<tr>\n",
       "       <td></td>          <th>coef</th>     <th>std err</th>      <th>z</th>      <th>P>|z|</th>  <th>[0.025</th>    <th>0.975]</th>  \n",
       "</tr>\n",
       "<tr>\n",
       "  <th>(intercept)</th> <td>    1.6620</td> <td>    0.233</td> <td>    7.136</td> <td> 0.000</td> <td>    1.206</td> <td>    2.118</td>\n",
       "</tr>\n",
       "<tr>\n",
       "  <th>qsmk</th>        <td>    3.4965</td> <td>    0.526</td> <td>    6.648</td> <td> 0.000</td> <td>    2.466</td> <td>    4.527</td>\n",
       "</tr>\n",
       "</table>"
      ]
     },
     "metadata": {},
     "output_type": "display_data"
    }
   ],
   "source": [
    "display_coefs(res, xname=[\"(intercept)\", \"qsmk\"])"
   ]
  }
 ],
 "metadata": {
  "anaconda-cloud": {},
  "kernelspec": {
   "display_name": "Julia 1.6.0",
   "language": "julia",
   "name": "julia-1.6"
  },
  "language_info": {
   "file_extension": ".jl",
   "mimetype": "application/julia",
   "name": "julia",
   "version": "1.6.0"
  }
 },
 "nbformat": 4,
 "nbformat_minor": 4
}
