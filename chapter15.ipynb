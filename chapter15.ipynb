{
 "cells": [
  {
   "cell_type": "markdown",
   "metadata": {},
   "source": [
    "# Chapter 15"
   ]
  },
  {
   "cell_type": "markdown",
   "metadata": {},
   "source": [
    "## Load packages / modules\n",
    "\n",
    "Standard library:\n",
    "- Printf for string formatting\n",
    "- Statistics for mean and std functions\n",
    "- Random for boostrap sampling\n",
    "\n",
    "External:\n",
    "- CSV.jl to load CSV files\n",
    "- DataFrames.jl for tabular data\n",
    "- CategoricalArrays.jl for working with categorical data columns and the `cut` function\n",
    "- GLM.jl for models\n",
    "- StatsBase.jl for histogram binning\n",
    "- CairoMakie.jl for plotting"
   ]
  },
  {
   "cell_type": "code",
   "execution_count": 1,
   "metadata": {},
   "outputs": [],
   "source": [
    "using Printf, Statistics, Random\n",
    "using CSV, DataFrames, CategoricalArrays, GLM, StatsBase, CairoMakie"
   ]
  },
  {
   "cell_type": "markdown",
   "metadata": {},
   "source": [
    "## Load data"
   ]
  },
  {
   "cell_type": "code",
   "execution_count": 2,
   "metadata": {},
   "outputs": [],
   "source": [
    "nhefs_all = DataFrame(CSV.File(\"nhefs.csv\"));"
   ]
  },
  {
   "cell_type": "code",
   "execution_count": 3,
   "metadata": {},
   "outputs": [
    {
     "data": {
      "text/plain": [
       "(1629, 64)"
      ]
     },
     "execution_count": 3,
     "metadata": {},
     "output_type": "execute_result"
    }
   ],
   "source": [
    "size(nhefs_all)"
   ]
  },
  {
   "cell_type": "code",
   "execution_count": 4,
   "metadata": {},
   "outputs": [],
   "source": [
    "for s in [:education, :exercise, :active]\n",
    "    nhefs_all[!, s] = categorical(nhefs_all[!, s])\n",
    "end"
   ]
  },
  {
   "cell_type": "markdown",
   "metadata": {},
   "source": [
    "Subset to uncensored rows"
   ]
  },
  {
   "cell_type": "code",
   "execution_count": 5,
   "metadata": {},
   "outputs": [],
   "source": [
    "nhefs = dropmissing(nhefs_all, :wt82);"
   ]
  },
  {
   "cell_type": "code",
   "execution_count": 6,
   "metadata": {},
   "outputs": [
    {
     "data": {
      "text/plain": [
       "(1566, 64)"
      ]
     },
     "execution_count": 6,
     "metadata": {},
     "output_type": "execute_result"
    }
   ],
   "source": [
    "size(nhefs)"
   ]
  },
  {
   "cell_type": "markdown",
   "metadata": {},
   "source": [
    "## Section 15.1"
   ]
  },
  {
   "cell_type": "markdown",
   "metadata": {},
   "source": [
    "### Program 15.1"
   ]
  },
  {
   "cell_type": "markdown",
   "metadata": {},
   "source": [
    "\"Using the same model as in Section 13.2...\""
   ]
  },
  {
   "cell_type": "code",
   "execution_count": 7,
   "metadata": {},
   "outputs": [],
   "source": [
    "spec = @formula(\n",
    "    wt82_71 ~ qsmk\n",
    "            + sex\n",
    "            + race\n",
    "            + education\n",
    "            + exercise\n",
    "            + active\n",
    "            + age + age ^ 2\n",
    "            + wt71 + wt71 ^ 2\n",
    "            + smokeintensity + smokeintensity ^ 2\n",
    "            + smokeyrs + smokeyrs ^ 2\n",
    "            + qsmk & smokeintensity\n",
    ");"
   ]
  },
  {
   "cell_type": "code",
   "execution_count": 8,
   "metadata": {},
   "outputs": [
    {
     "data": {
      "text/plain": [
       "StatsModels.TableRegressionModel{LinearModel{GLM.LmResp{Vector{Float64}}, GLM.DensePredChol{Float64, LinearAlgebra.CholeskyPivoted{Float64, Matrix{Float64}}}}, Matrix{Float64}}\n",
       "\n",
       "wt82_71 ~ 1 + qsmk + sex + race + education + exercise + active + age + :(age ^ 2) + wt71 + :(wt71 ^ 2) + smokeintensity + :(smokeintensity ^ 2) + smokeyrs + :(smokeyrs ^ 2) + qsmk & smokeintensity\n",
       "\n",
       "Coefficients:\n",
       "─────────────────────────────────────────────────────────────────────────────────────────────\n",
       "                              Coef.   Std. Error      t  Pr(>|t|)     Lower 95%     Upper 95%\n",
       "─────────────────────────────────────────────────────────────────────────────────────────────\n",
       "(Intercept)            -1.58817      4.31304      -0.37    0.7128  -10.0482       6.87186\n",
       "qsmk                    2.55959      0.809149      3.16    0.0016    0.972449     4.14674\n",
       "sex                    -1.43027      0.468958     -3.05    0.0023   -2.35013     -0.510411\n",
       "race                    0.56011      0.581889      0.96    0.3359   -0.581266     1.70148\n",
       "education: 2            0.790444     0.607         1.30    0.1930   -0.400188     1.98108\n",
       "education: 3            0.556312     0.556102      1.00    0.3173   -0.534481     1.64711\n",
       "education: 4            1.49157      0.83227       1.79    0.0733   -0.140929     3.12407\n",
       "education: 5           -0.194977     0.741369     -0.26    0.7926   -1.64917      1.25922\n",
       "exercise: 1             0.295975     0.535153      0.55    0.5803   -0.753728     1.34568\n",
       "exercise: 2             0.353913     0.558859      0.63    0.5266   -0.742289     1.45011\n",
       "active: 1              -0.947569     0.409934     -2.31    0.0209   -1.75166     -0.143483\n",
       "active: 2              -0.261378     0.684558     -0.38    0.7026   -1.60414      1.08138\n",
       "age                     0.359635     0.163319      2.20    0.0278    0.0392854    0.679985\n",
       "age ^ 2                -0.00610096   0.00172614   -3.53    0.0004   -0.00948677  -0.00271514\n",
       "wt71                    0.0455018    0.0833709     0.55    0.5853   -0.11803      0.209034\n",
       "wt71 ^ 2               -0.000965325  0.000524713  -1.84    0.0660   -0.00199455   6.38996e-5\n",
       "smokeintensity          0.0491365    0.0517254     0.95    0.3423   -0.052323     0.150596\n",
       "smokeintensity ^ 2     -0.000990651  0.000938046  -1.06    0.2911   -0.00283063   0.000849327\n",
       "smokeyrs                0.134369     0.0917122     1.47    0.1431   -0.045525     0.314262\n",
       "smokeyrs ^ 2           -0.00186643   0.00154372   -1.21    0.2268   -0.00489444   0.00116158\n",
       "qsmk & smokeintensity   0.0466628    0.0351448     1.33    0.1845   -0.0222737    0.115599\n",
       "─────────────────────────────────────────────────────────────────────────────────────────────"
      ]
     },
     "execution_count": 8,
     "metadata": {},
     "output_type": "execute_result"
    }
   ],
   "source": [
    "ols = lm(spec, nhefs)"
   ]
  },
  {
   "cell_type": "code",
   "execution_count": 9,
   "metadata": {},
   "outputs": [
    {
     "name": "stdout",
     "output_type": "stream",
     "text": [
      "           estimate\n",
      "alpha_1       2.56\n",
      "alpha_2       0.05"
     ]
    }
   ],
   "source": [
    "println(\"           estimate\")\n",
    "@printf \"alpha_1     %6.2f\\n\" coef(ols)[2]\n",
    "@printf \"alpha_2     %6.2f\" coef(ols)[end]"
   ]
  },
  {
   "cell_type": "markdown",
   "metadata": {},
   "source": [
    "To obtain the estimates of the effect of quitting smoking, we'll use a `t_test` on the fitted model"
   ]
  },
  {
   "cell_type": "markdown",
   "metadata": {},
   "source": [
    "Software often provides a convenient way to calculate these, but here we'll use a more manual calculation. We create two arrays of values to represent to two situations we want to compare. We take the difference of arrays, and multiply by the coefficients above to get the estimate and mutiply with the covariance matrix to get the standard error.\n",
    "\n",
    "In the current case, here are two options for the created arrays\n",
    "1. Arrays with one value for each term in the regression. Use zeros for all terms except intercept, and terms involving `qsmk` and `smokeintensity`.\n",
    "2. Use sub-arrays for just the terms of interest and use corresponding values in the estimated coefficient and covariance matrix.\n",
    "\n",
    "We'll use the second approach."
   ]
  },
  {
   "cell_type": "markdown",
   "metadata": {},
   "source": [
    "First extract the values of the coefficents and covariance matrix"
   ]
  },
  {
   "cell_type": "code",
   "execution_count": 10,
   "metadata": {},
   "outputs": [],
   "source": [
    "# intercept, qsmk, smokeintensity, smokeintensity^2, qsmk * smokeintensity\n",
    "contrast_indices = [1, 2, 17, 18, 21]\n",
    "sub_coef = coef(ols)[contrast_indices]\n",
    "sub_vcov = vcov(ols)[contrast_indices, contrast_indices];"
   ]
  },
  {
   "cell_type": "markdown",
   "metadata": {},
   "source": [
    "Now, for the 5 cigarettes/day example, we'll construct the constrast arrays and calculate the effect."
   ]
  },
  {
   "cell_type": "code",
   "execution_count": 11,
   "metadata": {},
   "outputs": [],
   "source": [
    "# intercept, qsmk, smokeintensity, smokeintensity^2, qsmk * smokeintensity\n",
    "contrast_array1 = [1, 1, 5, 25, 5]  \n",
    "contrast_array2 = [1, 0, 5, 25, 0]\n",
    "contrast_diff = contrast_array1 .- contrast_array2;"
   ]
  },
  {
   "cell_type": "code",
   "execution_count": 12,
   "metadata": {},
   "outputs": [],
   "source": [
    "est = sum(sub_coef .* contrast_diff)\n",
    "ste = sqrt(contrast_diff' * sub_vcov * contrast_diff);"
   ]
  },
  {
   "cell_type": "code",
   "execution_count": 13,
   "metadata": {},
   "outputs": [
    {
     "name": "stdout",
     "output_type": "stream",
     "text": [
      "effect of quitting when smoking 5 cigarettes/day\n",
      "\n",
      "              estimate    95% C.I.\n",
      "qsmk effect      2.8     (1.5, 4.1)\n"
     ]
    }
   ],
   "source": [
    "lo = (est - 1.96 * ste)\n",
    "hi = (est + 1.96 * ste)\n",
    "\n",
    "println(\"effect of quitting when smoking 5 cigarettes/day\\n\")\n",
    "println(\"              estimate    95% C.I.\")\n",
    "@printf \"qsmk effect   %6.1f     (%0.1f, %0.1f)\\n\" est lo hi"
   ]
  },
  {
   "cell_type": "markdown",
   "metadata": {},
   "source": [
    "<br>\n",
    "Now we'll do the same for 40 cigarettes/day."
   ]
  },
  {
   "cell_type": "code",
   "execution_count": 14,
   "metadata": {},
   "outputs": [],
   "source": [
    "# intercept, qsmk, smokeintensity, smokeintensity^2, qsmk * smokeintensity\n",
    "contrast_array1 = [1, 1, 40, 1600, 40]  \n",
    "contrast_array2 = [1, 0, 40, 1600,  0]\n",
    "contrast_diff = contrast_array1 .- contrast_array2;"
   ]
  },
  {
   "cell_type": "code",
   "execution_count": 15,
   "metadata": {},
   "outputs": [],
   "source": [
    "est = sum(sub_coef .* contrast_diff)\n",
    "ste = sqrt(contrast_diff' * sub_vcov * contrast_diff);"
   ]
  },
  {
   "cell_type": "code",
   "execution_count": 16,
   "metadata": {},
   "outputs": [
    {
     "name": "stdout",
     "output_type": "stream",
     "text": [
      "effect of quitting when smoking 40 cigarettes/day\n",
      "\n",
      "              estimate    95% C.I.\n",
      "qsmk effect      4.4     (2.8, 6.1)\n"
     ]
    }
   ],
   "source": [
    "lo = (est - 1.96 * ste)\n",
    "hi = (est + 1.96 * ste)\n",
    "\n",
    "println(\"effect of quitting when smoking 40 cigarettes/day\\n\")\n",
    "println(\"              estimate    95% C.I.\")\n",
    "@printf \"qsmk effect   %6.1f     (%0.1f, %0.1f)\\n\" est lo hi"
   ]
  },
  {
   "cell_type": "markdown",
   "metadata": {},
   "source": [
    "<br>\n",
    "If we don't use the product term `qsmk & smokeintensity`, we get the following model and effect estimate"
   ]
  },
  {
   "cell_type": "code",
   "execution_count": 17,
   "metadata": {},
   "outputs": [],
   "source": [
    "spec = @formula(\n",
    "    wt82_71 ~ qsmk\n",
    "            + sex\n",
    "            + race\n",
    "            + education\n",
    "            + exercise\n",
    "            + active\n",
    "            + age + age ^ 2\n",
    "            + wt71 + wt71 ^ 2\n",
    "            + smokeintensity + smokeintensity ^ 2\n",
    "            + smokeyrs + smokeyrs ^ 2\n",
    ");"
   ]
  },
  {
   "cell_type": "code",
   "execution_count": 18,
   "metadata": {},
   "outputs": [
    {
     "data": {
      "text/plain": [
       "StatsModels.TableRegressionModel{LinearModel{GLM.LmResp{Vector{Float64}}, GLM.DensePredChol{Float64, LinearAlgebra.CholeskyPivoted{Float64, Matrix{Float64}}}}, Matrix{Float64}}\n",
       "\n",
       "wt82_71 ~ 1 + qsmk + sex + race + education + exercise + active + age + :(age ^ 2) + wt71 + :(wt71 ^ 2) + smokeintensity + :(smokeintensity ^ 2) + smokeyrs + :(smokeyrs ^ 2)\n",
       "\n",
       "Coefficients:\n",
       "──────────────────────────────────────────────────────────────────────────────────────────\n",
       "                           Coef.   Std. Error      t  Pr(>|t|)     Lower 95%     Upper 95%\n",
       "──────────────────────────────────────────────────────────────────────────────────────────\n",
       "(Intercept)         -1.65862      4.31377      -0.38    0.7007  -10.1201       6.80285\n",
       "qsmk                 3.46262      0.438454      7.90    <1e-14    2.60259      4.32265\n",
       "sex                 -1.46505      0.468341     -3.13    0.0018   -2.3837      -0.546399\n",
       "race                 0.586412     0.581695      1.01    0.3136   -0.554583     1.72741\n",
       "education: 2         0.818526     0.606782      1.35    0.1775   -0.371675     2.00873\n",
       "education: 3         0.5715       0.556121      1.03    0.3043   -0.519331     1.66233\n",
       "education: 4         1.50852      0.832378      1.81    0.0701   -0.124191     3.14123\n",
       "education: 5        -0.170826     0.741329     -0.23    0.8178   -1.62494      1.28329\n",
       "exercise: 1          0.320682     0.534962      0.60    0.5490   -0.728645     1.37001\n",
       "exercise: 2          0.362879     0.558956      0.65    0.5163   -0.733513     1.45927\n",
       "active: 1           -0.942957     0.410021     -2.30    0.0216   -1.74721     -0.138702\n",
       "active: 2           -0.258037     0.684722     -0.38    0.7063   -1.60112      1.08504\n",
       "age                  0.362662     0.163343      2.22    0.0265    0.0422649    0.68306\n",
       "age ^ 2             -0.00613773   0.00172634   -3.56    0.0004   -0.00952394  -0.00275151\n",
       "wt71                 0.0373642    0.0831658     0.45    0.6533   -0.125766     0.200494\n",
       "wt71 ^ 2            -0.000915822  0.000523516  -1.75    0.0804   -0.0019427    0.000111054\n",
       "smokeintensity       0.0651533    0.0503115     1.29    0.1955   -0.0335327    0.163839\n",
       "smokeintensity ^ 2  -0.00104679   0.000937324  -1.12    0.2643   -0.00288535   0.000791775\n",
       "smokeyrs             0.133393     0.0917319     1.45    0.1461   -0.0465389    0.313325\n",
       "smokeyrs ^ 2        -0.00182701   0.00154381   -1.18    0.2368   -0.0048552    0.00120118\n",
       "──────────────────────────────────────────────────────────────────────────────────────────"
      ]
     },
     "execution_count": 18,
     "metadata": {},
     "output_type": "execute_result"
    }
   ],
   "source": [
    "ols = lm(spec, nhefs)"
   ]
  },
  {
   "cell_type": "code",
   "execution_count": 19,
   "metadata": {},
   "outputs": [
    {
     "name": "stdout",
     "output_type": "stream",
     "text": [
      "           estimate   95% C.I.\n",
      "alpha_1       3.5    (2.6, 4.3)"
     ]
    }
   ],
   "source": [
    "est = coef(ols)[2]\n",
    "lo, hi = confint(ols)[2, 1], confint(ols)[2, 2]\n",
    "\n",
    "println(\"           estimate   95% C.I.\")\n",
    "@printf \"alpha_1     %5.1f    (%0.1f, %0.1f)\" est lo hi"
   ]
  },
  {
   "cell_type": "markdown",
   "metadata": {},
   "source": [
    "## Section 15.2"
   ]
  },
  {
   "cell_type": "markdown",
   "metadata": {},
   "source": [
    "### Program 15.2"
   ]
  },
  {
   "cell_type": "markdown",
   "metadata": {},
   "source": [
    "To estimate propensity score, we fit a logistic model for `qsmk` conditional on $L$"
   ]
  },
  {
   "cell_type": "code",
   "execution_count": 20,
   "metadata": {},
   "outputs": [],
   "source": [
    "spec = @formula(\n",
    "    qsmk ~ sex\n",
    "         + race\n",
    "         + age + age ^ 2\n",
    "         + education\n",
    "         + smokeintensity + smokeintensity ^ 2\n",
    "         + smokeyrs + smokeyrs ^ 2\n",
    "         + exercise\n",
    "         + active\n",
    "         + wt71 + wt71 ^ 2\n",
    ")\n",
    "\n",
    "model = glm(spec, nhefs_all, Binomial(), LogitLink());"
   ]
  },
  {
   "cell_type": "markdown",
   "metadata": {},
   "source": [
    "Then propensity is the predicted values"
   ]
  },
  {
   "cell_type": "code",
   "execution_count": 21,
   "metadata": {},
   "outputs": [],
   "source": [
    "propensity = predict(model, nhefs_all)\n",
    "nhefs_all.propensity = propensity;"
   ]
  },
  {
   "cell_type": "markdown",
   "metadata": {},
   "source": [
    "The lowest and highest propensity scores:"
   ]
  },
  {
   "cell_type": "code",
   "execution_count": 22,
   "metadata": {},
   "outputs": [],
   "source": [
    "ranked = sort(nhefs_all[!, [:seqn, :propensity]], :propensity);"
   ]
  },
  {
   "cell_type": "code",
   "execution_count": 23,
   "metadata": {},
   "outputs": [
    {
     "data": {
      "text/html": [
       "<p>DataFrameRow (2 columns)</p><div class=\"data-frame\"><table class=\"data-frame\"><thead><tr><th></th><th>seqn</th><th>propensity</th></tr><tr><th></th><th title=\"Int64\">Int64</th><th title=\"Union{Missing, Float64}\">Float64?</th></tr></thead><tbody><tr><th>1</th><td>22941</td><td>0.0529808</td></tr></tbody></table></div>"
      ],
      "text/latex": [
       "\\begin{tabular}{r|cc}\n",
       "\t& seqn & propensity\\\\\n",
       "\t\\hline\n",
       "\t& Int64 & Float64?\\\\\n",
       "\t\\hline\n",
       "\t1 & 22941 & 0.0529808 \\\\\n",
       "\\end{tabular}\n"
      ],
      "text/plain": [
       "\u001b[1mDataFrameRow\u001b[0m\n",
       "\u001b[1m Row \u001b[0m│\u001b[1m seqn  \u001b[0m\u001b[1m propensity \u001b[0m\n",
       "\u001b[1m     \u001b[0m│\u001b[90m Int64 \u001b[0m\u001b[90m Float64?   \u001b[0m\n",
       "─────┼───────────────────\n",
       "   1 │ 22941   0.0529808"
      ]
     },
     "execution_count": 23,
     "metadata": {},
     "output_type": "execute_result"
    }
   ],
   "source": [
    "ranked[1, :]"
   ]
  },
  {
   "cell_type": "code",
   "execution_count": 24,
   "metadata": {},
   "outputs": [
    {
     "data": {
      "text/html": [
       "<p>DataFrameRow (2 columns)</p><div class=\"data-frame\"><table class=\"data-frame\"><thead><tr><th></th><th>seqn</th><th>propensity</th></tr><tr><th></th><th title=\"Int64\">Int64</th><th title=\"Union{Missing, Float64}\">Float64?</th></tr></thead><tbody><tr><th>1629</th><td>24949</td><td>0.793205</td></tr></tbody></table></div>"
      ],
      "text/latex": [
       "\\begin{tabular}{r|cc}\n",
       "\t& seqn & propensity\\\\\n",
       "\t\\hline\n",
       "\t& Int64 & Float64?\\\\\n",
       "\t\\hline\n",
       "\t1629 & 24949 & 0.793205 \\\\\n",
       "\\end{tabular}\n"
      ],
      "text/plain": [
       "\u001b[1mDataFrameRow\u001b[0m\n",
       "\u001b[1m  Row \u001b[0m│\u001b[1m seqn  \u001b[0m\u001b[1m propensity \u001b[0m\n",
       "\u001b[1m      \u001b[0m│\u001b[90m Int64 \u001b[0m\u001b[90m Float64?   \u001b[0m\n",
       "──────┼───────────────────\n",
       " 1629 │ 24949    0.793205"
      ]
     },
     "execution_count": 24,
     "metadata": {},
     "output_type": "execute_result"
    }
   ],
   "source": [
    "ranked[end, :]"
   ]
  },
  {
   "cell_type": "markdown",
   "metadata": {},
   "source": [
    "Now we'll attempt to recreate Figure 15.1, pg 45\n",
    "\n",
    "First, we'll split the propensities based on whether the subject quit smoking"
   ]
  },
  {
   "cell_type": "code",
   "execution_count": 25,
   "metadata": {},
   "outputs": [],
   "source": [
    "propensity0 = propensity[nhefs_all.qsmk .== 0]\n",
    "propensity1 = propensity[nhefs_all.qsmk .== 1];"
   ]
  },
  {
   "cell_type": "markdown",
   "metadata": {},
   "source": [
    "It looks like the bins are spaced every 0.05 (except at the right end), with the first bin starting at 0.025."
   ]
  },
  {
   "cell_type": "code",
   "execution_count": 26,
   "metadata": {},
   "outputs": [],
   "source": [
    "bins = collect(0.025:0.05:0.85)\n",
    "top0 = fit(Histogram, propensity0, bins)\n",
    "top1 = fit(Histogram, propensity1, bins);"
   ]
  },
  {
   "cell_type": "code",
   "execution_count": 27,
   "metadata": {},
   "outputs": [],
   "source": [
    "xpos = bins[1:end-1] .+ 0.025;"
   ]
  },
  {
   "cell_type": "code",
   "execution_count": 28,
   "metadata": {},
   "outputs": [
    {
     "data": {
      "image/png": "[encoded data removed]",
      "text/plain": [
       "Figure()"
      ]
     },
     "execution_count": 28,
     "metadata": {},
     "output_type": "execute_result"
    }
   ],
   "source": [
    "fig = Figure(resolution=(600, 450)) \n",
    "ax = Axis(\n",
    "    fig[1, 1],\n",
    "    xlabel=\"Estimated Propensity Score\",\n",
    "    ylabel=\"No. Subjects\",\n",
    "    xticklabelsize=12,\n",
    "    yticklabelsize=12\n",
    ")\n",
    "\n",
    "barplot!(\n",
    "    ax,\n",
    "    xpos,\n",
    "    top0.weights,\n",
    "    color=:white,\n",
    "    strokecolor=:gray40,\n",
    "    strokewidth=1,\n",
    "    bar_labels=:y,\n",
    "    label_size=12,\n",
    "    label_formatter=(y -> string(Int(y)))\n",
    ")\n",
    "\n",
    "barplot!(\n",
    "    ax,\n",
    "    xpos,\n",
    "    (-1 .* top1.weights),\n",
    "    color=:gray40,\n",
    "    strokecolor=:gray40,\n",
    "    strokewidth=1,\n",
    "    bar_labels=:y,\n",
    "    label_size=12,\n",
    "    label_formatter=(y -> string(Int(-y)))\n",
    ")\n",
    "\n",
    "text!(\n",
    "    ax,\n",
    "    [\"A = 0\", \"A = 1\"],\n",
    "    position=[(0.75, 260), (0.75, -80)],\n",
    "    textsize=12,\n",
    ")\n",
    "\n",
    "ylims!(ax, -120, 300)\n",
    "\n",
    "fig"
   ]
  },
  {
   "cell_type": "code",
   "execution_count": 29,
   "metadata": {},
   "outputs": [
    {
     "name": "stdout",
     "output_type": "stream",
     "text": [
      "                  mean propensity\n",
      "    non-quitters: 0.245\n",
      "        quitters: 0.312"
     ]
    }
   ],
   "source": [
    "println(\"                  mean propensity\")\n",
    "@printf \"    non-quitters: %0.3f\\n\" mean(propensity0)\n",
    "@printf \"        quitters: %0.3f\" mean(propensity1)"
   ]
  },
  {
   "cell_type": "markdown",
   "metadata": {},
   "source": [
    "## Section 15.3"
   ]
  },
  {
   "cell_type": "markdown",
   "metadata": {},
   "source": [
    "### Program 15.3"
   ]
  },
  {
   "cell_type": "markdown",
   "metadata": {},
   "source": [
    "\"only individual 22005 had an estimated $\\pi(L)$ of 0.6563\", pg 186"
   ]
  },
  {
   "cell_type": "code",
   "execution_count": 30,
   "metadata": {},
   "outputs": [
    {
     "data": {
      "text/html": [
       "<div class=\"data-frame\"><p>1 rows × 2 columns</p><table class=\"data-frame\"><thead><tr><th></th><th>seqn</th><th>propensity</th></tr><tr><th></th><th title=\"Int64\">Int64</th><th title=\"Union{Missing, Float64}\">Float64?</th></tr></thead><tbody><tr><th>1</th><td>22005</td><td>0.656281</td></tr></tbody></table></div>"
      ],
      "text/latex": [
       "\\begin{tabular}{r|cc}\n",
       "\t& seqn & propensity\\\\\n",
       "\t\\hline\n",
       "\t& Int64 & Float64?\\\\\n",
       "\t\\hline\n",
       "\t1 & 22005 & 0.656281 \\\\\n",
       "\\end{tabular}\n"
      ],
      "text/plain": [
       "\u001b[1m1×2 DataFrame\u001b[0m\n",
       "\u001b[1m Row \u001b[0m│\u001b[1m seqn  \u001b[0m\u001b[1m propensity \u001b[0m\n",
       "\u001b[1m     \u001b[0m│\u001b[90m Int64 \u001b[0m\u001b[90m Float64?   \u001b[0m\n",
       "─────┼───────────────────\n",
       "   1 │ 22005    0.656281"
      ]
     },
     "execution_count": 30,
     "metadata": {},
     "output_type": "execute_result"
    }
   ],
   "source": [
    "nhefs_all[abs.(propensity .- 0.6563) .< 1e-4, [:seqn, :propensity]]"
   ]
  },
  {
   "cell_type": "markdown",
   "metadata": {},
   "source": [
    "Create the deciles and check their counts"
   ]
  },
  {
   "cell_type": "code",
   "execution_count": 31,
   "metadata": {},
   "outputs": [],
   "source": [
    "nhefs_all.decile = cut(propensity, 10, labels=[\"$i\" for i in 1:10]);"
   ]
  },
  {
   "cell_type": "code",
   "execution_count": 32,
   "metadata": {},
   "outputs": [
    {
     "data": {
      "text/html": [
       "<div class=\"data-frame\"><p>10 rows × 2 columns</p><table class=\"data-frame\"><thead><tr><th></th><th>decile</th><th>nrow</th></tr><tr><th></th><th title=\"Union{Missing, CategoricalValue{String, UInt32}}\">Cat…?</th><th title=\"Int64\">Int64</th></tr></thead><tbody><tr><th>1</th><td>1</td><td>163</td></tr><tr><th>2</th><td>2</td><td>163</td></tr><tr><th>3</th><td>3</td><td>163</td></tr><tr><th>4</th><td>4</td><td>163</td></tr><tr><th>5</th><td>5</td><td>162</td></tr><tr><th>6</th><td>6</td><td>163</td></tr><tr><th>7</th><td>7</td><td>163</td></tr><tr><th>8</th><td>8</td><td>163</td></tr><tr><th>9</th><td>9</td><td>163</td></tr><tr><th>10</th><td>10</td><td>163</td></tr></tbody></table></div>"
      ],
      "text/latex": [
       "\\begin{tabular}{r|cc}\n",
       "\t& decile & nrow\\\\\n",
       "\t\\hline\n",
       "\t& Cat…? & Int64\\\\\n",
       "\t\\hline\n",
       "\t1 & 1 & 163 \\\\\n",
       "\t2 & 2 & 163 \\\\\n",
       "\t3 & 3 & 163 \\\\\n",
       "\t4 & 4 & 163 \\\\\n",
       "\t5 & 5 & 162 \\\\\n",
       "\t6 & 6 & 163 \\\\\n",
       "\t7 & 7 & 163 \\\\\n",
       "\t8 & 8 & 163 \\\\\n",
       "\t9 & 9 & 163 \\\\\n",
       "\t10 & 10 & 163 \\\\\n",
       "\\end{tabular}\n"
      ],
      "text/plain": [
       "\u001b[1m10×2 DataFrame\u001b[0m\n",
       "\u001b[1m Row \u001b[0m│\u001b[1m decile \u001b[0m\u001b[1m nrow  \u001b[0m\n",
       "\u001b[1m     \u001b[0m│\u001b[90m Cat…?  \u001b[0m\u001b[90m Int64 \u001b[0m\n",
       "─────┼───────────────\n",
       "   1 │ 1         163\n",
       "   2 │ 2         163\n",
       "   3 │ 3         163\n",
       "   4 │ 4         163\n",
       "   5 │ 5         162\n",
       "   6 │ 6         163\n",
       "   7 │ 7         163\n",
       "   8 │ 8         163\n",
       "   9 │ 9         163\n",
       "  10 │ 10        163"
      ]
     },
     "execution_count": 32,
     "metadata": {},
     "output_type": "execute_result"
    }
   ],
   "source": [
    "# count number in each decile\n",
    "combine(groupby(nhefs_all, :decile), nrow)"
   ]
  },
  {
   "cell_type": "markdown",
   "metadata": {},
   "source": [
    "Now create a model with interaction between `qsmk` and deciles of $\\pi(L)$"
   ]
  },
  {
   "cell_type": "code",
   "execution_count": 33,
   "metadata": {},
   "outputs": [
    {
     "data": {
      "text/plain": [
       "StatsModels.TableRegressionModel{LinearModel{GLM.LmResp{Vector{Float64}}, GLM.DensePredChol{Float64, LinearAlgebra.CholeskyPivoted{Float64, Matrix{Float64}}}}, Matrix{Float64}}\n",
       "\n",
       "wt82_71 ~ 1 + qsmk + decile + qsmk & decile\n",
       "\n",
       "Coefficients:\n",
       "─────────────────────────────────────────────────────────────────────────────────\n",
       "                        Coef.  Std. Error      t  Pr(>|t|)  Lower 95%   Upper 95%\n",
       "─────────────────────────────────────────────────────────────────────────────────\n",
       "(Intercept)         3.9952       0.630308   6.34    <1e-09   2.75886    5.23155\n",
       "qsmk               -0.0146537    2.38883   -0.01    0.9951  -4.70034    4.67103\n",
       "decile: 2          -1.09053      0.916364  -1.19    0.2342  -2.88797    0.706921\n",
       "decile: 3          -1.38311      0.918205  -1.51    0.1322  -3.18417    0.417948\n",
       "decile: 4          -0.520526     0.925819  -0.56    0.5740  -2.33652    1.29547\n",
       "decile: 5          -1.88542      0.942367  -2.00    0.0456  -3.73387   -0.0369653\n",
       "decile: 6          -2.15738      0.951381  -2.27    0.0235  -4.02351   -0.291246\n",
       "decile: 7          -2.43516      0.949078  -2.57    0.0104  -4.29677   -0.573541\n",
       "decile: 8          -3.71052      0.973779  -3.81    0.0001  -5.62059   -1.80045\n",
       "decile: 9          -4.89065      1.03372   -4.73    <1e-05  -6.91829   -2.86302\n",
       "decile: 10         -4.49958      1.04925   -4.29    <1e-04  -6.55768   -2.44148\n",
       "qsmk & decile: 2    4.1634       2.89744    1.44    0.1509  -1.51992    9.84672\n",
       "qsmk & decile: 3    6.55913      2.88363    2.27    0.0231   0.902887  12.2154\n",
       "qsmk & decile: 4    2.35695      2.80785    0.84    0.4014  -3.15065    7.86456\n",
       "qsmk & decile: 5    4.13402      2.75459    1.50    0.1336  -1.26911    9.53715\n",
       "qsmk & decile: 6    4.56717      2.75769    1.66    0.0979  -0.842038   9.97638\n",
       "qsmk & decile: 7    4.33055      2.77623    1.56    0.1190  -1.11502    9.77612\n",
       "qsmk & decile: 8    3.58473      2.74355    1.31    0.1915  -1.79673    8.9662\n",
       "qsmk & decile: 9    2.3155       2.70006    0.86    0.3913  -2.98066    7.61166\n",
       "qsmk & decile: 10   2.25488      2.68724    0.84    0.4015  -3.01614    7.52591\n",
       "─────────────────────────────────────────────────────────────────────────────────"
      ]
     },
     "execution_count": 33,
     "metadata": {},
     "output_type": "execute_result"
    }
   ],
   "source": [
    "model = lm(@formula(wt82_71 ~ qsmk * decile), nhefs_all)"
   ]
  },
  {
   "cell_type": "markdown",
   "metadata": {},
   "source": [
    "To get the effect estimates, we'll calculate contrasts, like we did in Program 15.1"
   ]
  },
  {
   "cell_type": "code",
   "execution_count": 34,
   "metadata": {},
   "outputs": [
    {
     "name": "stdout",
     "output_type": "stream",
     "text": [
      "           estimate    95% C.I.\n",
      "\n",
      "decile  1     -0.0    (-4.7, 4.7)\n",
      "decile  2      4.1    ( 0.9, 7.4)\n",
      "decile  3      6.5    ( 3.4, 9.7)\n",
      "decile  4      2.3    (-0.5, 5.2)\n",
      "decile  5      4.1    ( 1.4, 6.8)\n",
      "decile  6      4.6    ( 1.9, 7.3)\n",
      "decile  7      4.3    ( 1.5, 7.1)\n",
      "decile  8      3.6    ( 0.9, 6.2)\n",
      "decile  9      2.3    (-0.2, 4.8)\n",
      "decile 10      2.2    (-0.2, 4.7)\n",
      "\n",
      "(using normal approximation)\n",
      "\n"
     ]
    }
   ],
   "source": [
    "# extract model coefficients and covariance matrix\n",
    "betas = reshape(coef(model), 20, 1)\n",
    "beta_cov = vcov(model)\n",
    "\n",
    "# create contrast arrays\n",
    "c1 = cat([1, 1], zeros(18), dims=1)    # for qsmk=1\n",
    "c2 = cat([1, 0], zeros(18), dims=1)    # for qsmk=0\n",
    "\n",
    "# loop through tests, modify c1 and c2 for each decile,\n",
    "# and print out effect estimate and confidence interval\n",
    "println(\"           estimate    95% C.I.\\n\")\n",
    "for i in 1:10\n",
    "    if i != 1\n",
    "        # set the decile number\n",
    "        c1[i + 1] = 1     # qsmk=1: set decile\n",
    "        c1[i + 10] = 1    # qsmk=1: set qsmk & decile term\n",
    "        c2[i + 1] = 1     # qsmk=0: set decile\n",
    "    end\n",
    "    \n",
    "    cdiff = reshape(c1 .- c2, 20, 1)\n",
    "\n",
    "    est = cdiff' * betas\n",
    "    ste = sqrt(cdiff' * beta_cov * cdiff)\n",
    "    lo = est - 1.96 * ste\n",
    "    hi = est + 1.96 * ste\n",
    "\n",
    "    @printf \"decile %2d    %5.1f    (%4.1f,%4.1f)\\n\" i est[1] lo[1] hi[1]\n",
    "    \n",
    "    if i != 1\n",
    "        # reset to zero\n",
    "        c1[i + 1] = 0\n",
    "        c1[i + 10] = 0\n",
    "        c2[i + 1] = 0\n",
    "    end\n",
    "end\n",
    "\n",
    "println(\"\\n(using normal approximation)\\n\")"
   ]
  },
  {
   "cell_type": "markdown",
   "metadata": {},
   "source": [
    "We can compare the estimates above to the estimate we get from a model without interaction between `qsmk` and deciles of $\\pi(L)$"
   ]
  },
  {
   "cell_type": "code",
   "execution_count": 35,
   "metadata": {},
   "outputs": [
    {
     "data": {
      "text/plain": [
       "StatsModels.TableRegressionModel{LinearModel{GLM.LmResp{Vector{Float64}}, GLM.DensePredChol{Float64, LinearAlgebra.CholeskyPivoted{Float64, Matrix{Float64}}}}, Matrix{Float64}}\n",
       "\n",
       "wt82_71 ~ 1 + qsmk + decile\n",
       "\n",
       "Coefficients:\n",
       "──────────────────────────────────────────────────────────────────────────\n",
       "                 Coef.  Std. Error      t  Pr(>|t|)  Lower 95%   Upper 95%\n",
       "──────────────────────────────────────────────────────────────────────────\n",
       "(Intercept)   3.75049     0.608914   6.16    <1e-09    2.55611   4.94487\n",
       "qsmk          3.50039     0.457059   7.66    <1e-13    2.60387   4.3969\n",
       "decile: 2    -0.739116    0.861052  -0.86    0.3908   -2.42806   0.94983\n",
       "decile: 3    -0.6182      0.861203  -0.72    0.4730   -2.30744   1.07104\n",
       "decile: 4    -0.520373    0.858385  -0.61    0.5445   -2.20409   1.16334\n",
       "decile: 5    -1.47923     0.860395  -1.72    0.0858   -3.16688   0.208429\n",
       "decile: 6    -1.6312      0.866063  -1.88    0.0598   -3.32997   0.0675734\n",
       "decile: 7    -1.98525     0.868104  -2.29    0.0223   -3.68802  -0.282468\n",
       "decile: 8    -3.44471     0.874909  -3.94    <1e-04   -5.16084  -1.72858\n",
       "decile: 9    -5.15435     0.884806  -5.83    <1e-08   -6.88989  -3.41881\n",
       "decile: 10   -4.84023     0.882758  -5.48    <1e-07   -6.57175  -3.1087\n",
       "──────────────────────────────────────────────────────────────────────────"
      ]
     },
     "execution_count": 35,
     "metadata": {},
     "output_type": "execute_result"
    }
   ],
   "source": [
    "model = lm(@formula(wt82_71 ~ qsmk + decile), nhefs_all)"
   ]
  },
  {
   "cell_type": "code",
   "execution_count": 36,
   "metadata": {},
   "outputs": [
    {
     "name": "stdout",
     "output_type": "stream",
     "text": [
      "         estimate   95% C.I.\n",
      "effect      3.5    (2.6, 4.4)"
     ]
    }
   ],
   "source": [
    "est = coef(model)[2]\n",
    "lo, hi = confint(model)[2, 1], confint(model)[2, 2]\n",
    "\n",
    "println(\"         estimate   95% C.I.\")\n",
    "@printf \"effect    %5.1f    (%0.1f, %0.1f)\" est lo hi"
   ]
  },
  {
   "cell_type": "markdown",
   "metadata": {},
   "source": [
    "### Program 15.4"
   ]
  },
  {
   "cell_type": "markdown",
   "metadata": {},
   "source": [
    "Now we will do \"outcome regression $\\mathrm{E}[Y|A, C=0, p(L)]$ with the estimated propensity score $\\pi(L)$ as a continuous covariate rather than as a set of indicators\" (pg 187)"
   ]
  },
  {
   "cell_type": "code",
   "execution_count": 37,
   "metadata": {},
   "outputs": [],
   "source": [
    "nhefs.propensity = propensity[.! ismissing.(nhefs_all.wt82_71)];"
   ]
  },
  {
   "cell_type": "code",
   "execution_count": 38,
   "metadata": {},
   "outputs": [
    {
     "data": {
      "text/plain": [
       "StatsModels.TableRegressionModel{LinearModel{GLM.LmResp{Vector{Float64}}, GLM.DensePredChol{Float64, LinearAlgebra.CholeskyPivoted{Float64, Matrix{Float64}}}}, Matrix{Float64}}\n",
       "\n",
       "wt82_71 ~ 1 + qsmk + propensity\n",
       "\n",
       "Coefficients:\n",
       "─────────────────────────────────────────────────────────────────────────\n",
       "                 Coef.  Std. Error      t  Pr(>|t|)  Lower 95%  Upper 95%\n",
       "─────────────────────────────────────────────────────────────────────────\n",
       "(Intercept)    5.59449    0.483076  11.58    <1e-29    4.64694    6.54204\n",
       "qsmk           3.5506     0.45726    7.76    <1e-13    2.65369    4.4475\n",
       "propensity   -14.8218     1.75758   -8.43    <1e-16  -18.2693   -11.3744\n",
       "─────────────────────────────────────────────────────────────────────────"
      ]
     },
     "execution_count": 38,
     "metadata": {},
     "output_type": "execute_result"
    }
   ],
   "source": [
    "model = lm(@formula(wt82_71 ~ qsmk + propensity), nhefs)"
   ]
  },
  {
   "cell_type": "markdown",
   "metadata": {},
   "source": [
    "From the coefficient on `qsmk` we can see the effect estimate is 3.6.\n",
    "\n",
    "We'll use bootstrap to get confidence intervals."
   ]
  },
  {
   "cell_type": "code",
   "execution_count": 39,
   "metadata": {},
   "outputs": [],
   "source": [
    "function outcome_regress_effect(data::DataFrame)\n",
    "    model = lm(@formula(wt82_71 ~ qsmk + propensity), data)\n",
    "    \n",
    "    data_qsmk_1 = copy(data)\n",
    "    data_qsmk_1.qsmk .= 1\n",
    "    \n",
    "    data_qsmk_0 = copy(data)\n",
    "    data_qsmk_0.qsmk .= 0\n",
    "    \n",
    "    mean_qsmk_1 = mean(predict(model, data_qsmk_1))\n",
    "    mean_qsmk_0 = mean(predict(model, data_qsmk_0))\n",
    "    \n",
    "    return mean_qsmk_1 - mean_qsmk_0\n",
    "end;"
   ]
  },
  {
   "cell_type": "code",
   "execution_count": 40,
   "metadata": {},
   "outputs": [],
   "source": [
    "function nonparametric_bootstrap(data, func; num_samples=1000)\n",
    "    estimate = func(data)\n",
    "    \n",
    "    b_values = zeros(num_samples)\n",
    "    for i in 1:num_samples\n",
    "        rand_indices = rand(1:nrow(data), nrow(data))\n",
    "        sample_data = data[rand_indices, :]\n",
    "        b_values[i] = func(sample_data)\n",
    "    end\n",
    "\n",
    "    std_val = std(b_values)\n",
    "\n",
    "    return estimate, (estimate - 1.96 * std_val, estimate + 1.96 * std_val)\n",
    "end;"
   ]
  },
  {
   "cell_type": "code",
   "execution_count": 41,
   "metadata": {},
   "outputs": [
    {
     "data": {
      "text/plain": [
       "(3.550595855838712, (2.59021228973868, 4.510979421938744))"
      ]
     },
     "execution_count": 41,
     "metadata": {},
     "output_type": "execute_result"
    }
   ],
   "source": [
    "data = nhefs[!, [:wt82_71, :qsmk, :propensity]]\n",
    "\n",
    "info = nonparametric_bootstrap(data, outcome_regress_effect, num_samples=2000)"
   ]
  },
  {
   "cell_type": "code",
   "execution_count": 42,
   "metadata": {},
   "outputs": [
    {
     "name": "stdout",
     "output_type": "stream",
     "text": [
      "         estimate   95% C.I.\n",
      "effect      3.6    (2.6, 4.5)"
     ]
    }
   ],
   "source": [
    "println(\"         estimate   95% C.I.\")\n",
    "@printf \"effect    %5.1f    (%0.1f, %0.1f)\" info[1] info[2][1] info[2][2]"
   ]
  }
 ],
 "metadata": {
  "anaconda-cloud": {},
  "kernelspec": {
   "display_name": "Julia 1.6.0",
   "language": "julia",
   "name": "julia-1.6"
  },
  "language_info": {
   "file_extension": ".jl",
   "mimetype": "application/julia",
   "name": "julia",
   "version": "1.6.0"
  }
 },
 "nbformat": 4,
 "nbformat_minor": 4
}
